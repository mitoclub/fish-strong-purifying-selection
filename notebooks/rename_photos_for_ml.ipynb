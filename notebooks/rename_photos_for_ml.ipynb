{
 "cells": [
  {
   "cell_type": "code",
   "execution_count": 1,
   "id": "c143ab76",
   "metadata": {},
   "outputs": [],
   "source": [
    "import os \n",
    "import pandas as pd\n",
    "import numpy as np"
   ]
  },
  {
   "cell_type": "code",
   "execution_count": 87,
   "id": "2152ed7e",
   "metadata": {},
   "outputs": [],
   "source": [
    "folder_name = '01.07.2023_2'\n",
    "cups_number = 3         # number of repetitives (dishes, not photos)"
   ]
  },
  {
   "cell_type": "code",
   "execution_count": 88,
   "id": "f48b70de",
   "metadata": {},
   "outputs": [],
   "source": [
    "path_to_photos = f'../photos 2023 ml/{folder_name}/'\n",
    "list_dir = os.listdir(path_to_photos)\n",
    "\n",
    "for filename in list_dir:\n",
    "    if not filename.startswith('DSC') or not filename.endswith('.ARW'):\n",
    "        list_dir.remove(filename)\n",
    "        \n",
    "list_dir = sorted(list_dir)"
   ]
  },
  {
   "cell_type": "code",
   "execution_count": 75,
   "id": "7b54dbd5",
   "metadata": {},
   "outputs": [
    {
     "data": {
      "text/plain": [
       "78"
      ]
     },
     "execution_count": 75,
     "metadata": {},
     "output_type": "execute_result"
    }
   ],
   "source": [
    "len(list_dir)"
   ]
  },
  {
   "cell_type": "code",
   "execution_count": 76,
   "id": "aab63eb3",
   "metadata": {},
   "outputs": [],
   "source": [
    "sheet_id = '16lq8VlvC4_rLqa9dednfVoeWIkSFhqukUIzCVGApW20'\n",
    "sheet_name = 'photos2023'\n",
    "url = f'https://docs.google.com/spreadsheets/d/{sheet_id}/gviz/tq?tqx=out:csv&sheet={sheet_name}'\n",
    "names = pd.read_csv(url)"
   ]
  },
  {
   "cell_type": "code",
   "execution_count": 77,
   "id": "3d073bfc",
   "metadata": {},
   "outputs": [
    {
     "data": {
      "text/html": [
       "<div>\n",
       "<style scoped>\n",
       "    .dataframe tbody tr th:only-of-type {\n",
       "        vertical-align: middle;\n",
       "    }\n",
       "\n",
       "    .dataframe tbody tr th {\n",
       "        vertical-align: top;\n",
       "    }\n",
       "\n",
       "    .dataframe thead th {\n",
       "        text-align: right;\n",
       "    }\n",
       "</style>\n",
       "<table border=\"1\" class=\"dataframe\">\n",
       "  <thead>\n",
       "    <tr style=\"text-align: right;\">\n",
       "      <th></th>\n",
       "      <th>12.06.2023</th>\n",
       "      <th>16.06.2023</th>\n",
       "      <th>19.06.2023</th>\n",
       "      <th>20.06.2023</th>\n",
       "      <th>21.06.2023</th>\n",
       "      <th>23.06.2023</th>\n",
       "      <th>28.06.2023</th>\n",
       "      <th>30.06.2023</th>\n",
       "      <th>01.07.2023_1</th>\n",
       "      <th>01.07.2023_2</th>\n",
       "    </tr>\n",
       "  </thead>\n",
       "  <tbody>\n",
       "    <tr>\n",
       "      <th>0</th>\n",
       "      <td>SCV_C</td>\n",
       "      <td>RCV_C</td>\n",
       "      <td>11_MG_37_180</td>\n",
       "      <td>11_MG_37_180</td>\n",
       "      <td>11_MG_C</td>\n",
       "      <td>B_C</td>\n",
       "      <td>22_M_C</td>\n",
       "      <td>22_C_C</td>\n",
       "      <td>8_M</td>\n",
       "      <td>CG_37_60</td>\n",
       "    </tr>\n",
       "    <tr>\n",
       "      <th>1</th>\n",
       "      <td>SCV_35_120</td>\n",
       "      <td>RCV_38_40</td>\n",
       "      <td>11_MG_37_120</td>\n",
       "      <td>11_MG_37_120</td>\n",
       "      <td>11_MG_38_30</td>\n",
       "      <td>B_38_20</td>\n",
       "      <td>22_C_C</td>\n",
       "      <td>11_M_38</td>\n",
       "      <td>7_M</td>\n",
       "      <td>CG_C</td>\n",
       "    </tr>\n",
       "    <tr>\n",
       "      <th>2</th>\n",
       "      <td>SCV_35_60</td>\n",
       "      <td>RCV_38_60</td>\n",
       "      <td>11_MG_C</td>\n",
       "      <td>11_MG_C</td>\n",
       "      <td>11_MV_38_30</td>\n",
       "      <td>B_38_30</td>\n",
       "      <td>21_M_C</td>\n",
       "      <td>11_C_38</td>\n",
       "      <td>6_M</td>\n",
       "      <td>CG_37_30</td>\n",
       "    </tr>\n",
       "    <tr>\n",
       "      <th>3</th>\n",
       "      <td>SCV_38_60</td>\n",
       "      <td>RCV_35_120</td>\n",
       "      <td>11_MG_38_30</td>\n",
       "      <td>11_MG_38_30</td>\n",
       "      <td>11_MV_38_40</td>\n",
       "      <td>B_C</td>\n",
       "      <td>21_C_C</td>\n",
       "      <td>12_M_38</td>\n",
       "      <td>5_M</td>\n",
       "      <td>CG_38_10</td>\n",
       "    </tr>\n",
       "    <tr>\n",
       "      <th>4</th>\n",
       "      <td>SCV_38_40</td>\n",
       "      <td>RCV_35_60</td>\n",
       "      <td>11_MV_38_30</td>\n",
       "      <td>11_MV_38_30</td>\n",
       "      <td>11_CV_38_30</td>\n",
       "      <td>B_38_40</td>\n",
       "      <td>11_C_C</td>\n",
       "      <td>12_C_38</td>\n",
       "      <td>4_M</td>\n",
       "      <td>CG_38_5</td>\n",
       "    </tr>\n",
       "  </tbody>\n",
       "</table>\n",
       "</div>"
      ],
      "text/plain": [
       "   12.06.2023  16.06.2023    19.06.2023    20.06.2023   21.06.2023 23.06.2023  \\\n",
       "0       SCV_C       RCV_C  11_MG_37_180  11_MG_37_180      11_MG_C        B_C   \n",
       "1  SCV_35_120   RCV_38_40  11_MG_37_120  11_MG_37_120  11_MG_38_30    B_38_20   \n",
       "2   SCV_35_60   RCV_38_60       11_MG_C       11_MG_C  11_MV_38_30    B_38_30   \n",
       "3   SCV_38_60  RCV_35_120   11_MG_38_30   11_MG_38_30  11_MV_38_40        B_C   \n",
       "4   SCV_38_40   RCV_35_60   11_MV_38_30   11_MV_38_30  11_CV_38_30    B_38_40   \n",
       "\n",
       "  28.06.2023 30.06.2023 01.07.2023_1 01.07.2023_2  \n",
       "0     22_M_C     22_C_C          8_M     CG_37_60  \n",
       "1     22_C_C    11_M_38          7_M         CG_C  \n",
       "2     21_M_C    11_C_38          6_M     CG_37_30  \n",
       "3     21_C_C    12_M_38          5_M     CG_38_10  \n",
       "4     11_C_C    12_C_38          4_M      CG_38_5  "
      ]
     },
     "execution_count": 77,
     "metadata": {},
     "output_type": "execute_result"
    }
   ],
   "source": [
    "names.head()"
   ]
  },
  {
   "cell_type": "code",
   "execution_count": 89,
   "id": "49c10145",
   "metadata": {},
   "outputs": [
    {
     "data": {
      "text/plain": [
       "['CG_37_60',\n",
       " 'CG_C',\n",
       " 'CG_37_30',\n",
       " 'CG_38_10',\n",
       " 'CG_38_5',\n",
       " 'MG_37_60',\n",
       " 'MG_37_30',\n",
       " 'MG_38_10',\n",
       " 'MG_38_5',\n",
       " 'MG_C']"
      ]
     },
     "execution_count": 89,
     "metadata": {},
     "output_type": "execute_result"
    }
   ],
   "source": [
    "exp_names = list(names[folder_name])\n",
    "exp_names = [x for x in exp_names if str(x) != 'nan']\n",
    "exp_names"
   ]
  },
  {
   "cell_type": "code",
   "execution_count": 90,
   "id": "81b9046b",
   "metadata": {},
   "outputs": [
    {
     "name": "stdout",
     "output_type": "stream",
     "text": [
      "40\n"
     ]
    }
   ],
   "source": [
    "# RUN if titles in photos (for Petry dishes)\n",
    "\n",
    "final_names = []\n",
    "for name in exp_names:    \n",
    "    for n in range(0, cups_number + 1):\n",
    "        if n == 0:\n",
    "            photo_code = name + '_' + '0_title' + '.ARW'\n",
    "            final_names.append(photo_code)\n",
    "            continue\n",
    "            \n",
    "        for c in range(1, 2):  # CHANGE IF NOT \"_r2\" !!!\n",
    "            photo_code = name + '_' + str(n) + '_r' + str(c) + '.ARW'\n",
    "            final_names.append(photo_code)\n",
    "            \n",
    "print(len(final_names))"
   ]
  },
  {
   "cell_type": "code",
   "execution_count": 61,
   "id": "828e0a0f",
   "metadata": {},
   "outputs": [
    {
     "name": "stdout",
     "output_type": "stream",
     "text": [
      "168\n"
     ]
    }
   ],
   "source": [
    "# RUN if titles NOT in photos (for white dishes)\n",
    "\n",
    "final_names = []\n",
    "for name in exp_names:    \n",
    "    for n in range(1, cups_number + 1):    \n",
    "        for c in range(1, 4):\n",
    "            photo_code = name + '_' + str(n) + '_r' + str(c) + '.ARW'\n",
    "            final_names.append(photo_code)\n",
    "            \n",
    "print(len(final_names))"
   ]
  },
  {
   "cell_type": "code",
   "execution_count": 91,
   "id": "74d20881",
   "metadata": {},
   "outputs": [
    {
     "data": {
      "text/plain": [
       "['CG_37_60_0_title.ARW',\n",
       " 'CG_37_60_1_r1.ARW',\n",
       " 'CG_37_60_2_r1.ARW',\n",
       " 'CG_37_60_3_r1.ARW',\n",
       " 'CG_C_0_title.ARW',\n",
       " 'CG_C_1_r1.ARW',\n",
       " 'CG_C_2_r1.ARW',\n",
       " 'CG_C_3_r1.ARW',\n",
       " 'CG_37_30_0_title.ARW',\n",
       " 'CG_37_30_1_r1.ARW',\n",
       " 'CG_37_30_2_r1.ARW',\n",
       " 'CG_37_30_3_r1.ARW',\n",
       " 'CG_38_10_0_title.ARW',\n",
       " 'CG_38_10_1_r1.ARW',\n",
       " 'CG_38_10_2_r1.ARW',\n",
       " 'CG_38_10_3_r1.ARW',\n",
       " 'CG_38_5_0_title.ARW',\n",
       " 'CG_38_5_1_r1.ARW',\n",
       " 'CG_38_5_2_r1.ARW',\n",
       " 'CG_38_5_3_r1.ARW',\n",
       " 'MG_37_60_0_title.ARW',\n",
       " 'MG_37_60_1_r1.ARW',\n",
       " 'MG_37_60_2_r1.ARW',\n",
       " 'MG_37_60_3_r1.ARW',\n",
       " 'MG_37_30_0_title.ARW',\n",
       " 'MG_37_30_1_r1.ARW',\n",
       " 'MG_37_30_2_r1.ARW',\n",
       " 'MG_37_30_3_r1.ARW',\n",
       " 'MG_38_10_0_title.ARW',\n",
       " 'MG_38_10_1_r1.ARW',\n",
       " 'MG_38_10_2_r1.ARW',\n",
       " 'MG_38_10_3_r1.ARW',\n",
       " 'MG_38_5_0_title.ARW',\n",
       " 'MG_38_5_1_r1.ARW',\n",
       " 'MG_38_5_2_r1.ARW',\n",
       " 'MG_38_5_3_r1.ARW',\n",
       " 'MG_C_0_title.ARW',\n",
       " 'MG_C_1_r1.ARW',\n",
       " 'MG_C_2_r1.ARW',\n",
       " 'MG_C_3_r1.ARW']"
      ]
     },
     "execution_count": 91,
     "metadata": {},
     "output_type": "execute_result"
    }
   ],
   "source": [
    "final_names"
   ]
  },
  {
   "cell_type": "code",
   "execution_count": 143,
   "id": "08a465ae",
   "metadata": {},
   "outputs": [
    {
     "data": {
      "text/plain": [
       "27"
      ]
     },
     "execution_count": 143,
     "metadata": {},
     "output_type": "execute_result"
    }
   ],
   "source": [
    "# some changes for 19.06.2023\n",
    "final_names.index('11_MG_C_1_r1.ARW')"
   ]
  },
  {
   "cell_type": "code",
   "execution_count": 144,
   "id": "437da9f2",
   "metadata": {},
   "outputs": [],
   "source": [
    "# some changes for 19.06.2023\n",
    "final_names[27] = '11_MG_C_4_r1.ARW'\n",
    "final_names[28] = '11_MG_C_4_r2.ARW'\n",
    "final_names[29] = '11_MG_C_4_r3.ARW'\n",
    "final_names[30] = '11_MG_C_1_r1.ARW'\n",
    "final_names[31] = '11_MG_C_1_r2.ARW'\n",
    "final_names[32] = '11_MG_C_1_r3.ARW'\n",
    "final_names[33] = '11_MG_C_3_r1.ARW'\n",
    "final_names[34] = '11_MG_C_3_r2.ARW'\n",
    "final_names[35] = '11_MG_C_3_r3.ARW'\n",
    "final_names[36] = '11_MG_C_2_r1.ARW'\n",
    "final_names[37] = '11_MG_C_2_r2.ARW'\n",
    "final_names[38] = '11_MG_C_2_r3.ARW'"
   ]
  },
  {
   "cell_type": "code",
   "execution_count": 181,
   "id": "4282574b",
   "metadata": {},
   "outputs": [],
   "source": [
    "# some changes for 20.06.2023\n",
    "final_names.remove('12_MG_C_2_r1.ARW')\n",
    "final_names.remove('12_MG_C_2_r2.ARW')\n",
    "final_names.remove('12_MG_C_2_r3.ARW')\n",
    "\n",
    "final_names.remove('22_CG_37_120_0_title.ARW')"
   ]
  },
  {
   "cell_type": "code",
   "execution_count": 220,
   "id": "6176af86",
   "metadata": {},
   "outputs": [],
   "source": [
    "# some changes for 21.06.2023\n",
    "final_names = final_names[:-13]\n",
    "final_names = final_names[4:] + final_names[0:4]\n",
    "\n",
    "final_names.remove('11_MG_38_30_1_r1.ARW')\n",
    "final_names.remove('11_MG_38_30_1_r2.ARW')\n",
    "final_names.remove('11_MG_38_30_1_r3.ARW')\n",
    "\n",
    "final_names.remove('11_CG_38_30_1_r1.ARW')\n",
    "final_names.remove('11_CG_38_30_1_r2.ARW')\n",
    "final_names.remove('11_CG_38_30_1_r3.ARW')\n",
    "final_names.remove('11_CG_38_30_3_r1.ARW')\n",
    "final_names.remove('11_CG_38_30_3_r2.ARW')\n",
    "final_names.remove('11_CG_38_30_3_r3.ARW')\n",
    "\n",
    "final_names.remove('21_MG_38_30_1_r1.ARW')\n",
    "final_names.remove('21_MG_38_30_1_r2.ARW')\n",
    "final_names.remove('21_MG_38_30_1_r3.ARW')\n",
    "final_names.remove('21_MG_38_30_4_r1.ARW')\n",
    "final_names.remove('21_MG_38_30_4_r2.ARW')\n",
    "final_names.remove('21_MG_38_30_4_r3.ARW')\n",
    "\n",
    "final_names.remove('21_CG_38_40_1_r1.ARW')\n",
    "final_names.remove('21_CG_38_40_1_r2.ARW')\n",
    "final_names.remove('21_CG_38_40_1_r3.ARW')\n",
    "final_names.remove('21_CG_38_40_2_r1.ARW')\n",
    "final_names.remove('21_CG_38_40_2_r2.ARW')\n",
    "final_names.remove('21_CG_38_40_2_r3.ARW')\n",
    "final_names.remove('21_CG_38_40_3_r1.ARW')\n",
    "final_names.remove('21_CG_38_40_3_r2.ARW')\n",
    "final_names.remove('21_CG_38_40_3_r3.ARW')\n",
    "\n",
    "temp_ind = final_names.index('21_CV_38_30_2_r1.ARW')\n",
    "final_names[temp_ind] = '21_CV_38_30_3_r1.ARW'\n",
    "final_names[temp_ind+1] = '21_CV_38_30_3_r2.ARW'\n",
    "final_names[temp_ind+2] = '21_CV_38_30_3_r3.ARW'\n",
    "final_names[temp_ind+3] = '21_CV_38_30_2_r1.ARW'\n",
    "final_names[temp_ind+4] = '21_CV_38_30_2_r2.ARW'\n",
    "final_names[temp_ind+5] = '21_CV_38_30_2_r3.ARW'\n",
    "\n",
    "final_names.remove('12_MG_C_2_r1.ARW')\n",
    "final_names.remove('12_MG_C_2_r2.ARW')\n",
    "final_names.remove('12_MG_C_2_r3.ARW')\n",
    "\n",
    "final_names.remove('12_CG_38_30_4_r1.ARW')\n",
    "final_names.remove('12_CG_38_30_4_r2.ARW')\n",
    "final_names.remove('12_CG_38_30_4_r3.ARW')\n",
    "\n",
    "temp_ind = final_names.index('12_CV_38_30_1_r1.ARW')\n",
    "final_names[temp_ind] = '12_CV_38_30_3_r1.ARW'\n",
    "final_names[temp_ind+1] = '12_CV_38_30_3_r2.ARW'\n",
    "final_names[temp_ind+2] = '12_CV_38_30_3_r3.ARW'\n",
    "final_names[temp_ind+3] = '12_CV_38_30_1_r1.ARW'\n",
    "final_names[temp_ind+4] = '12_CV_38_30_1_r2.ARW'\n",
    "final_names[temp_ind+5] = '12_CV_38_30_1_r3.ARW'\n",
    "final_names[temp_ind+6] = '12_CV_38_30_2_r1.ARW'\n",
    "final_names[temp_ind+7] = '12_CV_38_30_2_r2.ARW'\n",
    "final_names[temp_ind+8] = '12_CV_38_30_2_r3.ARW'\n",
    "final_names[temp_ind+9] = '12_CV_38_30_4_r1.ARW'\n",
    "final_names[temp_ind+10] = '12_CV_38_30_4_r2.ARW'\n",
    "final_names[temp_ind+11] = '12_CV_38_30_4_r3.ARW'\n",
    "\n",
    "final_names.remove('22_MG_38_30_1_r1.ARW')\n",
    "final_names.remove('22_MG_38_30_1_r2.ARW')\n",
    "final_names.remove('22_MG_38_30_1_r3.ARW')\n",
    "final_names.remove('22_MG_38_30_3_r1.ARW')\n",
    "final_names.remove('22_MG_38_30_3_r2.ARW')\n",
    "final_names.remove('22_MG_38_30_3_r3.ARW')\n",
    "final_names.remove('22_MG_38_30_4_r1.ARW')\n",
    "final_names.remove('22_MG_38_30_4_r2.ARW')\n",
    "final_names.remove('22_MG_38_30_4_r3.ARW')\n",
    "\n",
    "final_names.remove('22_MG_37_180_2_r1.ARW')\n",
    "final_names.remove('22_MG_37_180_2_r2.ARW')\n",
    "final_names.remove('22_MG_37_180_2_r3.ARW')\n",
    "final_names.remove('22_MG_37_180_3_r1.ARW')\n",
    "final_names.remove('22_MG_37_180_3_r2.ARW')\n",
    "final_names.remove('22_MG_37_180_3_r3.ARW')\n",
    "final_names.remove('22_MG_37_180_4_r1.ARW')\n",
    "final_names.remove('22_MG_37_180_4_r2.ARW')\n",
    "final_names.remove('22_MG_37_180_4_r3.ARW')\n",
    "\n",
    "final_names.remove('22_CG_38_30_1_r1.ARW')\n",
    "final_names.remove('22_CG_38_30_1_r2.ARW')\n",
    "final_names.remove('22_CG_38_30_1_r3.ARW')\n",
    "final_names.remove('22_CG_38_30_2_r1.ARW')\n",
    "final_names.remove('22_CG_38_30_2_r2.ARW')\n",
    "final_names.remove('22_CG_38_30_2_r3.ARW')\n",
    "final_names.remove('22_CG_38_30_3_r1.ARW')\n",
    "final_names.remove('22_CG_38_30_3_r2.ARW')\n",
    "final_names.remove('22_CG_38_30_3_r3.ARW')"
   ]
  },
  {
   "cell_type": "code",
   "execution_count": 35,
   "id": "95accb82",
   "metadata": {},
   "outputs": [],
   "source": [
    "# some changes for 23.06.2023\n",
    "final_names.remove('B_C_5_r1.ARW')\n",
    "final_names.remove('B_C_5_r2.ARW')\n",
    "final_names.remove('B_C_5_r3.ARW')\n",
    "\n",
    "temp_ind = final_names.index('B_C_5_r1.ARW')\n",
    "final_names = final_names[:temp_ind-12] + final_names[temp_ind:]"
   ]
  },
  {
   "cell_type": "code",
   "execution_count": null,
   "id": "a130a03e",
   "metadata": {},
   "outputs": [],
   "source": [
    "# some changes for 28.06.2023\n",
    "# no changes"
   ]
  },
  {
   "cell_type": "code",
   "execution_count": null,
   "id": "0e2e73d8",
   "metadata": {},
   "outputs": [],
   "source": [
    "# some changes for 30.06.2023\n",
    "# no changes"
   ]
  },
  {
   "cell_type": "code",
   "execution_count": 84,
   "id": "91f083ea",
   "metadata": {},
   "outputs": [],
   "source": [
    "# some changes for 01.07.2023_1\n",
    "final_names.remove('1_M_4_r1.ARW')"
   ]
  },
  {
   "cell_type": "code",
   "execution_count": null,
   "id": "4da976a1",
   "metadata": {},
   "outputs": [],
   "source": [
    "# some changes for 01.07.2023_2\n",
    "# no changes"
   ]
  },
  {
   "cell_type": "code",
   "execution_count": 92,
   "id": "b496a38c",
   "metadata": {},
   "outputs": [
    {
     "data": {
      "text/plain": [
       "40"
      ]
     },
     "execution_count": 92,
     "metadata": {},
     "output_type": "execute_result"
    }
   ],
   "source": [
    "len(final_names)"
   ]
  },
  {
   "cell_type": "code",
   "execution_count": 93,
   "id": "3e550dd5",
   "metadata": {},
   "outputs": [
    {
     "name": "stdout",
     "output_type": "stream",
     "text": [
      "../photos 2023 ml/01.07.2023_2/DSC01378.ARW ../photos 2023 ml/01.07.2023_2/CG_37_60_0_title.ARW\n",
      "../photos 2023 ml/01.07.2023_2/DSC01379.ARW ../photos 2023 ml/01.07.2023_2/CG_37_60_1_r1.ARW\n",
      "../photos 2023 ml/01.07.2023_2/DSC01380.ARW ../photos 2023 ml/01.07.2023_2/CG_37_60_2_r1.ARW\n",
      "../photos 2023 ml/01.07.2023_2/DSC01381.ARW ../photos 2023 ml/01.07.2023_2/CG_37_60_3_r1.ARW\n",
      "../photos 2023 ml/01.07.2023_2/DSC01382.ARW ../photos 2023 ml/01.07.2023_2/CG_C_0_title.ARW\n",
      "../photos 2023 ml/01.07.2023_2/DSC01383.ARW ../photos 2023 ml/01.07.2023_2/CG_C_1_r1.ARW\n",
      "../photos 2023 ml/01.07.2023_2/DSC01384.ARW ../photos 2023 ml/01.07.2023_2/CG_C_2_r1.ARW\n",
      "../photos 2023 ml/01.07.2023_2/DSC01385.ARW ../photos 2023 ml/01.07.2023_2/CG_C_3_r1.ARW\n",
      "../photos 2023 ml/01.07.2023_2/DSC01386.ARW ../photos 2023 ml/01.07.2023_2/CG_37_30_0_title.ARW\n",
      "../photos 2023 ml/01.07.2023_2/DSC01387.ARW ../photos 2023 ml/01.07.2023_2/CG_37_30_1_r1.ARW\n",
      "../photos 2023 ml/01.07.2023_2/DSC01388.ARW ../photos 2023 ml/01.07.2023_2/CG_37_30_2_r1.ARW\n",
      "../photos 2023 ml/01.07.2023_2/DSC01389.ARW ../photos 2023 ml/01.07.2023_2/CG_37_30_3_r1.ARW\n",
      "../photos 2023 ml/01.07.2023_2/DSC01390.ARW ../photos 2023 ml/01.07.2023_2/CG_38_10_0_title.ARW\n",
      "../photos 2023 ml/01.07.2023_2/DSC01391.ARW ../photos 2023 ml/01.07.2023_2/CG_38_10_1_r1.ARW\n",
      "../photos 2023 ml/01.07.2023_2/DSC01392.ARW ../photos 2023 ml/01.07.2023_2/CG_38_10_2_r1.ARW\n",
      "../photos 2023 ml/01.07.2023_2/DSC01393.ARW ../photos 2023 ml/01.07.2023_2/CG_38_10_3_r1.ARW\n",
      "../photos 2023 ml/01.07.2023_2/DSC01394.ARW ../photos 2023 ml/01.07.2023_2/CG_38_5_0_title.ARW\n",
      "../photos 2023 ml/01.07.2023_2/DSC01395.ARW ../photos 2023 ml/01.07.2023_2/CG_38_5_1_r1.ARW\n",
      "../photos 2023 ml/01.07.2023_2/DSC01396.ARW ../photos 2023 ml/01.07.2023_2/CG_38_5_2_r1.ARW\n",
      "../photos 2023 ml/01.07.2023_2/DSC01398.ARW ../photos 2023 ml/01.07.2023_2/CG_38_5_3_r1.ARW\n",
      "../photos 2023 ml/01.07.2023_2/DSC01399.ARW ../photos 2023 ml/01.07.2023_2/MG_37_60_0_title.ARW\n",
      "../photos 2023 ml/01.07.2023_2/DSC01400.ARW ../photos 2023 ml/01.07.2023_2/MG_37_60_1_r1.ARW\n",
      "../photos 2023 ml/01.07.2023_2/DSC01402.ARW ../photos 2023 ml/01.07.2023_2/MG_37_60_2_r1.ARW\n",
      "../photos 2023 ml/01.07.2023_2/DSC01403.ARW ../photos 2023 ml/01.07.2023_2/MG_37_60_3_r1.ARW\n",
      "../photos 2023 ml/01.07.2023_2/DSC01404.ARW ../photos 2023 ml/01.07.2023_2/MG_37_30_0_title.ARW\n",
      "../photos 2023 ml/01.07.2023_2/DSC01406.ARW ../photos 2023 ml/01.07.2023_2/MG_37_30_1_r1.ARW\n",
      "../photos 2023 ml/01.07.2023_2/DSC01408.ARW ../photos 2023 ml/01.07.2023_2/MG_37_30_2_r1.ARW\n",
      "../photos 2023 ml/01.07.2023_2/DSC01409.ARW ../photos 2023 ml/01.07.2023_2/MG_37_30_3_r1.ARW\n",
      "../photos 2023 ml/01.07.2023_2/DSC01410.ARW ../photos 2023 ml/01.07.2023_2/MG_38_10_0_title.ARW\n",
      "../photos 2023 ml/01.07.2023_2/DSC01411.ARW ../photos 2023 ml/01.07.2023_2/MG_38_10_1_r1.ARW\n",
      "../photos 2023 ml/01.07.2023_2/DSC01412.ARW ../photos 2023 ml/01.07.2023_2/MG_38_10_2_r1.ARW\n",
      "../photos 2023 ml/01.07.2023_2/DSC01414.ARW ../photos 2023 ml/01.07.2023_2/MG_38_10_3_r1.ARW\n",
      "../photos 2023 ml/01.07.2023_2/DSC01415.ARW ../photos 2023 ml/01.07.2023_2/MG_38_5_0_title.ARW\n",
      "../photos 2023 ml/01.07.2023_2/DSC01416.ARW ../photos 2023 ml/01.07.2023_2/MG_38_5_1_r1.ARW\n",
      "../photos 2023 ml/01.07.2023_2/DSC01417.ARW ../photos 2023 ml/01.07.2023_2/MG_38_5_2_r1.ARW\n",
      "../photos 2023 ml/01.07.2023_2/DSC01418.ARW ../photos 2023 ml/01.07.2023_2/MG_38_5_3_r1.ARW\n",
      "../photos 2023 ml/01.07.2023_2/DSC01419.ARW ../photos 2023 ml/01.07.2023_2/MG_C_0_title.ARW\n",
      "../photos 2023 ml/01.07.2023_2/DSC01420.ARW ../photos 2023 ml/01.07.2023_2/MG_C_1_r1.ARW\n",
      "../photos 2023 ml/01.07.2023_2/DSC01421.ARW ../photos 2023 ml/01.07.2023_2/MG_C_2_r1.ARW\n",
      "../photos 2023 ml/01.07.2023_2/DSC01422.ARW ../photos 2023 ml/01.07.2023_2/MG_C_3_r1.ARW\n"
     ]
    }
   ],
   "source": [
    "for i, file in enumerate(list_dir):\n",
    "    print(os.path.join(path_to_photos, file), os.path.join(path_to_photos, final_names[i]))\n",
    "    os.rename(os.path.join(path_to_photos, file), os.path.join(path_to_photos, final_names[i]))"
   ]
  }
 ],
 "metadata": {
  "kernelspec": {
   "display_name": "Python 3 (ipykernel)",
   "language": "python",
   "name": "python3"
  },
  "language_info": {
   "codemirror_mode": {
    "name": "ipython",
    "version": 3
   },
   "file_extension": ".py",
   "mimetype": "text/x-python",
   "name": "python",
   "nbconvert_exporter": "python",
   "pygments_lexer": "ipython3",
   "version": "3.10.8"
  }
 },
 "nbformat": 4,
 "nbformat_minor": 5
}
