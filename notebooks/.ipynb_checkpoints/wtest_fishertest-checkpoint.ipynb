{
 "cells": [
  {
   "cell_type": "code",
   "execution_count": 2,
   "id": "5653dbb1",
   "metadata": {},
   "outputs": [],
   "source": [
    "import pandas as pd\n",
    "import numpy as np\n",
    "from scipy.stats import fisher_exact"
   ]
  },
  {
   "cell_type": "code",
   "execution_count": 13,
   "id": "f7547cda",
   "metadata": {},
   "outputs": [],
   "source": [
    "sheet_id = '1aqHnDaiRXntyrbj6qaqzR-4XnLbvtKU84FB_JLu5x5A'\n",
    "sheet_name = 'EXP_5_main_lab'\n",
    "url = f'https://docs.google.com/spreadsheets/d/{sheet_id}/gviz/tq?tqx=out:csv&sheet={sheet_name}'\n",
    "exp5lab = pd.read_csv(url)"
   ]
  },
  {
   "cell_type": "code",
   "execution_count": 14,
   "id": "053b43a5",
   "metadata": {},
   "outputs": [],
   "source": [
    "exp5lab.FEMALE = exp5lab.FEMALE.astype(str)\n",
    "exp5lab.MALE = exp5lab.MALE.astype(str)\n",
    "exp5lab.TEMP = exp5lab.TEMP.astype(str)\n",
    "\n",
    "exp5lab.FERT_PERC = exp5lab.FERT_PERC.str.replace(',', '.')\n",
    "exp5lab.FERT_PERC = pd.to_numeric(exp5lab.FERT_PERC)\n",
    "\n",
    "exp5lab.SWIM_PERC = exp5lab.SWIM_PERC.str.replace(',', '.')\n",
    "exp5lab.SWIM_PERC = pd.to_numeric(exp5lab.SWIM_PERC)\n",
    "\n",
    "exp5lab['FAMILY'] = exp5lab.FEMALE + 'x' + exp5lab.MALE\n",
    "exp5lab['CODE_FULL'] = exp5lab.CODE + exp5lab.CUP_NUMBER.astype(str)"
   ]
  },
  {
   "cell_type": "code",
   "execution_count": 15,
   "id": "39f446f9",
   "metadata": {
    "scrolled": true
   },
   "outputs": [
    {
     "data": {
      "text/html": [
       "<div>\n",
       "<style scoped>\n",
       "    .dataframe tbody tr th:only-of-type {\n",
       "        vertical-align: middle;\n",
       "    }\n",
       "\n",
       "    .dataframe tbody tr th {\n",
       "        vertical-align: top;\n",
       "    }\n",
       "\n",
       "    .dataframe thead th {\n",
       "        text-align: right;\n",
       "    }\n",
       "</style>\n",
       "<table border=\"1\" class=\"dataframe\">\n",
       "  <thead>\n",
       "    <tr style=\"text-align: right;\">\n",
       "      <th></th>\n",
       "      <th>№</th>\n",
       "      <th>CODE</th>\n",
       "      <th>CUP_NUMBER</th>\n",
       "      <th>FEMALE</th>\n",
       "      <th>MALE</th>\n",
       "      <th>MUT</th>\n",
       "      <th>TEMP</th>\n",
       "      <th>TIME</th>\n",
       "      <th>DEAD</th>\n",
       "      <th>FERT</th>\n",
       "      <th>...</th>\n",
       "      <th>SHOCK_ALIVE</th>\n",
       "      <th>SHOCK_NAME</th>\n",
       "      <th>HATCHED_DEAD</th>\n",
       "      <th>HATCHED_ALIVE</th>\n",
       "      <th>HATCHED_NAME</th>\n",
       "      <th>SWIM</th>\n",
       "      <th>SWIM_NAME</th>\n",
       "      <th>SWIM_PERC</th>\n",
       "      <th>FAMILY</th>\n",
       "      <th>CODE_FULL</th>\n",
       "    </tr>\n",
       "  </thead>\n",
       "  <tbody>\n",
       "    <tr>\n",
       "      <th>0</th>\n",
       "      <td>1</td>\n",
       "      <td>11CC</td>\n",
       "      <td>1</td>\n",
       "      <td>1</td>\n",
       "      <td>1</td>\n",
       "      <td>C</td>\n",
       "      <td>C</td>\n",
       "      <td>NaN</td>\n",
       "      <td>5</td>\n",
       "      <td>37</td>\n",
       "      <td>...</td>\n",
       "      <td>37</td>\n",
       "      <td>Polina</td>\n",
       "      <td>0</td>\n",
       "      <td>37</td>\n",
       "      <td>Sasha</td>\n",
       "      <td>33</td>\n",
       "      <td>Vika</td>\n",
       "      <td>89.189189</td>\n",
       "      <td>1x1</td>\n",
       "      <td>11CC1</td>\n",
       "    </tr>\n",
       "    <tr>\n",
       "      <th>1</th>\n",
       "      <td>2</td>\n",
       "      <td>11CC</td>\n",
       "      <td>2</td>\n",
       "      <td>1</td>\n",
       "      <td>1</td>\n",
       "      <td>C</td>\n",
       "      <td>C</td>\n",
       "      <td>NaN</td>\n",
       "      <td>2</td>\n",
       "      <td>42</td>\n",
       "      <td>...</td>\n",
       "      <td>41</td>\n",
       "      <td>Polina</td>\n",
       "      <td>1</td>\n",
       "      <td>40</td>\n",
       "      <td>Sasha</td>\n",
       "      <td>33</td>\n",
       "      <td>Vika</td>\n",
       "      <td>78.571429</td>\n",
       "      <td>1x1</td>\n",
       "      <td>11CC2</td>\n",
       "    </tr>\n",
       "    <tr>\n",
       "      <th>2</th>\n",
       "      <td>3</td>\n",
       "      <td>11CC</td>\n",
       "      <td>3</td>\n",
       "      <td>1</td>\n",
       "      <td>1</td>\n",
       "      <td>C</td>\n",
       "      <td>C</td>\n",
       "      <td>NaN</td>\n",
       "      <td>5</td>\n",
       "      <td>33</td>\n",
       "      <td>...</td>\n",
       "      <td>31</td>\n",
       "      <td>Polina</td>\n",
       "      <td>2</td>\n",
       "      <td>29</td>\n",
       "      <td>Sasha</td>\n",
       "      <td>26</td>\n",
       "      <td>Vika</td>\n",
       "      <td>78.787879</td>\n",
       "      <td>1x1</td>\n",
       "      <td>11CC3</td>\n",
       "    </tr>\n",
       "    <tr>\n",
       "      <th>3</th>\n",
       "      <td>4</td>\n",
       "      <td>11CC</td>\n",
       "      <td>4</td>\n",
       "      <td>1</td>\n",
       "      <td>1</td>\n",
       "      <td>C</td>\n",
       "      <td>C</td>\n",
       "      <td>NaN</td>\n",
       "      <td>11</td>\n",
       "      <td>38</td>\n",
       "      <td>...</td>\n",
       "      <td>37</td>\n",
       "      <td>Polina</td>\n",
       "      <td>2</td>\n",
       "      <td>35</td>\n",
       "      <td>Sasha</td>\n",
       "      <td>32</td>\n",
       "      <td>Vika</td>\n",
       "      <td>84.210526</td>\n",
       "      <td>1x1</td>\n",
       "      <td>11CC4</td>\n",
       "    </tr>\n",
       "    <tr>\n",
       "      <th>4</th>\n",
       "      <td>5</td>\n",
       "      <td>12CC</td>\n",
       "      <td>1</td>\n",
       "      <td>1</td>\n",
       "      <td>2</td>\n",
       "      <td>C</td>\n",
       "      <td>C</td>\n",
       "      <td>NaN</td>\n",
       "      <td>4</td>\n",
       "      <td>58</td>\n",
       "      <td>...</td>\n",
       "      <td>59</td>\n",
       "      <td>Lera</td>\n",
       "      <td>10</td>\n",
       "      <td>49</td>\n",
       "      <td>Vika</td>\n",
       "      <td>45</td>\n",
       "      <td>Polina</td>\n",
       "      <td>77.586207</td>\n",
       "      <td>1x2</td>\n",
       "      <td>12CC1</td>\n",
       "    </tr>\n",
       "    <tr>\n",
       "      <th>...</th>\n",
       "      <td>...</td>\n",
       "      <td>...</td>\n",
       "      <td>...</td>\n",
       "      <td>...</td>\n",
       "      <td>...</td>\n",
       "      <td>...</td>\n",
       "      <td>...</td>\n",
       "      <td>...</td>\n",
       "      <td>...</td>\n",
       "      <td>...</td>\n",
       "      <td>...</td>\n",
       "      <td>...</td>\n",
       "      <td>...</td>\n",
       "      <td>...</td>\n",
       "      <td>...</td>\n",
       "      <td>...</td>\n",
       "      <td>...</td>\n",
       "      <td>...</td>\n",
       "      <td>...</td>\n",
       "      <td>...</td>\n",
       "      <td>...</td>\n",
       "    </tr>\n",
       "    <tr>\n",
       "      <th>59</th>\n",
       "      <td>60</td>\n",
       "      <td>21M38</td>\n",
       "      <td>4</td>\n",
       "      <td>2</td>\n",
       "      <td>1</td>\n",
       "      <td>M</td>\n",
       "      <td>38</td>\n",
       "      <td>40.0</td>\n",
       "      <td>3</td>\n",
       "      <td>54</td>\n",
       "      <td>...</td>\n",
       "      <td>53</td>\n",
       "      <td>Alya(d)+Lera(a)</td>\n",
       "      <td>3</td>\n",
       "      <td>50</td>\n",
       "      <td>Vika</td>\n",
       "      <td>33</td>\n",
       "      <td>Vika</td>\n",
       "      <td>61.111111</td>\n",
       "      <td>2x1</td>\n",
       "      <td>21M384</td>\n",
       "    </tr>\n",
       "    <tr>\n",
       "      <th>60</th>\n",
       "      <td>61</td>\n",
       "      <td>22M38</td>\n",
       "      <td>1</td>\n",
       "      <td>2</td>\n",
       "      <td>2</td>\n",
       "      <td>M</td>\n",
       "      <td>38</td>\n",
       "      <td>40.0</td>\n",
       "      <td>2</td>\n",
       "      <td>40</td>\n",
       "      <td>...</td>\n",
       "      <td>40</td>\n",
       "      <td>Lera</td>\n",
       "      <td>4</td>\n",
       "      <td>36</td>\n",
       "      <td>Vika</td>\n",
       "      <td>34</td>\n",
       "      <td>Polina</td>\n",
       "      <td>85.000000</td>\n",
       "      <td>2x2</td>\n",
       "      <td>22M381</td>\n",
       "    </tr>\n",
       "    <tr>\n",
       "      <th>61</th>\n",
       "      <td>62</td>\n",
       "      <td>22M38</td>\n",
       "      <td>2</td>\n",
       "      <td>2</td>\n",
       "      <td>2</td>\n",
       "      <td>M</td>\n",
       "      <td>38</td>\n",
       "      <td>40.0</td>\n",
       "      <td>2</td>\n",
       "      <td>43</td>\n",
       "      <td>...</td>\n",
       "      <td>40</td>\n",
       "      <td>Lera</td>\n",
       "      <td>4</td>\n",
       "      <td>36</td>\n",
       "      <td>Vika</td>\n",
       "      <td>35</td>\n",
       "      <td>Polina</td>\n",
       "      <td>81.395349</td>\n",
       "      <td>2x2</td>\n",
       "      <td>22M382</td>\n",
       "    </tr>\n",
       "    <tr>\n",
       "      <th>62</th>\n",
       "      <td>63</td>\n",
       "      <td>22M38</td>\n",
       "      <td>3</td>\n",
       "      <td>2</td>\n",
       "      <td>2</td>\n",
       "      <td>M</td>\n",
       "      <td>38</td>\n",
       "      <td>40.0</td>\n",
       "      <td>0</td>\n",
       "      <td>58</td>\n",
       "      <td>...</td>\n",
       "      <td>55</td>\n",
       "      <td>Lera</td>\n",
       "      <td>1</td>\n",
       "      <td>54</td>\n",
       "      <td>Vika</td>\n",
       "      <td>50</td>\n",
       "      <td>Polina</td>\n",
       "      <td>86.206897</td>\n",
       "      <td>2x2</td>\n",
       "      <td>22M383</td>\n",
       "    </tr>\n",
       "    <tr>\n",
       "      <th>63</th>\n",
       "      <td>64</td>\n",
       "      <td>22M38</td>\n",
       "      <td>4</td>\n",
       "      <td>2</td>\n",
       "      <td>2</td>\n",
       "      <td>M</td>\n",
       "      <td>38</td>\n",
       "      <td>40.0</td>\n",
       "      <td>3</td>\n",
       "      <td>50</td>\n",
       "      <td>...</td>\n",
       "      <td>48</td>\n",
       "      <td>Lera</td>\n",
       "      <td>1</td>\n",
       "      <td>47</td>\n",
       "      <td>Vika</td>\n",
       "      <td>42</td>\n",
       "      <td>Polina</td>\n",
       "      <td>84.000000</td>\n",
       "      <td>2x2</td>\n",
       "      <td>22M384</td>\n",
       "    </tr>\n",
       "  </tbody>\n",
       "</table>\n",
       "<p>64 rows × 24 columns</p>\n",
       "</div>"
      ],
      "text/plain": [
       "     №   CODE  CUP_NUMBER FEMALE MALE MUT TEMP  TIME  DEAD  FERT  ...  \\\n",
       "0    1   11CC           1      1    1   C    C   NaN     5    37  ...   \n",
       "1    2   11CC           2      1    1   C    C   NaN     2    42  ...   \n",
       "2    3   11CC           3      1    1   C    C   NaN     5    33  ...   \n",
       "3    4   11CC           4      1    1   C    C   NaN    11    38  ...   \n",
       "4    5   12CC           1      1    2   C    C   NaN     4    58  ...   \n",
       "..  ..    ...         ...    ...  ...  ..  ...   ...   ...   ...  ...   \n",
       "59  60  21M38           4      2    1   M   38  40.0     3    54  ...   \n",
       "60  61  22M38           1      2    2   M   38  40.0     2    40  ...   \n",
       "61  62  22M38           2      2    2   M   38  40.0     2    43  ...   \n",
       "62  63  22M38           3      2    2   M   38  40.0     0    58  ...   \n",
       "63  64  22M38           4      2    2   M   38  40.0     3    50  ...   \n",
       "\n",
       "   SHOCK_ALIVE       SHOCK_NAME  HATCHED_DEAD  HATCHED_ALIVE  HATCHED_NAME  \\\n",
       "0           37           Polina             0             37         Sasha   \n",
       "1           41           Polina             1             40         Sasha   \n",
       "2           31           Polina             2             29         Sasha   \n",
       "3           37           Polina             2             35         Sasha   \n",
       "4           59             Lera            10             49          Vika   \n",
       "..         ...              ...           ...            ...           ...   \n",
       "59          53  Alya(d)+Lera(a)             3             50          Vika   \n",
       "60          40             Lera             4             36          Vika   \n",
       "61          40             Lera             4             36          Vika   \n",
       "62          55             Lera             1             54          Vika   \n",
       "63          48             Lera             1             47          Vika   \n",
       "\n",
       "   SWIM  SWIM_NAME  SWIM_PERC FAMILY  CODE_FULL  \n",
       "0    33       Vika  89.189189    1x1      11CC1  \n",
       "1    33       Vika  78.571429    1x1      11CC2  \n",
       "2    26       Vika  78.787879    1x1      11CC3  \n",
       "3    32       Vika  84.210526    1x1      11CC4  \n",
       "4    45     Polina  77.586207    1x2      12CC1  \n",
       "..  ...        ...        ...    ...        ...  \n",
       "59   33       Vika  61.111111    2x1     21M384  \n",
       "60   34     Polina  85.000000    2x2     22M381  \n",
       "61   35     Polina  81.395349    2x2     22M382  \n",
       "62   50     Polina  86.206897    2x2     22M383  \n",
       "63   42     Polina  84.000000    2x2     22M384  \n",
       "\n",
       "[64 rows x 24 columns]"
      ]
     },
     "execution_count": 15,
     "metadata": {},
     "output_type": "execute_result"
    }
   ],
   "source": [
    "exp5lab"
   ]
  },
  {
   "cell_type": "code",
   "execution_count": 7,
   "id": "719151c4",
   "metadata": {},
   "outputs": [
    {
     "data": {
      "text/plain": [
       "Index(['№', 'CODE', 'CUP_NUMBER', 'FEMALE', 'MALE', 'MUT', 'TEMP', 'TIME',\n",
       "       'DEAD', 'FERT', 'FERT_NAME', 'TOTAL', 'FERT_PERC', 'SHOCK_DEAD',\n",
       "       'SHOCK_ALIVE', 'SHOCK_NAME', 'HATCHED_DEAD', 'HATCHED_ALIVE',\n",
       "       'HATCHED_NAME', 'SWIM', 'SWIM_NAME', 'SWIM_PERC', 'FAMILY'],\n",
       "      dtype='object')"
      ]
     },
     "execution_count": 7,
     "metadata": {},
     "output_type": "execute_result"
    }
   ],
   "source": [
    "exp5lab.columns"
   ]
  },
  {
   "cell_type": "markdown",
   "id": "95e10182",
   "metadata": {},
   "source": [
    "genotype:    \n",
    "mutagen      \n",
    "shock      \n",
    "family???? (separate - 1 family 1 file???)      \n",
    "     \n",
    "      \n",
    "phenotype:     \n",
    "swim 1/0    \n",
    "от чего считать???? фертилизация? тотал?"
   ]
  },
  {
   "cell_type": "code",
   "execution_count": 19,
   "id": "15f28edf",
   "metadata": {},
   "outputs": [],
   "source": [
    "code = []\n",
    "mut = []\n",
    "shock = []\n",
    "swim = []\n",
    "\n",
    "for row in exp5lab.index:\n",
    "    total_count = int(exp5lab.loc[row, 'TOTAL'])\n",
    "    swim_count = int(exp5lab.loc[row, 'SWIM'])\n",
    "    \n",
    "    code += [exp5lab.loc[row, 'CODE_FULL']] * total_count\n",
    "    mut += ([1] * total_count) if exp5lab.loc[row, 'MUT'] == 'M' else ([0] * total_count)\n",
    "    shock += ([1] * total_count) if exp5lab.loc[row, 'TEMP'] == '38' else ([0] * total_count)\n",
    "    \n",
    "    swim += [1] * swim_count\n",
    "    swim += [0] * (total_count - swim_count)"
   ]
  },
  {
   "cell_type": "code",
   "execution_count": 20,
   "id": "99ce3ae9",
   "metadata": {},
   "outputs": [],
   "source": [
    "ind_data = pd.DataFrame({'CODE': code, 'MUT': mut, 'SHOCK': shock, 'SWIM': swim})"
   ]
  },
  {
   "cell_type": "code",
   "execution_count": 26,
   "id": "df0cbfc0",
   "metadata": {},
   "outputs": [
    {
     "data": {
      "text/html": [
       "<div>\n",
       "<style scoped>\n",
       "    .dataframe tbody tr th:only-of-type {\n",
       "        vertical-align: middle;\n",
       "    }\n",
       "\n",
       "    .dataframe tbody tr th {\n",
       "        vertical-align: top;\n",
       "    }\n",
       "\n",
       "    .dataframe thead th {\n",
       "        text-align: right;\n",
       "    }\n",
       "</style>\n",
       "<table border=\"1\" class=\"dataframe\">\n",
       "  <thead>\n",
       "    <tr style=\"text-align: right;\">\n",
       "      <th></th>\n",
       "      <th>index</th>\n",
       "      <th>CODE</th>\n",
       "      <th>MUT</th>\n",
       "      <th>SHOCK</th>\n",
       "      <th>SWIM</th>\n",
       "    </tr>\n",
       "  </thead>\n",
       "  <tbody>\n",
       "    <tr>\n",
       "      <th>0</th>\n",
       "      <td>0</td>\n",
       "      <td>11CC1</td>\n",
       "      <td>0</td>\n",
       "      <td>0</td>\n",
       "      <td>1</td>\n",
       "    </tr>\n",
       "    <tr>\n",
       "      <th>1</th>\n",
       "      <td>1</td>\n",
       "      <td>11CC1</td>\n",
       "      <td>0</td>\n",
       "      <td>0</td>\n",
       "      <td>1</td>\n",
       "    </tr>\n",
       "    <tr>\n",
       "      <th>2</th>\n",
       "      <td>2</td>\n",
       "      <td>11CC1</td>\n",
       "      <td>0</td>\n",
       "      <td>0</td>\n",
       "      <td>1</td>\n",
       "    </tr>\n",
       "    <tr>\n",
       "      <th>3</th>\n",
       "      <td>3</td>\n",
       "      <td>11CC1</td>\n",
       "      <td>0</td>\n",
       "      <td>0</td>\n",
       "      <td>1</td>\n",
       "    </tr>\n",
       "    <tr>\n",
       "      <th>4</th>\n",
       "      <td>4</td>\n",
       "      <td>11CC1</td>\n",
       "      <td>0</td>\n",
       "      <td>0</td>\n",
       "      <td>1</td>\n",
       "    </tr>\n",
       "    <tr>\n",
       "      <th>...</th>\n",
       "      <td>...</td>\n",
       "      <td>...</td>\n",
       "      <td>...</td>\n",
       "      <td>...</td>\n",
       "      <td>...</td>\n",
       "    </tr>\n",
       "    <tr>\n",
       "      <th>2770</th>\n",
       "      <td>2770</td>\n",
       "      <td>22M384</td>\n",
       "      <td>1</td>\n",
       "      <td>1</td>\n",
       "      <td>0</td>\n",
       "    </tr>\n",
       "    <tr>\n",
       "      <th>2771</th>\n",
       "      <td>2771</td>\n",
       "      <td>22M384</td>\n",
       "      <td>1</td>\n",
       "      <td>1</td>\n",
       "      <td>0</td>\n",
       "    </tr>\n",
       "    <tr>\n",
       "      <th>2772</th>\n",
       "      <td>2772</td>\n",
       "      <td>22M384</td>\n",
       "      <td>1</td>\n",
       "      <td>1</td>\n",
       "      <td>0</td>\n",
       "    </tr>\n",
       "    <tr>\n",
       "      <th>2773</th>\n",
       "      <td>2773</td>\n",
       "      <td>22M384</td>\n",
       "      <td>1</td>\n",
       "      <td>1</td>\n",
       "      <td>0</td>\n",
       "    </tr>\n",
       "    <tr>\n",
       "      <th>2774</th>\n",
       "      <td>2774</td>\n",
       "      <td>22M384</td>\n",
       "      <td>1</td>\n",
       "      <td>1</td>\n",
       "      <td>0</td>\n",
       "    </tr>\n",
       "  </tbody>\n",
       "</table>\n",
       "<p>2775 rows × 5 columns</p>\n",
       "</div>"
      ],
      "text/plain": [
       "      index    CODE  MUT  SHOCK  SWIM\n",
       "0         0   11CC1    0      0     1\n",
       "1         1   11CC1    0      0     1\n",
       "2         2   11CC1    0      0     1\n",
       "3         3   11CC1    0      0     1\n",
       "4         4   11CC1    0      0     1\n",
       "...     ...     ...  ...    ...   ...\n",
       "2770   2770  22M384    1      1     0\n",
       "2771   2771  22M384    1      1     0\n",
       "2772   2772  22M384    1      1     0\n",
       "2773   2773  22M384    1      1     0\n",
       "2774   2774  22M384    1      1     0\n",
       "\n",
       "[2775 rows x 5 columns]"
      ]
     },
     "execution_count": 26,
     "metadata": {},
     "output_type": "execute_result"
    }
   ],
   "source": [
    "ind_data.reset_index(inplace=True)\n",
    "ind_data"
   ]
  },
  {
   "cell_type": "code",
   "execution_count": null,
   "id": "6fc1d141",
   "metadata": {},
   "outputs": [],
   "source": [
    "ind_data[['MUT', 'SHOCK']].to_csv('/Users/emulciber/MitoClub/fish-strong-purifying-selection/scripts/w-test/genotype.txt', sep='\\t', index=False)\n",
    "ind_data[['index', 'SWIM']].to_csv('/Users/emulciber/MitoClub/fish-strong-purifying-selection/scripts/w-test/phenotype.txt', sep='\\t', index=False, header=False)"
   ]
  },
  {
   "cell_type": "markdown",
   "id": "1c51bfc4",
   "metadata": {},
   "source": [
    "# FISHER TEST"
   ]
  },
  {
   "cell_type": "markdown",
   "id": "b11b87af",
   "metadata": {},
   "source": [
    "## EXP 5"
   ]
  },
  {
   "cell_type": "code",
   "execution_count": 31,
   "id": "5d1a15e3",
   "metadata": {},
   "outputs": [],
   "source": [
    "ind_data['MUT_SHOCK'] = ind_data.MUT.astype(str) + ind_data.SHOCK.astype(str)"
   ]
  },
  {
   "cell_type": "markdown",
   "id": "fbaacde8",
   "metadata": {},
   "source": [
    "### For all families"
   ]
  },
  {
   "cell_type": "code",
   "execution_count": 131,
   "id": "3b972751",
   "metadata": {},
   "outputs": [
    {
     "data": {
      "text/html": [
       "<div>\n",
       "<style scoped>\n",
       "    .dataframe tbody tr th:only-of-type {\n",
       "        vertical-align: middle;\n",
       "    }\n",
       "\n",
       "    .dataframe tbody tr th {\n",
       "        vertical-align: top;\n",
       "    }\n",
       "\n",
       "    .dataframe thead th {\n",
       "        text-align: right;\n",
       "    }\n",
       "</style>\n",
       "<table border=\"1\" class=\"dataframe\">\n",
       "  <thead>\n",
       "    <tr style=\"text-align: right;\">\n",
       "      <th></th>\n",
       "      <th>dead</th>\n",
       "      <th>alive</th>\n",
       "      <th>weight</th>\n",
       "    </tr>\n",
       "  </thead>\n",
       "  <tbody>\n",
       "    <tr>\n",
       "      <th>11</th>\n",
       "      <td>484</td>\n",
       "      <td>362</td>\n",
       "      <td>297.0</td>\n",
       "    </tr>\n",
       "    <tr>\n",
       "      <th>01</th>\n",
       "      <td>250</td>\n",
       "      <td>380</td>\n",
       "      <td>418.0</td>\n",
       "    </tr>\n",
       "    <tr>\n",
       "      <th>10</th>\n",
       "      <td>240</td>\n",
       "      <td>407</td>\n",
       "      <td>436.0</td>\n",
       "    </tr>\n",
       "    <tr>\n",
       "      <th>00</th>\n",
       "      <td>157</td>\n",
       "      <td>495</td>\n",
       "      <td>527.0</td>\n",
       "    </tr>\n",
       "  </tbody>\n",
       "</table>\n",
       "</div>"
      ],
      "text/plain": [
       "    dead  alive  weight\n",
       "11   484    362   297.0\n",
       "01   250    380   418.0\n",
       "10   240    407   436.0\n",
       "00   157    495   527.0"
      ]
     },
     "execution_count": 131,
     "metadata": {},
     "output_type": "execute_result"
    }
   ],
   "source": [
    "table = pd.concat([ind_data[ind_data['SWIM'] == 0].MUT_SHOCK.value_counts(), \\\n",
    "                   ind_data[ind_data['SWIM'] == 1].MUT_SHOCK.value_counts()], axis=1)\n",
    "table.columns = ['dead', 'alive']\n",
    "\n",
    "average = table.sum().sum() / 4\n",
    "\n",
    "table['weight'] = round(table.alive * (average / (table.alive + table.dead)))\n",
    "table"
   ]
  },
  {
   "cell_type": "code",
   "execution_count": 132,
   "id": "7a45960f",
   "metadata": {},
   "outputs": [
    {
     "data": {
      "text/plain": [
       "(0.8588242394978272, 0.13547826464764956)"
      ]
     },
     "execution_count": 132,
     "metadata": {},
     "output_type": "execute_result"
    }
   ],
   "source": [
    "fisher_exact(np.array([[table.loc['00', 'weight'], table.loc['01', 'weight']], \\\n",
    "                       [table.loc['10', 'weight'], table.loc['11', 'weight']]]))"
   ]
  },
  {
   "cell_type": "markdown",
   "id": "49463d00",
   "metadata": {},
   "source": [
    "### Family 1: 1x1"
   ]
  },
  {
   "cell_type": "code",
   "execution_count": 135,
   "id": "6b7ddf3d",
   "metadata": {},
   "outputs": [],
   "source": [
    "fam = ind_data[ind_data['CODE'].apply(lambda x: x[0:2]) == '11']"
   ]
  },
  {
   "cell_type": "code",
   "execution_count": 136,
   "id": "5a0d4872",
   "metadata": {},
   "outputs": [
    {
     "data": {
      "text/html": [
       "<div>\n",
       "<style scoped>\n",
       "    .dataframe tbody tr th:only-of-type {\n",
       "        vertical-align: middle;\n",
       "    }\n",
       "\n",
       "    .dataframe tbody tr th {\n",
       "        vertical-align: top;\n",
       "    }\n",
       "\n",
       "    .dataframe thead th {\n",
       "        text-align: right;\n",
       "    }\n",
       "</style>\n",
       "<table border=\"1\" class=\"dataframe\">\n",
       "  <thead>\n",
       "    <tr style=\"text-align: right;\">\n",
       "      <th></th>\n",
       "      <th>dead</th>\n",
       "      <th>alive</th>\n",
       "      <th>weight</th>\n",
       "    </tr>\n",
       "  </thead>\n",
       "  <tbody>\n",
       "    <tr>\n",
       "      <th>11</th>\n",
       "      <td>210</td>\n",
       "      <td>30</td>\n",
       "      <td>22.0</td>\n",
       "    </tr>\n",
       "    <tr>\n",
       "      <th>01</th>\n",
       "      <td>85</td>\n",
       "      <td>100</td>\n",
       "      <td>96.0</td>\n",
       "    </tr>\n",
       "    <tr>\n",
       "      <th>10</th>\n",
       "      <td>56</td>\n",
       "      <td>60</td>\n",
       "      <td>92.0</td>\n",
       "    </tr>\n",
       "    <tr>\n",
       "      <th>00</th>\n",
       "      <td>49</td>\n",
       "      <td>124</td>\n",
       "      <td>128.0</td>\n",
       "    </tr>\n",
       "  </tbody>\n",
       "</table>\n",
       "</div>"
      ],
      "text/plain": [
       "    dead  alive  weight\n",
       "11   210     30    22.0\n",
       "01    85    100    96.0\n",
       "10    56     60    92.0\n",
       "00    49    124   128.0"
      ]
     },
     "execution_count": 136,
     "metadata": {},
     "output_type": "execute_result"
    }
   ],
   "source": [
    "table = pd.concat([fam[fam['SWIM'] == 0].MUT_SHOCK.value_counts(), \\\n",
    "                   fam[fam['SWIM'] == 1].MUT_SHOCK.value_counts()], axis=1)\n",
    "table.columns = ['dead', 'alive']\n",
    "\n",
    "average = table.sum().sum() / 4\n",
    "\n",
    "table['weight'] = round(table.alive * (average / (table.alive + table.dead)))\n",
    "table"
   ]
  },
  {
   "cell_type": "code",
   "execution_count": 137,
   "id": "7f9e764b",
   "metadata": {},
   "outputs": [
    {
     "data": {
      "text/plain": [
       "(0.3188405797101449, 1.3042984464976009e-05)"
      ]
     },
     "execution_count": 137,
     "metadata": {},
     "output_type": "execute_result"
    }
   ],
   "source": [
    "fisher_exact(np.array([[table.loc['00', 'weight'], table.loc['01', 'weight']], \\\n",
    "                       [table.loc['10', 'weight'], table.loc['11', 'weight']]]))"
   ]
  },
  {
   "cell_type": "markdown",
   "id": "c08d917c",
   "metadata": {},
   "source": [
    "### Family 2: 1x2"
   ]
  },
  {
   "cell_type": "code",
   "execution_count": 138,
   "id": "00c0ce8c",
   "metadata": {},
   "outputs": [],
   "source": [
    "fam = ind_data[ind_data['CODE'].apply(lambda x: x[0:2]) == '12']"
   ]
  },
  {
   "cell_type": "code",
   "execution_count": 139,
   "id": "098bc90b",
   "metadata": {},
   "outputs": [
    {
     "data": {
      "text/html": [
       "<div>\n",
       "<style scoped>\n",
       "    .dataframe tbody tr th:only-of-type {\n",
       "        vertical-align: middle;\n",
       "    }\n",
       "\n",
       "    .dataframe tbody tr th {\n",
       "        vertical-align: top;\n",
       "    }\n",
       "\n",
       "    .dataframe thead th {\n",
       "        text-align: right;\n",
       "    }\n",
       "</style>\n",
       "<table border=\"1\" class=\"dataframe\">\n",
       "  <thead>\n",
       "    <tr style=\"text-align: right;\">\n",
       "      <th></th>\n",
       "      <th>dead</th>\n",
       "      <th>alive</th>\n",
       "      <th>weight</th>\n",
       "    </tr>\n",
       "  </thead>\n",
       "  <tbody>\n",
       "    <tr>\n",
       "      <th>11</th>\n",
       "      <td>100</td>\n",
       "      <td>49</td>\n",
       "      <td>52.0</td>\n",
       "    </tr>\n",
       "    <tr>\n",
       "      <th>01</th>\n",
       "      <td>68</td>\n",
       "      <td>63</td>\n",
       "      <td>76.0</td>\n",
       "    </tr>\n",
       "    <tr>\n",
       "      <th>10</th>\n",
       "      <td>60</td>\n",
       "      <td>122</td>\n",
       "      <td>106.0</td>\n",
       "    </tr>\n",
       "    <tr>\n",
       "      <th>00</th>\n",
       "      <td>47</td>\n",
       "      <td>121</td>\n",
       "      <td>113.0</td>\n",
       "    </tr>\n",
       "  </tbody>\n",
       "</table>\n",
       "</div>"
      ],
      "text/plain": [
       "    dead  alive  weight\n",
       "11   100     49    52.0\n",
       "01    68     63    76.0\n",
       "10    60    122   106.0\n",
       "00    47    121   113.0"
      ]
     },
     "execution_count": 139,
     "metadata": {},
     "output_type": "execute_result"
    }
   ],
   "source": [
    "table = pd.concat([fam[fam['SWIM'] == 0].MUT_SHOCK.value_counts(), \\\n",
    "                   fam[fam['SWIM'] == 1].MUT_SHOCK.value_counts()], axis=1)\n",
    "table.columns = ['dead', 'alive']\n",
    "\n",
    "average = table.sum().sum() / 4\n",
    "\n",
    "table['weight'] = round(table.alive * (average / (table.alive + table.dead)))\n",
    "table"
   ]
  },
  {
   "cell_type": "code",
   "execution_count": 140,
   "id": "d8f7c9ec",
   "metadata": {},
   "outputs": [
    {
     "data": {
      "text/plain": [
       "(0.7293942403177756, 0.18051896203917994)"
      ]
     },
     "execution_count": 140,
     "metadata": {},
     "output_type": "execute_result"
    }
   ],
   "source": [
    "fisher_exact(np.array([[table.loc['00', 'weight'], table.loc['01', 'weight']], \\\n",
    "                       [table.loc['10', 'weight'], table.loc['11', 'weight']]]))"
   ]
  },
  {
   "cell_type": "markdown",
   "id": "61116b25",
   "metadata": {},
   "source": [
    "### Family 3: 2x1"
   ]
  },
  {
   "cell_type": "code",
   "execution_count": 141,
   "id": "96545a3c",
   "metadata": {},
   "outputs": [],
   "source": [
    "fam = ind_data[ind_data['CODE'].apply(lambda x: x[0:2]) == '21']"
   ]
  },
  {
   "cell_type": "code",
   "execution_count": 142,
   "id": "96de2788",
   "metadata": {},
   "outputs": [
    {
     "data": {
      "text/html": [
       "<div>\n",
       "<style scoped>\n",
       "    .dataframe tbody tr th:only-of-type {\n",
       "        vertical-align: middle;\n",
       "    }\n",
       "\n",
       "    .dataframe tbody tr th {\n",
       "        vertical-align: top;\n",
       "    }\n",
       "\n",
       "    .dataframe thead th {\n",
       "        text-align: right;\n",
       "    }\n",
       "</style>\n",
       "<table border=\"1\" class=\"dataframe\">\n",
       "  <thead>\n",
       "    <tr style=\"text-align: right;\">\n",
       "      <th></th>\n",
       "      <th>dead</th>\n",
       "      <th>alive</th>\n",
       "      <th>weight</th>\n",
       "    </tr>\n",
       "  </thead>\n",
       "  <tbody>\n",
       "    <tr>\n",
       "      <th>11</th>\n",
       "      <td>137</td>\n",
       "      <td>122</td>\n",
       "      <td>90.0</td>\n",
       "    </tr>\n",
       "    <tr>\n",
       "      <th>10</th>\n",
       "      <td>71</td>\n",
       "      <td>119</td>\n",
       "      <td>120.0</td>\n",
       "    </tr>\n",
       "    <tr>\n",
       "      <th>01</th>\n",
       "      <td>62</td>\n",
       "      <td>95</td>\n",
       "      <td>116.0</td>\n",
       "    </tr>\n",
       "    <tr>\n",
       "      <th>00</th>\n",
       "      <td>47</td>\n",
       "      <td>113</td>\n",
       "      <td>135.0</td>\n",
       "    </tr>\n",
       "  </tbody>\n",
       "</table>\n",
       "</div>"
      ],
      "text/plain": [
       "    dead  alive  weight\n",
       "11   137    122    90.0\n",
       "10    71    119   120.0\n",
       "01    62     95   116.0\n",
       "00    47    113   135.0"
      ]
     },
     "execution_count": 142,
     "metadata": {},
     "output_type": "execute_result"
    }
   ],
   "source": [
    "table = pd.concat([fam[fam['SWIM'] == 0].MUT_SHOCK.value_counts(), \\\n",
    "                   fam[fam['SWIM'] == 1].MUT_SHOCK.value_counts()], axis=1)\n",
    "table.columns = ['dead', 'alive']\n",
    "\n",
    "average = table.sum().sum() / 4\n",
    "\n",
    "table['weight'] = round(table.alive * (average / (table.alive + table.dead)))\n",
    "table"
   ]
  },
  {
   "cell_type": "code",
   "execution_count": 143,
   "id": "85649816",
   "metadata": {},
   "outputs": [
    {
     "data": {
      "text/plain": [
       "(0.8728448275862069, 0.5105514928263923)"
      ]
     },
     "execution_count": 143,
     "metadata": {},
     "output_type": "execute_result"
    }
   ],
   "source": [
    "fisher_exact(np.array([[table.loc['00', 'weight'], table.loc['01', 'weight']], \\\n",
    "                       [table.loc['10', 'weight'], table.loc['11', 'weight']]]))"
   ]
  },
  {
   "cell_type": "markdown",
   "id": "f2fa0aaa",
   "metadata": {},
   "source": [
    "### Family 4: 2x2"
   ]
  },
  {
   "cell_type": "code",
   "execution_count": 144,
   "id": "7c54ca1f",
   "metadata": {},
   "outputs": [],
   "source": [
    "fam = ind_data[ind_data['CODE'].apply(lambda x: x[0:2]) == '22']"
   ]
  },
  {
   "cell_type": "code",
   "execution_count": 145,
   "id": "0b1d1fdb",
   "metadata": {},
   "outputs": [
    {
     "data": {
      "text/html": [
       "<div>\n",
       "<style scoped>\n",
       "    .dataframe tbody tr th:only-of-type {\n",
       "        vertical-align: middle;\n",
       "    }\n",
       "\n",
       "    .dataframe tbody tr th {\n",
       "        vertical-align: top;\n",
       "    }\n",
       "\n",
       "    .dataframe thead th {\n",
       "        text-align: right;\n",
       "    }\n",
       "</style>\n",
       "<table border=\"1\" class=\"dataframe\">\n",
       "  <thead>\n",
       "    <tr style=\"text-align: right;\">\n",
       "      <th></th>\n",
       "      <th>dead</th>\n",
       "      <th>alive</th>\n",
       "      <th>weight</th>\n",
       "    </tr>\n",
       "  </thead>\n",
       "  <tbody>\n",
       "    <tr>\n",
       "      <th>10</th>\n",
       "      <td>53</td>\n",
       "      <td>106</td>\n",
       "      <td>111.0</td>\n",
       "    </tr>\n",
       "    <tr>\n",
       "      <th>11</th>\n",
       "      <td>37</td>\n",
       "      <td>161</td>\n",
       "      <td>135.0</td>\n",
       "    </tr>\n",
       "    <tr>\n",
       "      <th>01</th>\n",
       "      <td>35</td>\n",
       "      <td>122</td>\n",
       "      <td>129.0</td>\n",
       "    </tr>\n",
       "    <tr>\n",
       "      <th>00</th>\n",
       "      <td>14</td>\n",
       "      <td>137</td>\n",
       "      <td>151.0</td>\n",
       "    </tr>\n",
       "  </tbody>\n",
       "</table>\n",
       "</div>"
      ],
      "text/plain": [
       "    dead  alive  weight\n",
       "10    53    106   111.0\n",
       "11    37    161   135.0\n",
       "01    35    122   129.0\n",
       "00    14    137   151.0"
      ]
     },
     "execution_count": 145,
     "metadata": {},
     "output_type": "execute_result"
    }
   ],
   "source": [
    "table = pd.concat([fam[fam['SWIM'] == 0].MUT_SHOCK.value_counts(), \\\n",
    "                   fam[fam['SWIM'] == 1].MUT_SHOCK.value_counts()], axis=1)\n",
    "table.columns = ['dead', 'alive']\n",
    "\n",
    "average = table.sum().sum() / 4\n",
    "\n",
    "table['weight'] = round(table.alive * (average / (table.alive + table.dead)))\n",
    "table"
   ]
  },
  {
   "cell_type": "code",
   "execution_count": 146,
   "id": "603cb505",
   "metadata": {},
   "outputs": [
    {
     "data": {
      "text/plain": [
       "(1.4236329352608423, 0.045048306362734575)"
      ]
     },
     "execution_count": 146,
     "metadata": {},
     "output_type": "execute_result"
    }
   ],
   "source": [
    "fisher_exact(np.array([[table.loc['00', 'weight'], table.loc['01', 'weight']], \\\n",
    "                       [table.loc['10', 'weight'], table.loc['11', 'weight']]]))"
   ]
  },
  {
   "cell_type": "markdown",
   "id": "8b7330e8",
   "metadata": {},
   "source": [
    "## EXP 8"
   ]
  },
  {
   "cell_type": "code",
   "execution_count": 3,
   "id": "1cd10f2e",
   "metadata": {},
   "outputs": [],
   "source": [
    "sheet_id = '1aqHnDaiRXntyrbj6qaqzR-4XnLbvtKU84FB_JLu5x5A'\n",
    "sheet_name = 'EXP_8_second_main_factory'\n",
    "url = f'https://docs.google.com/spreadsheets/d/{sheet_id}/gviz/tq?tqx=out:csv&sheet={sheet_name}'\n",
    "exp8fac = pd.read_csv(url)\n",
    "\n",
    "exp8fac = exp8fac.iloc[9:13,].reset_index(drop=True)"
   ]
  },
  {
   "cell_type": "code",
   "execution_count": 4,
   "id": "09db96b6",
   "metadata": {},
   "outputs": [
    {
     "data": {
      "text/html": [
       "<div>\n",
       "<style scoped>\n",
       "    .dataframe tbody tr th:only-of-type {\n",
       "        vertical-align: middle;\n",
       "    }\n",
       "\n",
       "    .dataframe tbody tr th {\n",
       "        vertical-align: top;\n",
       "    }\n",
       "\n",
       "    .dataframe thead th {\n",
       "        text-align: right;\n",
       "    }\n",
       "</style>\n",
       "<table border=\"1\" class=\"dataframe\">\n",
       "  <thead>\n",
       "    <tr style=\"text-align: right;\">\n",
       "      <th></th>\n",
       "      <th>CODE</th>\n",
       "      <th>SWIM</th>\n",
       "    </tr>\n",
       "  </thead>\n",
       "  <tbody>\n",
       "    <tr>\n",
       "      <th>0</th>\n",
       "      <td>CC</td>\n",
       "      <td>120000.0</td>\n",
       "    </tr>\n",
       "    <tr>\n",
       "      <th>1</th>\n",
       "      <td>C38</td>\n",
       "      <td>87000.0</td>\n",
       "    </tr>\n",
       "    <tr>\n",
       "      <th>2</th>\n",
       "      <td>MC</td>\n",
       "      <td>40000.0</td>\n",
       "    </tr>\n",
       "    <tr>\n",
       "      <th>3</th>\n",
       "      <td>M38</td>\n",
       "      <td>8000.0</td>\n",
       "    </tr>\n",
       "  </tbody>\n",
       "</table>\n",
       "</div>"
      ],
      "text/plain": [
       "  CODE      SWIM\n",
       "0   CC  120000.0\n",
       "1  C38   87000.0\n",
       "2   MC   40000.0\n",
       "3  M38    8000.0"
      ]
     },
     "execution_count": 4,
     "metadata": {},
     "output_type": "execute_result"
    }
   ],
   "source": [
    "exp8fac[['CODE', 'SWIM']]"
   ]
  },
  {
   "cell_type": "code",
   "execution_count": 8,
   "id": "8f3a32cf",
   "metadata": {},
   "outputs": [
    {
     "name": "stdout",
     "output_type": "stream",
     "text": [
      "(0.27586206896551724, 0.0)\n"
     ]
    }
   ],
   "source": [
    "res = fisher_exact([[120000, 87000], \\\n",
    "                       [40000, 8000]])\n",
    "print(res)"
   ]
  },
  {
   "cell_type": "code",
   "execution_count": null,
   "id": "e5a5a1f6",
   "metadata": {},
   "outputs": [],
   "source": []
  },
  {
   "cell_type": "code",
   "execution_count": null,
   "id": "56d8f05a",
   "metadata": {},
   "outputs": [],
   "source": []
  },
  {
   "cell_type": "code",
   "execution_count": null,
   "id": "ce405d0e",
   "metadata": {},
   "outputs": [],
   "source": []
  }
 ],
 "metadata": {
  "kernelspec": {
   "display_name": "Python 3 (ipykernel)",
   "language": "python",
   "name": "python3"
  },
  "language_info": {
   "codemirror_mode": {
    "name": "ipython",
    "version": 3
   },
   "file_extension": ".py",
   "mimetype": "text/x-python",
   "name": "python",
   "nbconvert_exporter": "python",
   "pygments_lexer": "ipython3",
   "version": "3.10.8"
  }
 },
 "nbformat": 4,
 "nbformat_minor": 5
}
