{
 "cells": [
  {
   "cell_type": "code",
   "execution_count": 2,
   "id": "8213144e",
   "metadata": {},
   "outputs": [
    {
     "name": "stderr",
     "output_type": "stream",
     "text": [
      "/usr/lib/python3/dist-packages/scipy/__init__.py:146: UserWarning: A NumPy version >=1.17.3 and <1.25.0 is required for this version of SciPy (detected version 1.25.1\n",
      "  warnings.warn(f\"A NumPy version >={np_minversion} and <{np_maxversion}\"\n"
     ]
    }
   ],
   "source": [
    "import pandas as pd\n",
    "import matplotlib.pyplot as plt\n",
    "import seaborn as sns\n",
    "import numpy as np"
   ]
  },
  {
   "cell_type": "code",
   "execution_count": 3,
   "id": "e2631ad9",
   "metadata": {},
   "outputs": [],
   "source": [
    "import scipy.stats as st\n",
    "import statsmodels.api as sm\n",
    "from statsmodels.formula.api import ols"
   ]
  },
  {
   "cell_type": "code",
   "execution_count": 4,
   "id": "9e14b78d",
   "metadata": {},
   "outputs": [],
   "source": [
    "sns.set(rc={'figure.figsize':(10,6)})"
   ]
  },
  {
   "cell_type": "code",
   "execution_count": 5,
   "id": "616d2657",
   "metadata": {},
   "outputs": [],
   "source": [
    "def find_outliers_IQR(df):\n",
    "    \n",
    "    q1=df.quantile(0.25)\n",
    "    q3=df.quantile(0.75)\n",
    "    IQR=q3-q1\n",
    "    outliers = df[((df<(q1-1.5*IQR)) | (df>(q3+1.5*IQR)))]\n",
    "    return outliers"
   ]
  },
  {
   "cell_type": "markdown",
   "id": "3efa2f1f",
   "metadata": {},
   "source": [
    "# EXP 5 main lab"
   ]
  },
  {
   "cell_type": "code",
   "execution_count": 6,
   "id": "c066385d",
   "metadata": {},
   "outputs": [],
   "source": [
    "sheet_id = '1aqHnDaiRXntyrbj6qaqzR-4XnLbvtKU84FB_JLu5x5A'\n",
    "sheet_name = 'EXP_5_main_lab'\n",
    "url = f'https://docs.google.com/spreadsheets/d/{sheet_id}/gviz/tq?tqx=out:csv&sheet={sheet_name}'\n",
    "exp5lab = pd.read_csv(url)"
   ]
  },
  {
   "cell_type": "code",
   "execution_count": 7,
   "id": "4f8a94ff",
   "metadata": {},
   "outputs": [
    {
     "data": {
      "text/html": [
       "<div>\n",
       "<style scoped>\n",
       "    .dataframe tbody tr th:only-of-type {\n",
       "        vertical-align: middle;\n",
       "    }\n",
       "\n",
       "    .dataframe tbody tr th {\n",
       "        vertical-align: top;\n",
       "    }\n",
       "\n",
       "    .dataframe thead th {\n",
       "        text-align: right;\n",
       "    }\n",
       "</style>\n",
       "<table border=\"1\" class=\"dataframe\">\n",
       "  <thead>\n",
       "    <tr style=\"text-align: right;\">\n",
       "      <th></th>\n",
       "      <th>№</th>\n",
       "      <th>CODE</th>\n",
       "      <th>CUP_NUMBER</th>\n",
       "      <th>FEMALE</th>\n",
       "      <th>MALE</th>\n",
       "      <th>MUT</th>\n",
       "      <th>TEMP</th>\n",
       "      <th>TIME</th>\n",
       "      <th>DEAD</th>\n",
       "      <th>FERT</th>\n",
       "      <th>...</th>\n",
       "      <th>FERT_PERC</th>\n",
       "      <th>SHOCK_DEAD</th>\n",
       "      <th>SHOCK_ALIVE</th>\n",
       "      <th>SHOCK_NAME</th>\n",
       "      <th>HATCHED_DEAD</th>\n",
       "      <th>HATCHED_ALIVE</th>\n",
       "      <th>HATCHED_NAME</th>\n",
       "      <th>SWIM</th>\n",
       "      <th>SWIM_NAME</th>\n",
       "      <th>SWIM_PERC</th>\n",
       "    </tr>\n",
       "  </thead>\n",
       "  <tbody>\n",
       "    <tr>\n",
       "      <th>0</th>\n",
       "      <td>1</td>\n",
       "      <td>11CC</td>\n",
       "      <td>1</td>\n",
       "      <td>1</td>\n",
       "      <td>1</td>\n",
       "      <td>C</td>\n",
       "      <td>C</td>\n",
       "      <td>NaN</td>\n",
       "      <td>5</td>\n",
       "      <td>37</td>\n",
       "      <td>...</td>\n",
       "      <td>88,0952381</td>\n",
       "      <td>0</td>\n",
       "      <td>37</td>\n",
       "      <td>Polina</td>\n",
       "      <td>0</td>\n",
       "      <td>37</td>\n",
       "      <td>Sasha</td>\n",
       "      <td>33</td>\n",
       "      <td>Vika</td>\n",
       "      <td>89,18918919</td>\n",
       "    </tr>\n",
       "    <tr>\n",
       "      <th>1</th>\n",
       "      <td>2</td>\n",
       "      <td>11CC</td>\n",
       "      <td>2</td>\n",
       "      <td>1</td>\n",
       "      <td>1</td>\n",
       "      <td>C</td>\n",
       "      <td>C</td>\n",
       "      <td>NaN</td>\n",
       "      <td>2</td>\n",
       "      <td>42</td>\n",
       "      <td>...</td>\n",
       "      <td>95,45454545</td>\n",
       "      <td>0</td>\n",
       "      <td>41</td>\n",
       "      <td>Polina</td>\n",
       "      <td>1</td>\n",
       "      <td>40</td>\n",
       "      <td>Sasha</td>\n",
       "      <td>33</td>\n",
       "      <td>Vika</td>\n",
       "      <td>78,57142857</td>\n",
       "    </tr>\n",
       "    <tr>\n",
       "      <th>2</th>\n",
       "      <td>3</td>\n",
       "      <td>11CC</td>\n",
       "      <td>3</td>\n",
       "      <td>1</td>\n",
       "      <td>1</td>\n",
       "      <td>C</td>\n",
       "      <td>C</td>\n",
       "      <td>NaN</td>\n",
       "      <td>5</td>\n",
       "      <td>33</td>\n",
       "      <td>...</td>\n",
       "      <td>86,84210526</td>\n",
       "      <td>0</td>\n",
       "      <td>31</td>\n",
       "      <td>Polina</td>\n",
       "      <td>2</td>\n",
       "      <td>29</td>\n",
       "      <td>Sasha</td>\n",
       "      <td>26</td>\n",
       "      <td>Vika</td>\n",
       "      <td>78,78787879</td>\n",
       "    </tr>\n",
       "    <tr>\n",
       "      <th>3</th>\n",
       "      <td>4</td>\n",
       "      <td>11CC</td>\n",
       "      <td>4</td>\n",
       "      <td>1</td>\n",
       "      <td>1</td>\n",
       "      <td>C</td>\n",
       "      <td>C</td>\n",
       "      <td>NaN</td>\n",
       "      <td>11</td>\n",
       "      <td>38</td>\n",
       "      <td>...</td>\n",
       "      <td>77,55102041</td>\n",
       "      <td>0</td>\n",
       "      <td>37</td>\n",
       "      <td>Polina</td>\n",
       "      <td>2</td>\n",
       "      <td>35</td>\n",
       "      <td>Sasha</td>\n",
       "      <td>32</td>\n",
       "      <td>Vika</td>\n",
       "      <td>84,21052632</td>\n",
       "    </tr>\n",
       "    <tr>\n",
       "      <th>4</th>\n",
       "      <td>5</td>\n",
       "      <td>12CC</td>\n",
       "      <td>1</td>\n",
       "      <td>1</td>\n",
       "      <td>2</td>\n",
       "      <td>C</td>\n",
       "      <td>C</td>\n",
       "      <td>NaN</td>\n",
       "      <td>4</td>\n",
       "      <td>58</td>\n",
       "      <td>...</td>\n",
       "      <td>93,5483871</td>\n",
       "      <td>0</td>\n",
       "      <td>59</td>\n",
       "      <td>Lera</td>\n",
       "      <td>10</td>\n",
       "      <td>49</td>\n",
       "      <td>Vika</td>\n",
       "      <td>45</td>\n",
       "      <td>Polina</td>\n",
       "      <td>77,5862069</td>\n",
       "    </tr>\n",
       "    <tr>\n",
       "      <th>...</th>\n",
       "      <td>...</td>\n",
       "      <td>...</td>\n",
       "      <td>...</td>\n",
       "      <td>...</td>\n",
       "      <td>...</td>\n",
       "      <td>...</td>\n",
       "      <td>...</td>\n",
       "      <td>...</td>\n",
       "      <td>...</td>\n",
       "      <td>...</td>\n",
       "      <td>...</td>\n",
       "      <td>...</td>\n",
       "      <td>...</td>\n",
       "      <td>...</td>\n",
       "      <td>...</td>\n",
       "      <td>...</td>\n",
       "      <td>...</td>\n",
       "      <td>...</td>\n",
       "      <td>...</td>\n",
       "      <td>...</td>\n",
       "      <td>...</td>\n",
       "    </tr>\n",
       "    <tr>\n",
       "      <th>59</th>\n",
       "      <td>60</td>\n",
       "      <td>21M38</td>\n",
       "      <td>4</td>\n",
       "      <td>2</td>\n",
       "      <td>1</td>\n",
       "      <td>M</td>\n",
       "      <td>38</td>\n",
       "      <td>40.0</td>\n",
       "      <td>3</td>\n",
       "      <td>54</td>\n",
       "      <td>...</td>\n",
       "      <td>94,73684211</td>\n",
       "      <td>0</td>\n",
       "      <td>53</td>\n",
       "      <td>Alya(d)+Lera(a)</td>\n",
       "      <td>3</td>\n",
       "      <td>50</td>\n",
       "      <td>Vika</td>\n",
       "      <td>33</td>\n",
       "      <td>Vika</td>\n",
       "      <td>61,11111111</td>\n",
       "    </tr>\n",
       "    <tr>\n",
       "      <th>60</th>\n",
       "      <td>61</td>\n",
       "      <td>22M38</td>\n",
       "      <td>1</td>\n",
       "      <td>2</td>\n",
       "      <td>2</td>\n",
       "      <td>M</td>\n",
       "      <td>38</td>\n",
       "      <td>40.0</td>\n",
       "      <td>2</td>\n",
       "      <td>40</td>\n",
       "      <td>...</td>\n",
       "      <td>95,23809524</td>\n",
       "      <td>0</td>\n",
       "      <td>40</td>\n",
       "      <td>Lera</td>\n",
       "      <td>4</td>\n",
       "      <td>36</td>\n",
       "      <td>Vika</td>\n",
       "      <td>34</td>\n",
       "      <td>Polina</td>\n",
       "      <td>85</td>\n",
       "    </tr>\n",
       "    <tr>\n",
       "      <th>61</th>\n",
       "      <td>62</td>\n",
       "      <td>22M38</td>\n",
       "      <td>2</td>\n",
       "      <td>2</td>\n",
       "      <td>2</td>\n",
       "      <td>M</td>\n",
       "      <td>38</td>\n",
       "      <td>40.0</td>\n",
       "      <td>2</td>\n",
       "      <td>43</td>\n",
       "      <td>...</td>\n",
       "      <td>95,55555556</td>\n",
       "      <td>1</td>\n",
       "      <td>40</td>\n",
       "      <td>Lera</td>\n",
       "      <td>4</td>\n",
       "      <td>36</td>\n",
       "      <td>Vika</td>\n",
       "      <td>35</td>\n",
       "      <td>Polina</td>\n",
       "      <td>81,39534884</td>\n",
       "    </tr>\n",
       "    <tr>\n",
       "      <th>62</th>\n",
       "      <td>63</td>\n",
       "      <td>22M38</td>\n",
       "      <td>3</td>\n",
       "      <td>2</td>\n",
       "      <td>2</td>\n",
       "      <td>M</td>\n",
       "      <td>38</td>\n",
       "      <td>40.0</td>\n",
       "      <td>0</td>\n",
       "      <td>58</td>\n",
       "      <td>...</td>\n",
       "      <td>100</td>\n",
       "      <td>0</td>\n",
       "      <td>55</td>\n",
       "      <td>Lera</td>\n",
       "      <td>1</td>\n",
       "      <td>54</td>\n",
       "      <td>Vika</td>\n",
       "      <td>50</td>\n",
       "      <td>Polina</td>\n",
       "      <td>86,20689655</td>\n",
       "    </tr>\n",
       "    <tr>\n",
       "      <th>63</th>\n",
       "      <td>64</td>\n",
       "      <td>22M38</td>\n",
       "      <td>4</td>\n",
       "      <td>2</td>\n",
       "      <td>2</td>\n",
       "      <td>M</td>\n",
       "      <td>38</td>\n",
       "      <td>40.0</td>\n",
       "      <td>3</td>\n",
       "      <td>50</td>\n",
       "      <td>...</td>\n",
       "      <td>94,33962264</td>\n",
       "      <td>2</td>\n",
       "      <td>48</td>\n",
       "      <td>Lera</td>\n",
       "      <td>1</td>\n",
       "      <td>47</td>\n",
       "      <td>Vika</td>\n",
       "      <td>42</td>\n",
       "      <td>Polina</td>\n",
       "      <td>84</td>\n",
       "    </tr>\n",
       "  </tbody>\n",
       "</table>\n",
       "<p>64 rows × 22 columns</p>\n",
       "</div>"
      ],
      "text/plain": [
       "     №   CODE  CUP_NUMBER  FEMALE  MALE MUT TEMP  TIME  DEAD  FERT  ...  \\\n",
       "0    1   11CC           1       1     1   C    C   NaN     5    37  ...   \n",
       "1    2   11CC           2       1     1   C    C   NaN     2    42  ...   \n",
       "2    3   11CC           3       1     1   C    C   NaN     5    33  ...   \n",
       "3    4   11CC           4       1     1   C    C   NaN    11    38  ...   \n",
       "4    5   12CC           1       1     2   C    C   NaN     4    58  ...   \n",
       "..  ..    ...         ...     ...   ...  ..  ...   ...   ...   ...  ...   \n",
       "59  60  21M38           4       2     1   M   38  40.0     3    54  ...   \n",
       "60  61  22M38           1       2     2   M   38  40.0     2    40  ...   \n",
       "61  62  22M38           2       2     2   M   38  40.0     2    43  ...   \n",
       "62  63  22M38           3       2     2   M   38  40.0     0    58  ...   \n",
       "63  64  22M38           4       2     2   M   38  40.0     3    50  ...   \n",
       "\n",
       "      FERT_PERC  SHOCK_DEAD SHOCK_ALIVE       SHOCK_NAME  HATCHED_DEAD  \\\n",
       "0    88,0952381           0          37           Polina             0   \n",
       "1   95,45454545           0          41           Polina             1   \n",
       "2   86,84210526           0          31           Polina             2   \n",
       "3   77,55102041           0          37           Polina             2   \n",
       "4    93,5483871           0          59             Lera            10   \n",
       "..          ...         ...         ...              ...           ...   \n",
       "59  94,73684211           0          53  Alya(d)+Lera(a)             3   \n",
       "60  95,23809524           0          40             Lera             4   \n",
       "61  95,55555556           1          40             Lera             4   \n",
       "62          100           0          55             Lera             1   \n",
       "63  94,33962264           2          48             Lera             1   \n",
       "\n",
       "   HATCHED_ALIVE  HATCHED_NAME  SWIM SWIM_NAME    SWIM_PERC  \n",
       "0             37         Sasha    33      Vika  89,18918919  \n",
       "1             40         Sasha    33      Vika  78,57142857  \n",
       "2             29         Sasha    26      Vika  78,78787879  \n",
       "3             35         Sasha    32      Vika  84,21052632  \n",
       "4             49          Vika    45    Polina   77,5862069  \n",
       "..           ...           ...   ...       ...          ...  \n",
       "59            50          Vika    33      Vika  61,11111111  \n",
       "60            36          Vika    34    Polina           85  \n",
       "61            36          Vika    35    Polina  81,39534884  \n",
       "62            54          Vika    50    Polina  86,20689655  \n",
       "63            47          Vika    42    Polina           84  \n",
       "\n",
       "[64 rows x 22 columns]"
      ]
     },
     "execution_count": 7,
     "metadata": {},
     "output_type": "execute_result"
    }
   ],
   "source": [
    "exp5lab"
   ]
  },
  {
   "cell_type": "code",
   "execution_count": 8,
   "id": "b7640485",
   "metadata": {},
   "outputs": [],
   "source": [
    "exp5lab.FEMALE = exp5lab.FEMALE.astype(str)\n",
    "exp5lab.MALE = exp5lab.MALE.astype(str)\n",
    "exp5lab.TEMP = exp5lab.TEMP.astype(str)\n",
    "\n",
    "exp5lab.FERT_PERC = exp5lab.FERT_PERC.str.replace(',', '.')\n",
    "exp5lab.FERT_PERC = pd.to_numeric(exp5lab.FERT_PERC)\n",
    "\n",
    "exp5lab.SWIM_PERC = exp5lab.SWIM_PERC.str.replace(',', '.')\n",
    "exp5lab.SWIM_PERC = pd.to_numeric(exp5lab.SWIM_PERC)"
   ]
  },
  {
   "cell_type": "code",
   "execution_count": 9,
   "id": "b09c64b2",
   "metadata": {},
   "outputs": [],
   "source": [
    "exp5lab['FAMILY'] = exp5lab.FEMALE + exp5lab.MALE\n",
    "exp5lab['CODE_COND'] = exp5lab.MUT + exp5lab.TEMP"
   ]
  },
  {
   "cell_type": "markdown",
   "id": "df49e5ff",
   "metadata": {},
   "source": [
    "### FIND OUTLIERS"
   ]
  },
  {
   "cell_type": "code",
   "execution_count": 9,
   "id": "e395d812",
   "metadata": {},
   "outputs": [
    {
     "data": {
      "text/plain": [
       "56    85\n",
       "Name: FERT, dtype: int64"
      ]
     },
     "execution_count": 9,
     "metadata": {},
     "output_type": "execute_result"
    }
   ],
   "source": [
    "find_outliers_IQR(exp5lab['FERT'])"
   ]
  },
  {
   "cell_type": "code",
   "execution_count": 10,
   "id": "7508ad01",
   "metadata": {},
   "outputs": [
    {
     "data": {
      "text/plain": [
       "3     77.551020\n",
       "41    76.923077\n",
       "Name: FERT_PERC, dtype: float64"
      ]
     },
     "execution_count": 10,
     "metadata": {},
     "output_type": "execute_result"
    }
   ],
   "source": [
    "find_outliers_IQR(exp5lab['FERT_PERC'])"
   ]
  },
  {
   "cell_type": "code",
   "execution_count": 11,
   "id": "011ed840",
   "metadata": {
    "scrolled": true
   },
   "outputs": [
    {
     "data": {
      "text/plain": [
       "56    71\n",
       "Name: HATCHED_ALIVE, dtype: int64"
      ]
     },
     "execution_count": 11,
     "metadata": {},
     "output_type": "execute_result"
    }
   ],
   "source": [
    "find_outliers_IQR(exp5lab['HATCHED_ALIVE'])"
   ]
  },
  {
   "cell_type": "code",
   "execution_count": 12,
   "id": "cba160ab",
   "metadata": {},
   "outputs": [
    {
     "data": {
      "text/plain": [
       "Series([], Name: SWIM, dtype: int64)"
      ]
     },
     "execution_count": 12,
     "metadata": {},
     "output_type": "execute_result"
    }
   ],
   "source": [
    "find_outliers_IQR(exp5lab['SWIM'])"
   ]
  },
  {
   "cell_type": "code",
   "execution_count": 13,
   "id": "1e00ed4f",
   "metadata": {},
   "outputs": [
    {
     "data": {
      "text/plain": [
       "Series([], Name: SWIM_PERC, dtype: float64)"
      ]
     },
     "execution_count": 13,
     "metadata": {},
     "output_type": "execute_result"
    }
   ],
   "source": [
    "find_outliers_IQR(exp5lab['SWIM_PERC'])"
   ]
  },
  {
   "cell_type": "code",
   "execution_count": 14,
   "id": "988d0fbb",
   "metadata": {},
   "outputs": [
    {
     "data": {
      "text/plain": [
       "<AxesSubplot: >"
      ]
     },
     "execution_count": 14,
     "metadata": {},
     "output_type": "execute_result"
    },
    {
     "data": {
      "image/png": "[encoded data removed]",
      "text/plain": [
       "<Figure size 1000x600 with 1 Axes>"
      ]
     },
     "metadata": {},
     "output_type": "display_data"
    }
   ],
   "source": [
    "sns.boxplot(exp5lab[['FERT', 'FERT_PERC', 'HATCHED_ALIVE', 'SWIM', 'SWIM_PERC']])"
   ]
  },
  {
   "cell_type": "markdown",
   "id": "a10c9cbd",
   "metadata": {},
   "source": [
    "### DRAW PLOT"
   ]
  },
  {
   "cell_type": "code",
   "execution_count": 10,
   "id": "8161bf66",
   "metadata": {},
   "outputs": [],
   "source": [
    "# expected line logic: shock * mutagen\n",
    "exp_11 = exp5lab[exp5lab['CODE'] == '11C38'].SWIM_PERC.mean() * exp5lab[exp5lab['CODE'] == '11MC'].SWIM_PERC.mean() / 100\n",
    "exp_12 = exp5lab[exp5lab['CODE'] == '12C38'].SWIM_PERC.mean() * exp5lab[exp5lab['CODE'] == '12MC'].SWIM_PERC.mean() / 100\n",
    "exp_21 = exp5lab[exp5lab['CODE'] == '21C38'].SWIM_PERC.mean() * exp5lab[exp5lab['CODE'] == '21MC'].SWIM_PERC.mean() / 100\n",
    "exp_22 = exp5lab[exp5lab['CODE'] == '22C38'].SWIM_PERC.mean() * exp5lab[exp5lab['CODE'] == '22MC'].SWIM_PERC.mean() / 100"
   ]
  },
  {
   "cell_type": "code",
   "execution_count": 11,
   "id": "9533f2d5",
   "metadata": {},
   "outputs": [],
   "source": [
    "# expected line logic: (shock / control) * (mutagen / control) * control\n",
    "exp_11 = (exp5lab[exp5lab['CODE'] == '11C38'].SWIM_PERC.mean() / exp5lab[exp5lab['CODE'] == '11CC'].SWIM_PERC.mean()) * \\\n",
    "         (exp5lab[exp5lab['CODE'] == '11MC'].SWIM_PERC.mean() / exp5lab[exp5lab['CODE'] == '11CC'].SWIM_PERC.mean()) * \\\n",
    "          exp5lab[exp5lab['CODE'] == '11CC'].SWIM_PERC.mean()\n",
    "exp_12 = (exp5lab[exp5lab['CODE'] == '12C38'].SWIM_PERC.mean() / exp5lab[exp5lab['CODE'] == '12CC'].SWIM_PERC.mean()) * \\\n",
    "         (exp5lab[exp5lab['CODE'] == '12MC'].SWIM_PERC.mean() / exp5lab[exp5lab['CODE'] == '12CC'].SWIM_PERC.mean()) * \\\n",
    "          exp5lab[exp5lab['CODE'] == '12CC'].SWIM_PERC.mean()\n",
    "exp_21 = (exp5lab[exp5lab['CODE'] == '21C38'].SWIM_PERC.mean() / exp5lab[exp5lab['CODE'] == '21CC'].SWIM_PERC.mean()) * \\\n",
    "         (exp5lab[exp5lab['CODE'] == '21MC'].SWIM_PERC.mean() / exp5lab[exp5lab['CODE'] == '21CC'].SWIM_PERC.mean()) * \\\n",
    "          exp5lab[exp5lab['CODE'] == '21CC'].SWIM_PERC.mean()\n",
    "exp_22 = (exp5lab[exp5lab['CODE'] == '22C38'].SWIM_PERC.mean() / exp5lab[exp5lab['CODE'] == '22CC'].SWIM_PERC.mean()) * \\\n",
    "         (exp5lab[exp5lab['CODE'] == '22MC'].SWIM_PERC.mean() / exp5lab[exp5lab['CODE'] == '22CC'].SWIM_PERC.mean()) * \\\n",
    "          exp5lab[exp5lab['CODE'] == '22CC'].SWIM_PERC.mean()"
   ]
  },
  {
   "cell_type": "code",
   "execution_count": 12,
   "id": "3465bf09",
   "metadata": {
    "scrolled": true
   },
   "outputs": [
    {
     "name": "stderr",
     "output_type": "stream",
     "text": [
      "/home/emulciber/.local/lib/python3.10/site-packages/seaborn/axisgrid.py:118: UserWarning: The figure layout has changed to tight\n",
      "  self._figure.tight_layout(*args, **kwargs)\n"
     ]
    },
    {
     "data": {
      "image/png": "[encoded data removed]",
      "text/plain": [
       "<Figure size 864x216 with 4 Axes>"
      ]
     },
     "metadata": {
      "needs_background": "light"
     },
     "output_type": "display_data"
    }
   ],
   "source": [
    "g = sns.FacetGrid(exp5lab, col=\"FAMILY\")\n",
    "g.map(sns.barplot, 'CODE_COND', 'SWIM_PERC', order=['CC', 'C38', 'MC', 'M38'], \n",
    "      palette={'CC': '#2976bb', 'C38': '#fdaa48', 'MC': '#50a747', 'M38': '#d3494e'})\n",
    "\n",
    "g.set_xlabels(\"\")\n",
    "g.set_ylabels(\"Swimming individuals, %\")\n",
    "g.set_xticklabels(['H-M-', 'H+M-', 'H-M+', 'H+M+'])\n",
    "\n",
    "ax1, ax2, ax3, ax4 = g.axes[0]\n",
    "\n",
    "ax1.set_title('1x1 family')\n",
    "ax2.set_title('1x2 family')\n",
    "ax3.set_title('2x1 family')\n",
    "ax4.set_title('2x2 family')\n",
    "\n",
    "ax1.axhline(exp_11, xmin=0.75, ls='--', color='orange')\n",
    "ax2.axhline(exp_12, xmin=0.75, ls='--', color='orange')\n",
    "ax3.axhline(exp_21, xmin=0.75, ls='--', color='orange')\n",
    "ax4.axhline(exp_22, xmin=0.75, ls='--', color='orange');\n",
    "plt.savefig('../figures/paper1/exp5lab_hist.png')\n",
    "plt.savefig('../figures/paper1/exp5lab_hist.pdf', format='pdf')"
   ]
  },
  {
   "cell_type": "code",
   "execution_count": 25,
   "id": "51bcd05e",
   "metadata": {},
   "outputs": [
    {
     "name": "stdout",
     "output_type": "stream",
     "text": [
      "11C38: 60.639719202500004 60.885416665\n",
      "11MC: 54.2366120975 57.37028302\n",
      "12C38: 64.58764367750001 71.41666666500001\n",
      "12MC: 69.675925925 72.685185185\n",
      "21C38: 65.815295815 63.85281385\n",
      "21MC: 70.1573185075 72.72004242\n",
      "22C38: 81.35541925749999 81.334149325\n",
      "22MC: 71.10805861 71.97802198000001\n"
     ]
    }
   ],
   "source": [
    "print('11C38:', exp5lab[exp5lab['CODE'] == '11C38'].SWIM_PERC.mean(), exp5lab[exp5lab['CODE'] == '11C38'].SWIM_PERC.median())\n",
    "print('11MC:', exp5lab[exp5lab['CODE'] == '11MC'].SWIM_PERC.mean(), exp5lab[exp5lab['CODE'] == '11MC'].SWIM_PERC.median())\n",
    "print('12C38:', exp5lab[exp5lab['CODE'] == '12C38'].SWIM_PERC.mean(), exp5lab[exp5lab['CODE'] == '12C38'].SWIM_PERC.median())\n",
    "print('12MC:', exp5lab[exp5lab['CODE'] == '12MC'].SWIM_PERC.mean(), exp5lab[exp5lab['CODE'] == '12MC'].SWIM_PERC.median())\n",
    "print('21C38:', exp5lab[exp5lab['CODE'] == '21C38'].SWIM_PERC.mean(), exp5lab[exp5lab['CODE'] == '21C38'].SWIM_PERC.median())\n",
    "print('21MC:', exp5lab[exp5lab['CODE'] == '21MC'].SWIM_PERC.mean(), exp5lab[exp5lab['CODE'] == '21MC'].SWIM_PERC.median())\n",
    "print('22C38:', exp5lab[exp5lab['CODE'] == '22C38'].SWIM_PERC.mean(), exp5lab[exp5lab['CODE'] == '22C38'].SWIM_PERC.median())\n",
    "print('22MC:', exp5lab[exp5lab['CODE'] == '22MC'].SWIM_PERC.mean(), exp5lab[exp5lab['CODE'] == '22MC'].SWIM_PERC.median())"
   ]
  },
  {
   "cell_type": "code",
   "execution_count": 26,
   "id": "26702614",
   "metadata": {},
   "outputs": [
    {
     "data": {
      "image/png": "[encoded data removed]",
      "text/plain": [
       "<Figure size 1200x300 with 4 Axes>"
      ]
     },
     "metadata": {},
     "output_type": "display_data"
    }
   ],
   "source": [
    "g = sns.FacetGrid(exp5lab, col=\"FAMILY\")\n",
    "g.map(sns.violinplot, 'CODE_COND', 'SWIM_PERC', order=['CC', 'C38', 'MC', 'M38'])\n",
    "\n",
    "ax1, ax2, ax3, ax4 = g.axes[0]\n",
    "ax1.axhline(exp_11, xmin=0.75, ls='--', color='orange')\n",
    "ax2.axhline(exp_12, xmin=0.75, ls='--', color='orange')\n",
    "ax3.axhline(exp_21, xmin=0.75, ls='--', color='orange')\n",
    "ax4.axhline(exp_22, xmin=0.75, ls='--', color='orange');"
   ]
  },
  {
   "cell_type": "code",
   "execution_count": 27,
   "id": "8219d2fd",
   "metadata": {},
   "outputs": [],
   "source": [
    "# expected line logic: (shock / control) * (mutagen / control) * control\n",
    "expected_5 = (exp5lab[exp5lab['CODE_COND'] == 'C38'].SWIM_PERC.mean() / exp5lab[exp5lab['CODE_COND'] == 'CC'].SWIM_PERC.mean()) * \\\n",
    "         (exp5lab[exp5lab['CODE_COND'] == 'MC'].SWIM_PERC.mean() / exp5lab[exp5lab['CODE_COND'] == 'CC'].SWIM_PERC.mean()) * \\\n",
    "          exp5lab[exp5lab['CODE_COND'] == 'CC'].SWIM_PERC.mean()"
   ]
  },
  {
   "cell_type": "code",
   "execution_count": 28,
   "id": "14e7686e",
   "metadata": {},
   "outputs": [
    {
     "data": {
      "image/png": "[encoded data removed]",
      "text/plain": [
       "<Figure size 1000x600 with 1 Axes>"
      ]
     },
     "metadata": {},
     "output_type": "display_data"
    }
   ],
   "source": [
    "sns.boxplot(data=exp5lab, x='CODE_COND', y='SWIM_PERC')\n",
    "plt.axhline(y=expected_5, xmin=0.75, color='orange', ls='--');"
   ]
  },
  {
   "cell_type": "markdown",
   "id": "f5fd595f",
   "metadata": {},
   "source": [
    "# EXP 5 main factory"
   ]
  },
  {
   "cell_type": "code",
   "execution_count": 30,
   "id": "b3cbd0f1",
   "metadata": {},
   "outputs": [],
   "source": [
    "sheet_id = '1aqHnDaiRXntyrbj6qaqzR-4XnLbvtKU84FB_JLu5x5A'\n",
    "sheet_name = 'EXP_5_main_factory'\n",
    "url = f'https://docs.google.com/spreadsheets/d/{sheet_id}/gviz/tq?tqx=out:csv&sheet={sheet_name}'\n",
    "exp5fac = pd.read_csv(url)"
   ]
  },
  {
   "cell_type": "code",
   "execution_count": 31,
   "id": "64d268f8",
   "metadata": {},
   "outputs": [
    {
     "data": {
      "text/html": [
       "<div>\n",
       "<style scoped>\n",
       "    .dataframe tbody tr th:only-of-type {\n",
       "        vertical-align: middle;\n",
       "    }\n",
       "\n",
       "    .dataframe tbody tr th {\n",
       "        vertical-align: top;\n",
       "    }\n",
       "\n",
       "    .dataframe thead th {\n",
       "        text-align: right;\n",
       "    }\n",
       "</style>\n",
       "<table border=\"1\" class=\"dataframe\">\n",
       "  <thead>\n",
       "    <tr style=\"text-align: right;\">\n",
       "      <th></th>\n",
       "      <th>№</th>\n",
       "      <th>CODE</th>\n",
       "      <th>FEMALE</th>\n",
       "      <th>MALE</th>\n",
       "      <th>MUT</th>\n",
       "      <th>TEMP</th>\n",
       "      <th>TIME</th>\n",
       "      <th>DEAD</th>\n",
       "      <th>FERT</th>\n",
       "      <th>FERT_NAME</th>\n",
       "      <th>TOTAL</th>\n",
       "      <th>TOTAL_SAMPLE</th>\n",
       "      <th>FERT.1</th>\n",
       "      <th>FERT_PERC</th>\n",
       "      <th>SWIM_PERC_FERT</th>\n",
       "      <th>SWIM_PERC_TOTAL</th>\n",
       "      <th>SWIM</th>\n",
       "      <th>SWIM_PERC_FERT_NORM</th>\n",
       "    </tr>\n",
       "  </thead>\n",
       "  <tbody>\n",
       "    <tr>\n",
       "      <th>0</th>\n",
       "      <td>1</td>\n",
       "      <td>11CC</td>\n",
       "      <td>1</td>\n",
       "      <td>1</td>\n",
       "      <td>C</td>\n",
       "      <td>C</td>\n",
       "      <td>NaN</td>\n",
       "      <td>38</td>\n",
       "      <td>239</td>\n",
       "      <td>Lera</td>\n",
       "      <td>49203</td>\n",
       "      <td>277</td>\n",
       "      <td>42453</td>\n",
       "      <td>86,28158845</td>\n",
       "      <td>2,827</td>\n",
       "      <td>2,439</td>\n",
       "      <td>1200</td>\n",
       "      <td>100</td>\n",
       "    </tr>\n",
       "    <tr>\n",
       "      <th>1</th>\n",
       "      <td>5</td>\n",
       "      <td>11MC</td>\n",
       "      <td>1</td>\n",
       "      <td>1</td>\n",
       "      <td>M</td>\n",
       "      <td>C</td>\n",
       "      <td>NaN</td>\n",
       "      <td>24</td>\n",
       "      <td>279</td>\n",
       "      <td>Lera</td>\n",
       "      <td>49203</td>\n",
       "      <td>303</td>\n",
       "      <td>45306</td>\n",
       "      <td>92,07920792</td>\n",
       "      <td>0,278</td>\n",
       "      <td>0,256</td>\n",
       "      <td>126</td>\n",
       "      <td>9,83888436</td>\n",
       "    </tr>\n",
       "    <tr>\n",
       "      <th>2</th>\n",
       "      <td>9</td>\n",
       "      <td>11C38</td>\n",
       "      <td>1</td>\n",
       "      <td>1</td>\n",
       "      <td>C</td>\n",
       "      <td>38</td>\n",
       "      <td>40.0</td>\n",
       "      <td>38</td>\n",
       "      <td>239</td>\n",
       "      <td>Lera</td>\n",
       "      <td>49203</td>\n",
       "      <td>277</td>\n",
       "      <td>42453</td>\n",
       "      <td>86,28158845</td>\n",
       "      <td>0,641</td>\n",
       "      <td>0,553</td>\n",
       "      <td>272</td>\n",
       "      <td>22,66666667</td>\n",
       "    </tr>\n",
       "    <tr>\n",
       "      <th>3</th>\n",
       "      <td>13</td>\n",
       "      <td>11M38</td>\n",
       "      <td>1</td>\n",
       "      <td>1</td>\n",
       "      <td>M</td>\n",
       "      <td>38</td>\n",
       "      <td>40.0</td>\n",
       "      <td>24</td>\n",
       "      <td>279</td>\n",
       "      <td>Lera</td>\n",
       "      <td>49203</td>\n",
       "      <td>303</td>\n",
       "      <td>45306</td>\n",
       "      <td>92,07920792</td>\n",
       "      <td>0,022</td>\n",
       "      <td>0,020</td>\n",
       "      <td>10</td>\n",
       "      <td>0,7808638381</td>\n",
       "    </tr>\n",
       "    <tr>\n",
       "      <th>4</th>\n",
       "      <td>3</td>\n",
       "      <td>21CC</td>\n",
       "      <td>2</td>\n",
       "      <td>1</td>\n",
       "      <td>C</td>\n",
       "      <td>C</td>\n",
       "      <td>NaN</td>\n",
       "      <td>21</td>\n",
       "      <td>275</td>\n",
       "      <td>Lera</td>\n",
       "      <td>66528</td>\n",
       "      <td>296</td>\n",
       "      <td>61808</td>\n",
       "      <td>92,90540541</td>\n",
       "      <td>3,721</td>\n",
       "      <td>3,457</td>\n",
       "      <td>2300</td>\n",
       "      <td>100</td>\n",
       "    </tr>\n",
       "    <tr>\n",
       "      <th>5</th>\n",
       "      <td>7</td>\n",
       "      <td>21MC</td>\n",
       "      <td>2</td>\n",
       "      <td>1</td>\n",
       "      <td>M</td>\n",
       "      <td>C</td>\n",
       "      <td>NaN</td>\n",
       "      <td>41</td>\n",
       "      <td>263</td>\n",
       "      <td>Lera</td>\n",
       "      <td>66528</td>\n",
       "      <td>304</td>\n",
       "      <td>57555</td>\n",
       "      <td>86,51315789</td>\n",
       "      <td>0,047</td>\n",
       "      <td>0,041</td>\n",
       "      <td>27</td>\n",
       "      <td>1,260650632</td>\n",
       "    </tr>\n",
       "    <tr>\n",
       "      <th>6</th>\n",
       "      <td>11</td>\n",
       "      <td>21C38</td>\n",
       "      <td>2</td>\n",
       "      <td>1</td>\n",
       "      <td>C</td>\n",
       "      <td>38</td>\n",
       "      <td>40.0</td>\n",
       "      <td>21</td>\n",
       "      <td>275</td>\n",
       "      <td>Lera</td>\n",
       "      <td>66528</td>\n",
       "      <td>296</td>\n",
       "      <td>61808</td>\n",
       "      <td>92,90540541</td>\n",
       "      <td>0,235</td>\n",
       "      <td>0,218</td>\n",
       "      <td>145</td>\n",
       "      <td>6,304347826</td>\n",
       "    </tr>\n",
       "    <tr>\n",
       "      <th>7</th>\n",
       "      <td>15</td>\n",
       "      <td>21M38</td>\n",
       "      <td>2</td>\n",
       "      <td>1</td>\n",
       "      <td>M</td>\n",
       "      <td>38</td>\n",
       "      <td>40.0</td>\n",
       "      <td>41</td>\n",
       "      <td>263</td>\n",
       "      <td>Lera</td>\n",
       "      <td>66528</td>\n",
       "      <td>304</td>\n",
       "      <td>57555</td>\n",
       "      <td>86,51315789</td>\n",
       "      <td>0,205</td>\n",
       "      <td>0,177</td>\n",
       "      <td>118</td>\n",
       "      <td>5,509510171</td>\n",
       "    </tr>\n",
       "    <tr>\n",
       "      <th>8</th>\n",
       "      <td>2</td>\n",
       "      <td>12CC</td>\n",
       "      <td>1</td>\n",
       "      <td>2</td>\n",
       "      <td>C</td>\n",
       "      <td>C</td>\n",
       "      <td>NaN</td>\n",
       "      <td>31</td>\n",
       "      <td>284</td>\n",
       "      <td>Lera</td>\n",
       "      <td>48510</td>\n",
       "      <td>315</td>\n",
       "      <td>43736</td>\n",
       "      <td>90,15873016</td>\n",
       "      <td>13,719</td>\n",
       "      <td>12,369</td>\n",
       "      <td>6000</td>\n",
       "      <td>100</td>\n",
       "    </tr>\n",
       "    <tr>\n",
       "      <th>9</th>\n",
       "      <td>6</td>\n",
       "      <td>12MC</td>\n",
       "      <td>1</td>\n",
       "      <td>2</td>\n",
       "      <td>M</td>\n",
       "      <td>C</td>\n",
       "      <td>NaN</td>\n",
       "      <td>144</td>\n",
       "      <td>189</td>\n",
       "      <td>Lera</td>\n",
       "      <td>49203</td>\n",
       "      <td>333</td>\n",
       "      <td>27926</td>\n",
       "      <td>56,75675676</td>\n",
       "      <td>0,039</td>\n",
       "      <td>0,022</td>\n",
       "      <td>11</td>\n",
       "      <td>0,2871252205</td>\n",
       "    </tr>\n",
       "    <tr>\n",
       "      <th>10</th>\n",
       "      <td>10</td>\n",
       "      <td>12C38</td>\n",
       "      <td>1</td>\n",
       "      <td>2</td>\n",
       "      <td>C</td>\n",
       "      <td>38</td>\n",
       "      <td>40.0</td>\n",
       "      <td>31</td>\n",
       "      <td>284</td>\n",
       "      <td>Lera</td>\n",
       "      <td>48510</td>\n",
       "      <td>315</td>\n",
       "      <td>43736</td>\n",
       "      <td>90,15873016</td>\n",
       "      <td>0,002</td>\n",
       "      <td>0,002</td>\n",
       "      <td>1</td>\n",
       "      <td>0,01666666667</td>\n",
       "    </tr>\n",
       "    <tr>\n",
       "      <th>11</th>\n",
       "      <td>14</td>\n",
       "      <td>12M38</td>\n",
       "      <td>1</td>\n",
       "      <td>2</td>\n",
       "      <td>M</td>\n",
       "      <td>38</td>\n",
       "      <td>40.0</td>\n",
       "      <td>144</td>\n",
       "      <td>189</td>\n",
       "      <td>Lera</td>\n",
       "      <td>49203</td>\n",
       "      <td>333</td>\n",
       "      <td>27926</td>\n",
       "      <td>56,75675676</td>\n",
       "      <td>0,039</td>\n",
       "      <td>0,022</td>\n",
       "      <td>11</td>\n",
       "      <td>0,2871252205</td>\n",
       "    </tr>\n",
       "    <tr>\n",
       "      <th>12</th>\n",
       "      <td>4</td>\n",
       "      <td>22CC</td>\n",
       "      <td>2</td>\n",
       "      <td>2</td>\n",
       "      <td>C</td>\n",
       "      <td>C</td>\n",
       "      <td>NaN</td>\n",
       "      <td>26</td>\n",
       "      <td>240</td>\n",
       "      <td>Lera</td>\n",
       "      <td>66528</td>\n",
       "      <td>266</td>\n",
       "      <td>60025</td>\n",
       "      <td>90,22556391</td>\n",
       "      <td>0,333</td>\n",
       "      <td>0,301</td>\n",
       "      <td>200</td>\n",
       "      <td>100</td>\n",
       "    </tr>\n",
       "    <tr>\n",
       "      <th>13</th>\n",
       "      <td>8</td>\n",
       "      <td>22MC</td>\n",
       "      <td>2</td>\n",
       "      <td>2</td>\n",
       "      <td>M</td>\n",
       "      <td>C</td>\n",
       "      <td>NaN</td>\n",
       "      <td>20</td>\n",
       "      <td>286</td>\n",
       "      <td>Lera</td>\n",
       "      <td>65835</td>\n",
       "      <td>306</td>\n",
       "      <td>61532</td>\n",
       "      <td>93,46405229</td>\n",
       "      <td>3,250</td>\n",
       "      <td>3,038</td>\n",
       "      <td>2000</td>\n",
       "      <td>975,5120226</td>\n",
       "    </tr>\n",
       "    <tr>\n",
       "      <th>14</th>\n",
       "      <td>12</td>\n",
       "      <td>22C38</td>\n",
       "      <td>2</td>\n",
       "      <td>2</td>\n",
       "      <td>C</td>\n",
       "      <td>38</td>\n",
       "      <td>40.0</td>\n",
       "      <td>26</td>\n",
       "      <td>240</td>\n",
       "      <td>Lera</td>\n",
       "      <td>66528</td>\n",
       "      <td>266</td>\n",
       "      <td>60025</td>\n",
       "      <td>90,22556391</td>\n",
       "      <td>0,068</td>\n",
       "      <td>0,062</td>\n",
       "      <td>41</td>\n",
       "      <td>20,5</td>\n",
       "    </tr>\n",
       "    <tr>\n",
       "      <th>15</th>\n",
       "      <td>16</td>\n",
       "      <td>22M38</td>\n",
       "      <td>2</td>\n",
       "      <td>2</td>\n",
       "      <td>M</td>\n",
       "      <td>38</td>\n",
       "      <td>40.0</td>\n",
       "      <td>20</td>\n",
       "      <td>286</td>\n",
       "      <td>Lera</td>\n",
       "      <td>65835</td>\n",
       "      <td>306</td>\n",
       "      <td>61532</td>\n",
       "      <td>93,46405229</td>\n",
       "      <td>0,007</td>\n",
       "      <td>0,006</td>\n",
       "      <td>4</td>\n",
       "      <td>1,951024045</td>\n",
       "    </tr>\n",
       "  </tbody>\n",
       "</table>\n",
       "</div>"
      ],
      "text/plain": [
       "     №   CODE  FEMALE  MALE MUT TEMP  TIME  DEAD  FERT FERT_NAME  TOTAL  \\\n",
       "0    1   11CC       1     1   C    C   NaN    38   239      Lera  49203   \n",
       "1    5   11MC       1     1   M    C   NaN    24   279      Lera  49203   \n",
       "2    9  11C38       1     1   C   38  40.0    38   239      Lera  49203   \n",
       "3   13  11M38       1     1   M   38  40.0    24   279      Lera  49203   \n",
       "4    3   21CC       2     1   C    C   NaN    21   275      Lera  66528   \n",
       "5    7   21MC       2     1   M    C   NaN    41   263      Lera  66528   \n",
       "6   11  21C38       2     1   C   38  40.0    21   275      Lera  66528   \n",
       "7   15  21M38       2     1   M   38  40.0    41   263      Lera  66528   \n",
       "8    2   12CC       1     2   C    C   NaN    31   284      Lera  48510   \n",
       "9    6   12MC       1     2   M    C   NaN   144   189      Lera  49203   \n",
       "10  10  12C38       1     2   C   38  40.0    31   284      Lera  48510   \n",
       "11  14  12M38       1     2   M   38  40.0   144   189      Lera  49203   \n",
       "12   4   22CC       2     2   C    C   NaN    26   240      Lera  66528   \n",
       "13   8   22MC       2     2   M    C   NaN    20   286      Lera  65835   \n",
       "14  12  22C38       2     2   C   38  40.0    26   240      Lera  66528   \n",
       "15  16  22M38       2     2   M   38  40.0    20   286      Lera  65835   \n",
       "\n",
       "    TOTAL_SAMPLE  FERT.1    FERT_PERC SWIM_PERC_FERT SWIM_PERC_TOTAL  SWIM  \\\n",
       "0            277   42453  86,28158845          2,827           2,439  1200   \n",
       "1            303   45306  92,07920792          0,278           0,256   126   \n",
       "2            277   42453  86,28158845          0,641           0,553   272   \n",
       "3            303   45306  92,07920792          0,022           0,020    10   \n",
       "4            296   61808  92,90540541          3,721           3,457  2300   \n",
       "5            304   57555  86,51315789          0,047           0,041    27   \n",
       "6            296   61808  92,90540541          0,235           0,218   145   \n",
       "7            304   57555  86,51315789          0,205           0,177   118   \n",
       "8            315   43736  90,15873016         13,719          12,369  6000   \n",
       "9            333   27926  56,75675676          0,039           0,022    11   \n",
       "10           315   43736  90,15873016          0,002           0,002     1   \n",
       "11           333   27926  56,75675676          0,039           0,022    11   \n",
       "12           266   60025  90,22556391          0,333           0,301   200   \n",
       "13           306   61532  93,46405229          3,250           3,038  2000   \n",
       "14           266   60025  90,22556391          0,068           0,062    41   \n",
       "15           306   61532  93,46405229          0,007           0,006     4   \n",
       "\n",
       "   SWIM_PERC_FERT_NORM  \n",
       "0                  100  \n",
       "1           9,83888436  \n",
       "2          22,66666667  \n",
       "3         0,7808638381  \n",
       "4                  100  \n",
       "5          1,260650632  \n",
       "6          6,304347826  \n",
       "7          5,509510171  \n",
       "8                  100  \n",
       "9         0,2871252205  \n",
       "10       0,01666666667  \n",
       "11        0,2871252205  \n",
       "12                 100  \n",
       "13         975,5120226  \n",
       "14                20,5  \n",
       "15         1,951024045  "
      ]
     },
     "execution_count": 31,
     "metadata": {},
     "output_type": "execute_result"
    }
   ],
   "source": [
    "exp5fac"
   ]
  },
  {
   "cell_type": "code",
   "execution_count": 32,
   "id": "ac034eef",
   "metadata": {},
   "outputs": [],
   "source": [
    "exp5fac.FEMALE = exp5fac.FEMALE.astype(str)\n",
    "exp5fac.MALE = exp5fac.MALE.astype(str)\n",
    "exp5fac.TEMP = exp5fac.TEMP.astype(str)\n",
    "\n",
    "exp5fac.FERT_PERC = exp5fac.FERT_PERC.str.replace(',', '.')\n",
    "exp5fac.FERT_PERC = pd.to_numeric(exp5fac.FERT_PERC)\n",
    "\n",
    "exp5fac.SWIM_PERC_FERT = exp5fac.SWIM_PERC_FERT.str.replace(',', '.')\n",
    "exp5fac.SWIM_PERC_FERT = pd.to_numeric(exp5fac.SWIM_PERC_FERT)\n",
    "\n",
    "exp5fac.SWIM_PERC_FERT_NORM = exp5fac.SWIM_PERC_FERT_NORM.str.replace(',', '.')\n",
    "exp5fac.SWIM_PERC_FERT_NORM = pd.to_numeric(exp5fac.SWIM_PERC_FERT_NORM)"
   ]
  },
  {
   "cell_type": "code",
   "execution_count": 33,
   "id": "498631ab",
   "metadata": {},
   "outputs": [],
   "source": [
    "exp5fac['FAMILY'] = exp5fac.FEMALE + exp5fac.MALE\n",
    "exp5fac['CODE_COND'] = exp5fac.MUT + exp5fac.TEMP"
   ]
  },
  {
   "cell_type": "markdown",
   "id": "ccce892f",
   "metadata": {},
   "source": [
    "### FIND OUTLIERS"
   ]
  },
  {
   "cell_type": "code",
   "execution_count": 22,
   "id": "b1291006",
   "metadata": {},
   "outputs": [
    {
     "data": {
      "text/plain": [
       "Series([], Name: FERT.1, dtype: int64)"
      ]
     },
     "execution_count": 22,
     "metadata": {},
     "output_type": "execute_result"
    }
   ],
   "source": [
    "find_outliers_IQR(exp5fac['FERT.1'])"
   ]
  },
  {
   "cell_type": "code",
   "execution_count": 23,
   "id": "81d28c50",
   "metadata": {},
   "outputs": [
    {
     "data": {
      "text/plain": [
       "9     56.756757\n",
       "11    56.756757\n",
       "Name: FERT_PERC, dtype: float64"
      ]
     },
     "execution_count": 23,
     "metadata": {},
     "output_type": "execute_result"
    }
   ],
   "source": [
    "find_outliers_IQR(exp5fac['FERT_PERC'])"
   ]
  },
  {
   "cell_type": "code",
   "execution_count": 24,
   "id": "5b39208c",
   "metadata": {},
   "outputs": [
    {
     "data": {
      "text/plain": [
       "4     2300\n",
       "8     6000\n",
       "13    2000\n",
       "Name: SWIM, dtype: int64"
      ]
     },
     "execution_count": 24,
     "metadata": {},
     "output_type": "execute_result"
    }
   ],
   "source": [
    "find_outliers_IQR(exp5fac['SWIM'])"
   ]
  },
  {
   "cell_type": "code",
   "execution_count": 25,
   "id": "095e6d4f",
   "metadata": {},
   "outputs": [
    {
     "data": {
      "text/plain": [
       "4      3.721\n",
       "8     13.719\n",
       "13     3.250\n",
       "Name: SWIM_PERC_FERT, dtype: float64"
      ]
     },
     "execution_count": 25,
     "metadata": {},
     "output_type": "execute_result"
    }
   ],
   "source": [
    "find_outliers_IQR(exp5fac['SWIM_PERC_FERT'])"
   ]
  },
  {
   "cell_type": "code",
   "execution_count": 26,
   "id": "ab6424e9",
   "metadata": {},
   "outputs": [
    {
     "data": {
      "text/plain": [
       "<AxesSubplot: >"
      ]
     },
     "execution_count": 26,
     "metadata": {},
     "output_type": "execute_result"
    },
    {
     "data": {
      "image/png": "[encoded data removed]",
      "text/plain": [
       "<Figure size 1000x600 with 1 Axes>"
      ]
     },
     "metadata": {},
     "output_type": "display_data"
    }
   ],
   "source": [
    "sns.boxplot(exp5fac[['FERT.1', 'FERT_PERC', 'SWIM', 'SWIM_PERC_FERT']])"
   ]
  },
  {
   "cell_type": "markdown",
   "id": "617c5330",
   "metadata": {},
   "source": [
    "### DRAW PLOT"
   ]
  },
  {
   "cell_type": "code",
   "execution_count": 34,
   "id": "71b89b54",
   "metadata": {},
   "outputs": [],
   "source": [
    "exp_11 = exp5fac[exp5fac['CODE'] == '11C38'].SWIM_PERC_FERT_NORM.mean() * exp5fac[exp5fac['CODE'] == '11MC'].SWIM_PERC_FERT_NORM.mean() / 100\n",
    "exp_21 = exp5fac[exp5fac['CODE'] == '21C38'].SWIM_PERC_FERT_NORM.mean() * exp5fac[exp5fac['CODE'] == '21MC'].SWIM_PERC_FERT_NORM.mean() / 100"
   ]
  },
  {
   "cell_type": "code",
   "execution_count": 95,
   "id": "8f362f2b",
   "metadata": {},
   "outputs": [
    {
     "name": "stderr",
     "output_type": "stream",
     "text": [
      "/var/folders/lr/tz5w155s1wv9t8nfchl8bm700000gn/T/ipykernel_56051/1706216807.py:1: UserWarning: Boolean Series key will be reindexed to match DataFrame index.\n",
      "  g = sns.FacetGrid(exp5fac[(exp5fac['FAMILY'] == '11') | (exp5fac['FAMILY'] == '21')][(exp5fac['MUT'] == 'C')], col=\"FAMILY\")\n"
     ]
    },
    {
     "data": {
      "image/png": "[encoded data removed]",
      "text/plain": [
       "<Figure size 600x300 with 2 Axes>"
      ]
     },
     "metadata": {},
     "output_type": "display_data"
    }
   ],
   "source": [
    "g = sns.FacetGrid(exp5fac[(exp5fac['FAMILY'] == '11') | (exp5fac['FAMILY'] == '21')][(exp5fac['MUT'] == 'C')], col=\"FAMILY\")\n",
    "g.map(sns.barplot, 'CODE_COND', 'SWIM_PERC_FERT_NORM', order=['CC', 'C38'])\n",
    "\n",
    "g.set_xlabels(\"\")\n",
    "g.set_ylabels(\"Swimming individuals, %\")\n",
    "g.set_xticklabels(['H-M-', 'H+M-'])\n",
    "\n",
    "ax1, ax2 = g.axes[0]\n",
    "\n",
    "ax1.set_title('1x1 family')\n",
    "ax2.set_title('2x1 family')\n",
    "\n",
    "# ax1.axhline(exp_11, xmin=0.5, ls='--', color='orange')\n",
    "# ax2.axhline(exp_21, xmin=0.5, ls='--', color='orange');\n",
    "\n",
    "plt.savefig('../figures/exp5fac_main_plot.png')\n",
    "plt.savefig('../figures/exp5fac_main_plot.svg', format='svg')"
   ]
  },
  {
   "cell_type": "code",
   "execution_count": 35,
   "id": "8316c6d1",
   "metadata": {},
   "outputs": [],
   "source": [
    "exp_11_common = exp5fac[exp5fac['CODE'] == '11C38'].SWIM_PERC_FERT.mean() * exp5fac[exp5fac['CODE'] == '11MC'].SWIM_PERC_FERT.mean() / 100\n",
    "exp_12_common = exp5fac[exp5fac['CODE'] == '12C38'].SWIM_PERC_FERT.mean() * exp5fac[exp5fac['CODE'] == '12MC'].SWIM_PERC_FERT.mean() / 100\n",
    "exp_21_common = exp5fac[exp5fac['CODE'] == '21C38'].SWIM_PERC_FERT.mean() * exp5fac[exp5fac['CODE'] == '21MC'].SWIM_PERC_FERT.mean() / 100\n",
    "exp_22_common = exp5fac[exp5fac['CODE'] == '22C38'].SWIM_PERC_FERT.mean() * exp5fac[exp5fac['CODE'] == '22MC'].SWIM_PERC_FERT.mean() / 100"
   ]
  },
  {
   "cell_type": "code",
   "execution_count": 30,
   "id": "028e06c8",
   "metadata": {},
   "outputs": [
    {
     "data": {
      "image/png": "[encoded data removed]",
      "text/plain": [
       "<Figure size 1200x300 with 4 Axes>"
      ]
     },
     "metadata": {},
     "output_type": "display_data"
    }
   ],
   "source": [
    "g = sns.FacetGrid(exp5fac, col=\"FAMILY\")\n",
    "g.map(sns.barplot, 'CODE_COND', 'SWIM_PERC_FERT', order=['CC', 'C38', 'MC', 'M38'])\n",
    "\n",
    "ax1, ax2, ax3, ax4 = g.axes[0]\n",
    "ax1.axhline(exp_11_common, xmin=0.75, ls='--', color='orange')\n",
    "ax2.axhline(exp_12_common, xmin=0.75, ls='--', color='orange')\n",
    "ax3.axhline(exp_21_common, xmin=0.75, ls='--', color='orange')\n",
    "ax4.axhline(exp_22_common, xmin=0.75, ls='--', color='orange');"
   ]
  },
  {
   "cell_type": "markdown",
   "id": "fff283d8",
   "metadata": {},
   "source": [
    "# EXP 8 main factory"
   ]
  },
  {
   "cell_type": "code",
   "execution_count": 13,
   "id": "2ac19c6c",
   "metadata": {},
   "outputs": [],
   "source": [
    "sheet_id = '1aqHnDaiRXntyrbj6qaqzR-4XnLbvtKU84FB_JLu5x5A'\n",
    "sheet_name = 'EXP_8_second_main_factory'\n",
    "url = f'https://docs.google.com/spreadsheets/d/{sheet_id}/gviz/tq?tqx=out:csv&sheet={sheet_name}'\n",
    "exp8fac = pd.read_csv(url)"
   ]
  },
  {
   "cell_type": "code",
   "execution_count": 14,
   "id": "3e1eda65",
   "metadata": {},
   "outputs": [],
   "source": [
    "exp8fac.TEMP = exp8fac.TEMP.astype(str)\n",
    "\n",
    "exp8fac.FERT_PERC = exp8fac.FERT_PERC.str.replace(',', '.')\n",
    "exp8fac.FERT_PERC = pd.to_numeric(exp8fac.FERT_PERC)\n",
    "\n",
    "exp8fac.SWIM_PERC_FERT = exp8fac.SWIM_PERC_FERT.str.replace(',', '.')\n",
    "exp8fac.SWIM_PERC_FERT = pd.to_numeric(exp8fac.SWIM_PERC_FERT)\n",
    "\n",
    "exp8fac.SWIM_PERC_FERT_NORM = exp8fac.SWIM_PERC_FERT_NORM.str.replace(',', '.')\n",
    "exp8fac.SWIM_PERC_FERT_NORM = pd.to_numeric(exp8fac.SWIM_PERC_FERT_NORM)"
   ]
  },
  {
   "cell_type": "code",
   "execution_count": 15,
   "id": "c9dfeff1",
   "metadata": {},
   "outputs": [],
   "source": [
    "exp8fac = exp8fac.iloc[9:13,]"
   ]
  },
  {
   "cell_type": "code",
   "execution_count": 16,
   "id": "ffc1c0c3",
   "metadata": {},
   "outputs": [
    {
     "data": {
      "text/html": [
       "<div>\n",
       "<style scoped>\n",
       "    .dataframe tbody tr th:only-of-type {\n",
       "        vertical-align: middle;\n",
       "    }\n",
       "\n",
       "    .dataframe tbody tr th {\n",
       "        vertical-align: top;\n",
       "    }\n",
       "\n",
       "    .dataframe thead th {\n",
       "        text-align: right;\n",
       "    }\n",
       "</style>\n",
       "<table border=\"1\" class=\"dataframe\">\n",
       "  <thead>\n",
       "    <tr style=\"text-align: right;\">\n",
       "      <th></th>\n",
       "      <th>№</th>\n",
       "      <th>CODE</th>\n",
       "      <th>MUT</th>\n",
       "      <th>TEMP</th>\n",
       "      <th>TIME</th>\n",
       "      <th>DEAD</th>\n",
       "      <th>FERT</th>\n",
       "      <th>FERT_NAME</th>\n",
       "      <th>TOTAL</th>\n",
       "      <th>TOTAL_SAMPLE</th>\n",
       "      <th>FERT.1</th>\n",
       "      <th>FERT_PERC</th>\n",
       "      <th>SWIM_PERC_FERT</th>\n",
       "      <th>SWIM_PERC_TOTAL</th>\n",
       "      <th>SWIM</th>\n",
       "      <th>SWIM_PERC_FERT_NORM</th>\n",
       "      <th>SWIM_PERC_TOTAL_NORM</th>\n",
       "    </tr>\n",
       "  </thead>\n",
       "  <tbody>\n",
       "    <tr>\n",
       "      <th>9</th>\n",
       "      <td>NaN</td>\n",
       "      <td>CC</td>\n",
       "      <td>C</td>\n",
       "      <td>nan</td>\n",
       "      <td>0</td>\n",
       "      <td>NaN</td>\n",
       "      <td>NaN</td>\n",
       "      <td>NaN</td>\n",
       "      <td>629244.0</td>\n",
       "      <td>NaN</td>\n",
       "      <td>274053.0</td>\n",
       "      <td>43.552805</td>\n",
       "      <td>43.787085</td>\n",
       "      <td>19,07050365</td>\n",
       "      <td>120000.0</td>\n",
       "      <td>100.000000</td>\n",
       "      <td>100</td>\n",
       "    </tr>\n",
       "    <tr>\n",
       "      <th>10</th>\n",
       "      <td>NaN</td>\n",
       "      <td>C38</td>\n",
       "      <td>C</td>\n",
       "      <td>38.0</td>\n",
       "      <td>40</td>\n",
       "      <td>NaN</td>\n",
       "      <td>NaN</td>\n",
       "      <td>NaN</td>\n",
       "      <td>629244.0</td>\n",
       "      <td>NaN</td>\n",
       "      <td>274053.0</td>\n",
       "      <td>43.552805</td>\n",
       "      <td>31.745636</td>\n",
       "      <td>13,82611515</td>\n",
       "      <td>87000.0</td>\n",
       "      <td>72.500000</td>\n",
       "      <td>72,5</td>\n",
       "    </tr>\n",
       "    <tr>\n",
       "      <th>11</th>\n",
       "      <td>NaN</td>\n",
       "      <td>MC</td>\n",
       "      <td>M</td>\n",
       "      <td>nan</td>\n",
       "      <td>0</td>\n",
       "      <td>NaN</td>\n",
       "      <td>NaN</td>\n",
       "      <td>NaN</td>\n",
       "      <td>629244.0</td>\n",
       "      <td>NaN</td>\n",
       "      <td>339140.0</td>\n",
       "      <td>53.896430</td>\n",
       "      <td>11.794537</td>\n",
       "      <td>6,356834551</td>\n",
       "      <td>40000.0</td>\n",
       "      <td>26.936110</td>\n",
       "      <td>33,33333333</td>\n",
       "    </tr>\n",
       "    <tr>\n",
       "      <th>12</th>\n",
       "      <td>NaN</td>\n",
       "      <td>M38</td>\n",
       "      <td>M</td>\n",
       "      <td>38.0</td>\n",
       "      <td>40</td>\n",
       "      <td>NaN</td>\n",
       "      <td>NaN</td>\n",
       "      <td>NaN</td>\n",
       "      <td>629244.0</td>\n",
       "      <td>NaN</td>\n",
       "      <td>339140.0</td>\n",
       "      <td>53.896430</td>\n",
       "      <td>2.358907</td>\n",
       "      <td>1,27136691</td>\n",
       "      <td>8000.0</td>\n",
       "      <td>5.387222</td>\n",
       "      <td>6,666666667</td>\n",
       "    </tr>\n",
       "  </tbody>\n",
       "</table>\n",
       "</div>"
      ],
      "text/plain": [
       "     № CODE MUT  TEMP  TIME  DEAD  FERT FERT_NAME     TOTAL  TOTAL_SAMPLE  \\\n",
       "9  NaN   CC   C   nan     0   NaN   NaN       NaN  629244.0           NaN   \n",
       "10 NaN  C38   C  38.0    40   NaN   NaN       NaN  629244.0           NaN   \n",
       "11 NaN   MC   M   nan     0   NaN   NaN       NaN  629244.0           NaN   \n",
       "12 NaN  M38   M  38.0    40   NaN   NaN       NaN  629244.0           NaN   \n",
       "\n",
       "      FERT.1  FERT_PERC  SWIM_PERC_FERT SWIM_PERC_TOTAL      SWIM  \\\n",
       "9   274053.0  43.552805       43.787085     19,07050365  120000.0   \n",
       "10  274053.0  43.552805       31.745636     13,82611515   87000.0   \n",
       "11  339140.0  53.896430       11.794537     6,356834551   40000.0   \n",
       "12  339140.0  53.896430        2.358907      1,27136691    8000.0   \n",
       "\n",
       "    SWIM_PERC_FERT_NORM SWIM_PERC_TOTAL_NORM  \n",
       "9            100.000000                  100  \n",
       "10            72.500000                 72,5  \n",
       "11            26.936110          33,33333333  \n",
       "12             5.387222          6,666666667  "
      ]
     },
     "execution_count": 16,
     "metadata": {},
     "output_type": "execute_result"
    }
   ],
   "source": [
    "exp8fac"
   ]
  },
  {
   "cell_type": "code",
   "execution_count": 17,
   "id": "4e7dbaff",
   "metadata": {},
   "outputs": [],
   "source": [
    "exp8fac['CODE_COND'] = exp8fac.CODE.str.replace('1', '').str.replace('2', '')"
   ]
  },
  {
   "cell_type": "markdown",
   "id": "317bd57e",
   "metadata": {},
   "source": [
    "### FIND OUTLIERS"
   ]
  },
  {
   "cell_type": "code",
   "execution_count": 36,
   "id": "d92dbdac",
   "metadata": {},
   "outputs": [
    {
     "data": {
      "text/plain": [
       "Series([], Name: FERT.1, dtype: float64)"
      ]
     },
     "execution_count": 36,
     "metadata": {},
     "output_type": "execute_result"
    }
   ],
   "source": [
    "find_outliers_IQR(exp8fac['FERT.1'])"
   ]
  },
  {
   "cell_type": "code",
   "execution_count": 37,
   "id": "f068b2da",
   "metadata": {},
   "outputs": [
    {
     "data": {
      "text/plain": [
       "Series([], Name: FERT_PERC, dtype: float64)"
      ]
     },
     "execution_count": 37,
     "metadata": {},
     "output_type": "execute_result"
    }
   ],
   "source": [
    "find_outliers_IQR(exp8fac['FERT_PERC'])"
   ]
  },
  {
   "cell_type": "code",
   "execution_count": 38,
   "id": "7225bc3d",
   "metadata": {},
   "outputs": [
    {
     "data": {
      "text/plain": [
       "Series([], Name: SWIM, dtype: float64)"
      ]
     },
     "execution_count": 38,
     "metadata": {},
     "output_type": "execute_result"
    }
   ],
   "source": [
    "find_outliers_IQR(exp8fac['SWIM'])"
   ]
  },
  {
   "cell_type": "code",
   "execution_count": 39,
   "id": "2ed27947",
   "metadata": {},
   "outputs": [
    {
     "data": {
      "text/plain": [
       "Series([], Name: SWIM_PERC_FERT, dtype: float64)"
      ]
     },
     "execution_count": 39,
     "metadata": {},
     "output_type": "execute_result"
    }
   ],
   "source": [
    "find_outliers_IQR(exp8fac['SWIM_PERC_FERT'])"
   ]
  },
  {
   "cell_type": "code",
   "execution_count": 40,
   "id": "aad1da5d",
   "metadata": {},
   "outputs": [
    {
     "data": {
      "text/plain": [
       "<AxesSubplot: >"
      ]
     },
     "execution_count": 40,
     "metadata": {},
     "output_type": "execute_result"
    },
    {
     "data": {
      "image/png": "[encoded data removed]",
      "text/plain": [
       "<Figure size 1000x600 with 1 Axes>"
      ]
     },
     "metadata": {},
     "output_type": "display_data"
    }
   ],
   "source": [
    "sns.boxplot(exp8fac[['FERT.1', 'FERT_PERC', 'SWIM', 'SWIM_PERC_FERT']])"
   ]
  },
  {
   "cell_type": "markdown",
   "id": "4d9b1acd",
   "metadata": {},
   "source": [
    "### DRAW PLOT"
   ]
  },
  {
   "cell_type": "code",
   "execution_count": 18,
   "id": "2ee9406a",
   "metadata": {},
   "outputs": [],
   "source": [
    "expected_8 = exp8fac[exp8fac['CODE_COND'] == 'C38'].SWIM_PERC_FERT_NORM.mean() * exp8fac[exp8fac['CODE_COND'] == 'MC'].SWIM_PERC_FERT_NORM.mean() / 100"
   ]
  },
  {
   "cell_type": "code",
   "execution_count": 19,
   "id": "f51cf92b",
   "metadata": {},
   "outputs": [],
   "source": [
    "# expected line logic: (shock / control) * (mutagen / control) * control\n",
    "expected_8 = (exp8fac[exp8fac['CODE_COND'] == 'C38'].SWIM_PERC_FERT_NORM.mean() / exp8fac[exp8fac['CODE_COND'] == 'CC'].SWIM_PERC_FERT_NORM.mean()) * \\\n",
    "         (exp8fac[exp8fac['CODE_COND'] == 'MC'].SWIM_PERC_FERT_NORM.mean() / exp8fac[exp8fac['CODE_COND'] == 'CC'].SWIM_PERC_FERT_NORM.mean()) * \\\n",
    "          exp8fac[exp8fac['CODE_COND'] == 'CC'].SWIM_PERC_FERT_NORM.mean()"
   ]
  },
  {
   "cell_type": "code",
   "execution_count": 20,
   "id": "f04fc78d",
   "metadata": {},
   "outputs": [
    {
     "data": {
      "text/plain": [
       "19.528679612250002"
      ]
     },
     "execution_count": 20,
     "metadata": {},
     "output_type": "execute_result"
    }
   ],
   "source": [
    "expected_8"
   ]
  },
  {
   "cell_type": "code",
   "execution_count": 21,
   "id": "ea182737",
   "metadata": {},
   "outputs": [
    {
     "data": {
      "text/plain": [
       "12    5.387222\n",
       "Name: SWIM_PERC_FERT_NORM, dtype: float64"
      ]
     },
     "execution_count": 21,
     "metadata": {},
     "output_type": "execute_result"
    }
   ],
   "source": [
    "exp8fac[exp8fac['CODE_COND'] == 'M38']['SWIM_PERC_FERT_NORM']"
   ]
  },
  {
   "cell_type": "code",
   "execution_count": 22,
   "id": "38c38204",
   "metadata": {},
   "outputs": [
    {
     "data": {
      "image/png": "[encoded data removed]",
      "text/plain": [
       "<Figure size 432x288 with 1 Axes>"
      ]
     },
     "metadata": {
      "needs_background": "light"
     },
     "output_type": "display_data"
    }
   ],
   "source": [
    "sns.barplot(exp8fac, x='CODE_COND', y='SWIM_PERC_FERT_NORM')\n",
    "plt.axhline(y=expected_8, xmin=0.75, color='orange', ls='--') \n",
    "plt.xlabel(\"\")\n",
    "plt.ylabel(\"Swimming individuals, %\")\n",
    "plt.xticks(np.arange(4), ['H-M-', 'H+M-', 'H-M+', 'H+M+'])\n",
    "plt.savefig('../figures/paper1/exp8_hist.png')\n",
    "plt.savefig('../figures/paper1/exp8_hist.pdf', format='pdf')"
   ]
  },
  {
   "cell_type": "code",
   "execution_count": 110,
   "id": "47a34bbd",
   "metadata": {},
   "outputs": [
    {
     "data": {
      "image/png": "[encoded data removed]",
      "text/plain": [
       "<Figure size 1000x600 with 1 Axes>"
      ]
     },
     "metadata": {},
     "output_type": "display_data"
    }
   ],
   "source": [
    "sns.barplot(exp8fac, x='CODE_COND', y='SWIM_PERC_FERT_NORM',\n",
    "            palette={'CC': '#2976bb', 'C38': '#fdaa48', 'MC': '#50a747', 'M38': '#d3494e'})\n",
    "plt.axhline(y=expected_8, xmin=0.75, color='orange', ls='--') \n",
    "plt.xlabel(\"\")\n",
    "plt.ylabel(\"Swimming individuals, %\")\n",
    "plt.xticks(np.arange(4), ['H-M-', 'H+M-', 'H-M+', 'H+M+']);"
   ]
  },
  {
   "cell_type": "markdown",
   "id": "56b82c1b",
   "metadata": {},
   "source": [
    "# EXP 5 POUNDS"
   ]
  },
  {
   "cell_type": "code",
   "execution_count": 46,
   "id": "4d94e29d",
   "metadata": {},
   "outputs": [],
   "source": [
    "sheet_id = '1aqHnDaiRXntyrbj6qaqzR-4XnLbvtKU84FB_JLu5x5A'\n",
    "sheet_name = '5_PONDS'\n",
    "url = f'https://docs.google.com/spreadsheets/d/{sheet_id}/gviz/tq?tqx=out:csv&sheet={sheet_name}'\n",
    "ponds = pd.read_csv(url)"
   ]
  },
  {
   "cell_type": "code",
   "execution_count": 47,
   "id": "5c4dd6a7",
   "metadata": {},
   "outputs": [],
   "source": [
    "ponds = ponds.rename(columns={\"AVG_weight(g)\": \"AVG_weight\"})"
   ]
  },
  {
   "cell_type": "code",
   "execution_count": 48,
   "id": "626527ab",
   "metadata": {},
   "outputs": [],
   "source": [
    "ponds['AVG_weight'] = ponds['AVG_weight'].str.replace(',', '.')\n",
    "ponds['AVG_weight'] = pd.to_numeric(ponds['AVG_weight'])"
   ]
  },
  {
   "cell_type": "code",
   "execution_count": 49,
   "id": "24b5092d",
   "metadata": {},
   "outputs": [
    {
     "data": {
      "text/html": [
       "<div>\n",
       "<style scoped>\n",
       "    .dataframe tbody tr th:only-of-type {\n",
       "        vertical-align: middle;\n",
       "    }\n",
       "\n",
       "    .dataframe tbody tr th {\n",
       "        vertical-align: top;\n",
       "    }\n",
       "\n",
       "    .dataframe thead th {\n",
       "        text-align: right;\n",
       "    }\n",
       "</style>\n",
       "<table border=\"1\" class=\"dataframe\">\n",
       "  <thead>\n",
       "    <tr style=\"text-align: right;\">\n",
       "      <th></th>\n",
       "      <th>Pond</th>\n",
       "      <th>Family</th>\n",
       "      <th>Mode</th>\n",
       "      <th>Type</th>\n",
       "      <th>Count</th>\n",
       "      <th>Weight(g)</th>\n",
       "      <th>AVG_weight</th>\n",
       "    </tr>\n",
       "  </thead>\n",
       "  <tbody>\n",
       "    <tr>\n",
       "      <th>0</th>\n",
       "      <td>1</td>\n",
       "      <td>1x1</td>\n",
       "      <td>Control</td>\n",
       "      <td>Crasus</td>\n",
       "      <td>10</td>\n",
       "      <td>280</td>\n",
       "      <td>28.000000</td>\n",
       "    </tr>\n",
       "    <tr>\n",
       "      <th>0</th>\n",
       "      <td>1</td>\n",
       "      <td>1x1</td>\n",
       "      <td>Control</td>\n",
       "      <td>Crasus</td>\n",
       "      <td>10</td>\n",
       "      <td>280</td>\n",
       "      <td>28.000000</td>\n",
       "    </tr>\n",
       "    <tr>\n",
       "      <th>0</th>\n",
       "      <td>1</td>\n",
       "      <td>1x1</td>\n",
       "      <td>Control</td>\n",
       "      <td>Crasus</td>\n",
       "      <td>10</td>\n",
       "      <td>280</td>\n",
       "      <td>28.000000</td>\n",
       "    </tr>\n",
       "    <tr>\n",
       "      <th>0</th>\n",
       "      <td>1</td>\n",
       "      <td>1x1</td>\n",
       "      <td>Control</td>\n",
       "      <td>Crasus</td>\n",
       "      <td>10</td>\n",
       "      <td>280</td>\n",
       "      <td>28.000000</td>\n",
       "    </tr>\n",
       "    <tr>\n",
       "      <th>0</th>\n",
       "      <td>1</td>\n",
       "      <td>1x1</td>\n",
       "      <td>Control</td>\n",
       "      <td>Crasus</td>\n",
       "      <td>10</td>\n",
       "      <td>280</td>\n",
       "      <td>28.000000</td>\n",
       "    </tr>\n",
       "    <tr>\n",
       "      <th>...</th>\n",
       "      <td>...</td>\n",
       "      <td>...</td>\n",
       "      <td>...</td>\n",
       "      <td>...</td>\n",
       "      <td>...</td>\n",
       "      <td>...</td>\n",
       "      <td>...</td>\n",
       "    </tr>\n",
       "    <tr>\n",
       "      <th>22</th>\n",
       "      <td>4</td>\n",
       "      <td>2x1</td>\n",
       "      <td>Shock</td>\n",
       "      <td>Scattered</td>\n",
       "      <td>3</td>\n",
       "      <td>100</td>\n",
       "      <td>33.333333</td>\n",
       "    </tr>\n",
       "    <tr>\n",
       "      <th>23</th>\n",
       "      <td>4</td>\n",
       "      <td>2x1</td>\n",
       "      <td>Shock</td>\n",
       "      <td>Naked</td>\n",
       "      <td>4</td>\n",
       "      <td>80</td>\n",
       "      <td>20.000000</td>\n",
       "    </tr>\n",
       "    <tr>\n",
       "      <th>23</th>\n",
       "      <td>4</td>\n",
       "      <td>2x1</td>\n",
       "      <td>Shock</td>\n",
       "      <td>Naked</td>\n",
       "      <td>4</td>\n",
       "      <td>80</td>\n",
       "      <td>20.000000</td>\n",
       "    </tr>\n",
       "    <tr>\n",
       "      <th>23</th>\n",
       "      <td>4</td>\n",
       "      <td>2x1</td>\n",
       "      <td>Shock</td>\n",
       "      <td>Naked</td>\n",
       "      <td>4</td>\n",
       "      <td>80</td>\n",
       "      <td>20.000000</td>\n",
       "    </tr>\n",
       "    <tr>\n",
       "      <th>23</th>\n",
       "      <td>4</td>\n",
       "      <td>2x1</td>\n",
       "      <td>Shock</td>\n",
       "      <td>Naked</td>\n",
       "      <td>4</td>\n",
       "      <td>80</td>\n",
       "      <td>20.000000</td>\n",
       "    </tr>\n",
       "  </tbody>\n",
       "</table>\n",
       "<p>226 rows × 7 columns</p>\n",
       "</div>"
      ],
      "text/plain": [
       "   Pond Family     Mode       Type Count Weight(g)  AVG_weight\n",
       "0     1    1x1  Control     Crasus    10       280   28.000000\n",
       "0     1    1x1  Control     Crasus    10       280   28.000000\n",
       "0     1    1x1  Control     Crasus    10       280   28.000000\n",
       "0     1    1x1  Control     Crasus    10       280   28.000000\n",
       "0     1    1x1  Control     Crasus    10       280   28.000000\n",
       "..  ...    ...      ...        ...   ...       ...         ...\n",
       "22    4    2x1    Shock  Scattered     3       100   33.333333\n",
       "23    4    2x1    Shock      Naked     4        80   20.000000\n",
       "23    4    2x1    Shock      Naked     4        80   20.000000\n",
       "23    4    2x1    Shock      Naked     4        80   20.000000\n",
       "23    4    2x1    Shock      Naked     4        80   20.000000\n",
       "\n",
       "[226 rows x 7 columns]"
      ]
     },
     "execution_count": 49,
     "metadata": {},
     "output_type": "execute_result"
    }
   ],
   "source": [
    "ponds_fish = pd.DataFrame(columns=ponds.columns)\n",
    "\n",
    "for row in ponds.index:\n",
    "    for _ in range(ponds.iloc[row, 4]):\n",
    "        ponds_fish = pd.concat([ponds_fish, ponds.iloc[row:row+1, ]])\n",
    "        \n",
    "ponds_fish"
   ]
  },
  {
   "cell_type": "code",
   "execution_count": 24,
   "id": "d91289ed",
   "metadata": {},
   "outputs": [
    {
     "data": {
      "image/png": "[encoded data removed]",
      "text/plain": [
       "<Figure size 1200x600 with 8 Axes>"
      ]
     },
     "metadata": {},
     "output_type": "display_data"
    }
   ],
   "source": [
    "g = sns.FacetGrid(ponds_fish, col=\"Pond\", row='Mode')\n",
    "g.map(sns.boxplot, 'Type', 'AVG_weight', order=['Crasus', 'Scattered', 'Naked']);"
   ]
  },
  {
   "cell_type": "code",
   "execution_count": 25,
   "id": "dfd8afaa",
   "metadata": {},
   "outputs": [
    {
     "name": "stdout",
     "output_type": "stream",
     "text": [
      "arithmetic_mean: 31.946902654690266\n",
      "geometric_mean: 31.020306869959647\n"
     ]
    }
   ],
   "source": [
    "st_mean_a = ponds_fish.AVG_weight.mean()\n",
    "st_mean_g = st.gmean(ponds_fish.AVG_weight)\n",
    "print(f'arithmetic_mean: {st_mean_a}', f'geometric_mean: {st_mean_g}', sep='\\n')"
   ]
  },
  {
   "cell_type": "code",
   "execution_count": 98,
   "id": "30ac6ba6",
   "metadata": {
    "scrolled": true
   },
   "outputs": [
    {
     "data": {
      "image/png": "[encoded data removed]",
      "text/plain": [
       "<Figure size 1200x300 with 4 Axes>"
      ]
     },
     "metadata": {},
     "output_type": "display_data"
    }
   ],
   "source": [
    "g = sns.FacetGrid(ponds_fish, col=\"Pond\")\n",
    "g.map(sns.histplot, 'Type')\n",
    "\n",
    "g.set_xlabels(\"Type of fishes\")\n",
    "g.set_ylabels(\"Count of individuals\")\n",
    "\n",
    "ax1, ax2, ax3, ax4 = g.axes[0]\n",
    "\n",
    "ax1.set_title('Pond №1')\n",
    "ax2.set_title('Pond №2')\n",
    "ax3.set_title('Pond №3')\n",
    "ax4.set_title('Pond №4');\n",
    "\n",
    "plt.savefig('../figures/ponds_main_plot.png')\n",
    "plt.savefig('../figures/ponds_main_plot.svg', format='svg')"
   ]
  },
  {
   "cell_type": "code",
   "execution_count": 51,
   "id": "765983eb",
   "metadata": {},
   "outputs": [],
   "source": [
    "ponds_count = ponds_fish[['Pond', 'Family', 'Mode', 'Type', 'Count']]\n",
    "ponds_count = ponds_count.groupby(['Pond', 'Type', 'Family', 'Mode']).count().reset_index()\n",
    "\n",
    "ponds_count = ponds_count.pivot(index=['Pond', 'Family'], columns='Type', values=['Count']).reset_index()\n",
    "ponds_count.columns = ['Pond', 'Family', 'Crasus', 'Naked', 'Scattered']\n",
    "\n",
    "ponds_count['Naked_norm'] = ponds_count.Naked / ponds_count.Crasus * 100\n",
    "ponds_count['Scattered_norm'] = ponds_count.Scattered / ponds_count.Crasus * 100\n",
    "ponds_count = ponds_count.melt(id_vars=['Pond', 'Family'], value_vars=['Naked_norm', 'Scattered_norm'], var_name='Type')"
   ]
  },
  {
   "cell_type": "code",
   "execution_count": 52,
   "id": "8d95bacf",
   "metadata": {},
   "outputs": [
    {
     "data": {
      "image/png": "[encoded data removed]",
      "text/plain": [
       "<Figure size 1000x600 with 1 Axes>"
      ]
     },
     "metadata": {},
     "output_type": "display_data"
    }
   ],
   "source": [
    "g = sns.barplot(data=ponds_count, x='Pond', y='value', hue='Type', hue_order=['Scattered_norm', 'Naked_norm'])\n",
    "plt.ylabel(\"Carps' count normalized on Crasus\")\n",
    "plt.xlabel('')\n",
    "g.set_xticklabels(['Pond №1', 'Pond №2', 'Pond №3', 'Pond №4']);\n",
    "\n",
    "plt.savefig('../figures/ponds_main2_plot.png')\n",
    "plt.savefig('../figures/ponds_main2_plot.svg', format='svg')"
   ]
  },
  {
   "cell_type": "code",
   "execution_count": 55,
   "id": "f7ed34e4",
   "metadata": {},
   "outputs": [
    {
     "data": {
      "text/html": [
       "<div>\n",
       "<style scoped>\n",
       "    .dataframe tbody tr th:only-of-type {\n",
       "        vertical-align: middle;\n",
       "    }\n",
       "\n",
       "    .dataframe tbody tr th {\n",
       "        vertical-align: top;\n",
       "    }\n",
       "\n",
       "    .dataframe thead th {\n",
       "        text-align: right;\n",
       "    }\n",
       "</style>\n",
       "<table border=\"1\" class=\"dataframe\">\n",
       "  <thead>\n",
       "    <tr style=\"text-align: right;\">\n",
       "      <th></th>\n",
       "      <th>Pond</th>\n",
       "      <th>Family</th>\n",
       "      <th>Type</th>\n",
       "      <th>value</th>\n",
       "    </tr>\n",
       "  </thead>\n",
       "  <tbody>\n",
       "    <tr>\n",
       "      <th>0</th>\n",
       "      <td>1</td>\n",
       "      <td>1x1</td>\n",
       "      <td>Naked_norm</td>\n",
       "      <td>114.285714</td>\n",
       "    </tr>\n",
       "    <tr>\n",
       "      <th>1</th>\n",
       "      <td>2</td>\n",
       "      <td>1x1</td>\n",
       "      <td>Naked_norm</td>\n",
       "      <td>25.000000</td>\n",
       "    </tr>\n",
       "    <tr>\n",
       "      <th>2</th>\n",
       "      <td>3</td>\n",
       "      <td>2x1</td>\n",
       "      <td>Naked_norm</td>\n",
       "      <td>61.111111</td>\n",
       "    </tr>\n",
       "    <tr>\n",
       "      <th>3</th>\n",
       "      <td>4</td>\n",
       "      <td>2x1</td>\n",
       "      <td>Naked_norm</td>\n",
       "      <td>33.333333</td>\n",
       "    </tr>\n",
       "    <tr>\n",
       "      <th>4</th>\n",
       "      <td>1</td>\n",
       "      <td>1x1</td>\n",
       "      <td>Scattered_norm</td>\n",
       "      <td>139.285714</td>\n",
       "    </tr>\n",
       "    <tr>\n",
       "      <th>5</th>\n",
       "      <td>2</td>\n",
       "      <td>1x1</td>\n",
       "      <td>Scattered_norm</td>\n",
       "      <td>15.000000</td>\n",
       "    </tr>\n",
       "    <tr>\n",
       "      <th>6</th>\n",
       "      <td>3</td>\n",
       "      <td>2x1</td>\n",
       "      <td>Scattered_norm</td>\n",
       "      <td>127.777778</td>\n",
       "    </tr>\n",
       "    <tr>\n",
       "      <th>7</th>\n",
       "      <td>4</td>\n",
       "      <td>2x1</td>\n",
       "      <td>Scattered_norm</td>\n",
       "      <td>25.000000</td>\n",
       "    </tr>\n",
       "  </tbody>\n",
       "</table>\n",
       "</div>"
      ],
      "text/plain": [
       "   Pond Family            Type       value\n",
       "0     1    1x1      Naked_norm  114.285714\n",
       "1     2    1x1      Naked_norm   25.000000\n",
       "2     3    2x1      Naked_norm   61.111111\n",
       "3     4    2x1      Naked_norm   33.333333\n",
       "4     1    1x1  Scattered_norm  139.285714\n",
       "5     2    1x1  Scattered_norm   15.000000\n",
       "6     3    2x1  Scattered_norm  127.777778\n",
       "7     4    2x1  Scattered_norm   25.000000"
      ]
     },
     "execution_count": 55,
     "metadata": {},
     "output_type": "execute_result"
    }
   ],
   "source": [
    "ponds_count"
   ]
  },
  {
   "cell_type": "code",
   "execution_count": 68,
   "id": "64a2538e",
   "metadata": {},
   "outputs": [
    {
     "name": "stderr",
     "output_type": "stream",
     "text": [
      "/var/folders/lr/tz5w155s1wv9t8nfchl8bm700000gn/T/ipykernel_14447/1157230332.py:1: FutureWarning: The default value of numeric_only in DataFrameGroupBy.sum is deprecated. In a future version, numeric_only will default to False. Either specify numeric_only or select only columns which should be valid for the function.\n",
      "  pc = ponds_count.groupby('Pond').sum().reset_index()\n"
     ]
    },
    {
     "data": {
      "text/html": [
       "<div>\n",
       "<style scoped>\n",
       "    .dataframe tbody tr th:only-of-type {\n",
       "        vertical-align: middle;\n",
       "    }\n",
       "\n",
       "    .dataframe tbody tr th {\n",
       "        vertical-align: top;\n",
       "    }\n",
       "\n",
       "    .dataframe thead th {\n",
       "        text-align: right;\n",
       "    }\n",
       "</style>\n",
       "<table border=\"1\" class=\"dataframe\">\n",
       "  <thead>\n",
       "    <tr style=\"text-align: right;\">\n",
       "      <th></th>\n",
       "      <th>Pond</th>\n",
       "      <th>value</th>\n",
       "    </tr>\n",
       "  </thead>\n",
       "  <tbody>\n",
       "    <tr>\n",
       "      <th>0</th>\n",
       "      <td>1</td>\n",
       "      <td>126.785714</td>\n",
       "    </tr>\n",
       "    <tr>\n",
       "      <th>1</th>\n",
       "      <td>2</td>\n",
       "      <td>20.000000</td>\n",
       "    </tr>\n",
       "    <tr>\n",
       "      <th>2</th>\n",
       "      <td>3</td>\n",
       "      <td>94.444444</td>\n",
       "    </tr>\n",
       "    <tr>\n",
       "      <th>3</th>\n",
       "      <td>4</td>\n",
       "      <td>29.166667</td>\n",
       "    </tr>\n",
       "  </tbody>\n",
       "</table>\n",
       "</div>"
      ],
      "text/plain": [
       "   Pond       value\n",
       "0     1  126.785714\n",
       "1     2   20.000000\n",
       "2     3   94.444444\n",
       "3     4   29.166667"
      ]
     },
     "execution_count": 68,
     "metadata": {},
     "output_type": "execute_result"
    }
   ],
   "source": [
    "pc = ponds_count.groupby('Pond').sum().reset_index()\n",
    "pc['value'] = pc['value'] / 2\n",
    "pc"
   ]
  },
  {
   "cell_type": "code",
   "execution_count": 70,
   "id": "5beb9536",
   "metadata": {},
   "outputs": [
    {
     "data": {
      "image/png": "[encoded data removed]",
      "text/plain": [
       "<Figure size 1000x600 with 1 Axes>"
      ]
     },
     "metadata": {},
     "output_type": "display_data"
    }
   ],
   "source": [
    "g = sns.barplot(data=pc, x='Pond', y='value')\n",
    "plt.ylabel(\"Carps' count normalized on Crasus, %\")\n",
    "plt.xlabel('')\n",
    "g.set_xticklabels(['Pond №1', 'Pond №2', 'Pond №3', 'Pond №4']);\n",
    "\n",
    "plt.savefig('../figures/ponds_norm_on_crasus_plot.png')\n",
    "plt.savefig('../figures/ponds_norm_on_crasus_plot.pdf', format='pdf')"
   ]
  },
  {
   "cell_type": "code",
   "execution_count": 71,
   "id": "753f1fe8",
   "metadata": {},
   "outputs": [
    {
     "data": {
      "image/png": "[encoded data removed]",
      "text/plain": [
       "<Figure size 1000x600 with 1 Axes>"
      ]
     },
     "metadata": {},
     "output_type": "display_data"
    }
   ],
   "source": [
    "# ru version\n",
    "g = sns.barplot(data=pc, x='Pond', y='value')\n",
    "plt.ylabel(\"Количество карпов, нормированное на кол-во карасей, %\")\n",
    "plt.xlabel('')\n",
    "g.set_xticklabels(['Пруд №1', 'Пруд №2', 'Пруд №3', 'Пруд №4']);\n",
    "\n",
    "plt.savefig('../figures/ponds_norm_on_crasus_plot_ru.png')\n",
    "plt.savefig('../figures/ponds_norm_on_crasus_plot_ru.pdf', format='pdf')"
   ]
  },
  {
   "cell_type": "code",
   "execution_count": 29,
   "id": "a47e20ea",
   "metadata": {},
   "outputs": [
    {
     "data": {
      "text/html": [
       "<div>\n",
       "<style scoped>\n",
       "    .dataframe tbody tr th:only-of-type {\n",
       "        vertical-align: middle;\n",
       "    }\n",
       "\n",
       "    .dataframe tbody tr th {\n",
       "        vertical-align: top;\n",
       "    }\n",
       "\n",
       "    .dataframe thead th {\n",
       "        text-align: right;\n",
       "    }\n",
       "</style>\n",
       "<table border=\"1\" class=\"dataframe\">\n",
       "  <thead>\n",
       "    <tr style=\"text-align: right;\">\n",
       "      <th></th>\n",
       "      <th>sum_sq</th>\n",
       "      <th>df</th>\n",
       "      <th>F</th>\n",
       "      <th>PR(&gt;F)</th>\n",
       "    </tr>\n",
       "  </thead>\n",
       "  <tbody>\n",
       "    <tr>\n",
       "      <th>Intercept</th>\n",
       "      <td>51976.470588</td>\n",
       "      <td>1.0</td>\n",
       "      <td>3040.721414</td>\n",
       "      <td>3.087951e-129</td>\n",
       "    </tr>\n",
       "    <tr>\n",
       "      <th>Family</th>\n",
       "      <td>516.334534</td>\n",
       "      <td>1.0</td>\n",
       "      <td>30.206543</td>\n",
       "      <td>1.089478e-07</td>\n",
       "    </tr>\n",
       "    <tr>\n",
       "      <th>Mode</th>\n",
       "      <td>482.664717</td>\n",
       "      <td>1.0</td>\n",
       "      <td>28.236795</td>\n",
       "      <td>2.666959e-07</td>\n",
       "    </tr>\n",
       "    <tr>\n",
       "      <th>Type</th>\n",
       "      <td>4992.069647</td>\n",
       "      <td>2.0</td>\n",
       "      <td>146.022738</td>\n",
       "      <td>7.647608e-41</td>\n",
       "    </tr>\n",
       "    <tr>\n",
       "      <th>Family:Mode</th>\n",
       "      <td>62.743567</td>\n",
       "      <td>1.0</td>\n",
       "      <td>3.670617</td>\n",
       "      <td>5.670001e-02</td>\n",
       "    </tr>\n",
       "    <tr>\n",
       "      <th>Family:Type</th>\n",
       "      <td>783.915773</td>\n",
       "      <td>2.0</td>\n",
       "      <td>22.930275</td>\n",
       "      <td>9.320455e-10</td>\n",
       "    </tr>\n",
       "    <tr>\n",
       "      <th>Mode:Type</th>\n",
       "      <td>566.394994</td>\n",
       "      <td>2.0</td>\n",
       "      <td>16.567587</td>\n",
       "      <td>2.023113e-07</td>\n",
       "    </tr>\n",
       "    <tr>\n",
       "      <th>Family:Mode:Type</th>\n",
       "      <td>356.710452</td>\n",
       "      <td>2.0</td>\n",
       "      <td>10.434117</td>\n",
       "      <td>4.723550e-05</td>\n",
       "    </tr>\n",
       "    <tr>\n",
       "      <th>Residual</th>\n",
       "      <td>3692.188833</td>\n",
       "      <td>216.0</td>\n",
       "      <td>NaN</td>\n",
       "      <td>NaN</td>\n",
       "    </tr>\n",
       "  </tbody>\n",
       "</table>\n",
       "</div>"
      ],
      "text/plain": [
       "                        sum_sq     df            F         PR(>F)\n",
       "Intercept         51976.470588    1.0  3040.721414  3.087951e-129\n",
       "Family              516.334534    1.0    30.206543   1.089478e-07\n",
       "Mode                482.664717    1.0    28.236795   2.666959e-07\n",
       "Type               4992.069647    2.0   146.022738   7.647608e-41\n",
       "Family:Mode          62.743567    1.0     3.670617   5.670001e-02\n",
       "Family:Type         783.915773    2.0    22.930275   9.320455e-10\n",
       "Mode:Type           566.394994    2.0    16.567587   2.023113e-07\n",
       "Family:Mode:Type    356.710452    2.0    10.434117   4.723550e-05\n",
       "Residual           3692.188833  216.0          NaN            NaN"
      ]
     },
     "execution_count": 29,
     "metadata": {},
     "output_type": "execute_result"
    }
   ],
   "source": [
    "# Performing n-way ANOVA\n",
    "model = ols('AVG_weight ~ Family + Mode + Type + Family:Mode + Family:Type + Mode:Type + Family:Mode:Type', data=ponds_fish).fit()\n",
    "sm.stats.anova_lm(model, typ=3)"
   ]
  },
  {
   "cell_type": "code",
   "execution_count": 30,
   "id": "b285d5bb",
   "metadata": {},
   "outputs": [
    {
     "data": {
      "text/plain": [
       "<AxesSubplot: xlabel='Family', ylabel='AVG_weight'>"
      ]
     },
     "execution_count": 30,
     "metadata": {},
     "output_type": "execute_result"
    },
    {
     "data": {
      "image/png": "[encoded data removed]",
      "text/plain": [
       "<Figure size 1000x600 with 1 Axes>"
      ]
     },
     "metadata": {},
     "output_type": "display_data"
    }
   ],
   "source": [
    "sns.violinplot(data=ponds_fish, x='Family', y='AVG_weight')"
   ]
  },
  {
   "cell_type": "code",
   "execution_count": 31,
   "id": "0b489a4f",
   "metadata": {},
   "outputs": [
    {
     "data": {
      "text/plain": [
       "<AxesSubplot: xlabel='Mode', ylabel='AVG_weight'>"
      ]
     },
     "execution_count": 31,
     "metadata": {},
     "output_type": "execute_result"
    },
    {
     "data": {
      "image/png": "[encoded data removed]",
      "text/plain": [
       "<Figure size 1000x600 with 1 Axes>"
      ]
     },
     "metadata": {},
     "output_type": "display_data"
    }
   ],
   "source": [
    "sns.violinplot(data=ponds_fish, x='Mode', y='AVG_weight')"
   ]
  },
  {
   "cell_type": "code",
   "execution_count": 32,
   "id": "ccc4fa6b",
   "metadata": {},
   "outputs": [
    {
     "data": {
      "text/plain": [
       "<AxesSubplot: xlabel='Pond', ylabel='AVG_weight'>"
      ]
     },
     "execution_count": 32,
     "metadata": {},
     "output_type": "execute_result"
    },
    {
     "data": {
      "image/png": "[encoded data removed]",
      "text/plain": [
       "<Figure size 1000x600 with 1 Axes>"
      ]
     },
     "metadata": {},
     "output_type": "display_data"
    }
   ],
   "source": [
    "sns.violinplot(data=ponds_fish, x='Pond', y='AVG_weight')"
   ]
  },
  {
   "cell_type": "code",
   "execution_count": 33,
   "id": "87a1a237",
   "metadata": {},
   "outputs": [
    {
     "data": {
      "text/plain": [
       "<AxesSubplot: xlabel='Type', ylabel='AVG_weight'>"
      ]
     },
     "execution_count": 33,
     "metadata": {},
     "output_type": "execute_result"
    },
    {
     "data": {
      "image/png": "[encoded data removed]",
      "text/plain": [
       "<Figure size 1000x600 with 1 Axes>"
      ]
     },
     "metadata": {},
     "output_type": "display_data"
    }
   ],
   "source": [
    "sns.violinplot(data=ponds_fish, x='Type', y='AVG_weight')"
   ]
  },
  {
   "cell_type": "code",
   "execution_count": 34,
   "id": "24f3032a",
   "metadata": {},
   "outputs": [
    {
     "data": {
      "text/plain": [
       "MannwhitneyuResult(statistic=2816.5, pvalue=0.00011448319031047182)"
      ]
     },
     "execution_count": 34,
     "metadata": {},
     "output_type": "execute_result"
    }
   ],
   "source": [
    "st.mannwhitneyu(ponds_fish[ponds_fish['Type'] == 'Scattered'].AVG_weight, ponds_fish[ponds_fish['Type'] == 'Naked'].AVG_weight)"
   ]
  },
  {
   "cell_type": "markdown",
   "id": "663535e7",
   "metadata": {},
   "source": [
    "# CARP TEST"
   ]
  },
  {
   "cell_type": "code",
   "execution_count": 91,
   "id": "c2bfcc66",
   "metadata": {},
   "outputs": [],
   "source": [
    "sheet_id = '1PfTcSHiV41sq4wYnsyVVUBA5E1H92xgg2EeCqn8pYik'\n",
    "sheet_name = 'main'\n",
    "url = f'https://docs.google.com/spreadsheets/d/{sheet_id}/gviz/tq?tqx=out:csv&sheet={sheet_name}'\n",
    "carp_test = pd.read_csv(url)"
   ]
  },
  {
   "cell_type": "code",
   "execution_count": 92,
   "id": "466c6427",
   "metadata": {
    "scrolled": true
   },
   "outputs": [],
   "source": [
    "carp_test = carp_test.iloc[20:].reset_index(drop=True)"
   ]
  },
  {
   "cell_type": "code",
   "execution_count": 93,
   "id": "8c9323b9",
   "metadata": {},
   "outputs": [
    {
     "data": {
      "text/html": [
       "<div>\n",
       "<style scoped>\n",
       "    .dataframe tbody tr th:only-of-type {\n",
       "        vertical-align: middle;\n",
       "    }\n",
       "\n",
       "    .dataframe tbody tr th {\n",
       "        vertical-align: top;\n",
       "    }\n",
       "\n",
       "    .dataframe thead th {\n",
       "        text-align: right;\n",
       "    }\n",
       "</style>\n",
       "<table border=\"1\" class=\"dataframe\">\n",
       "  <thead>\n",
       "    <tr style=\"text-align: right;\">\n",
       "      <th></th>\n",
       "      <th>Carp</th>\n",
       "      <th>N</th>\n",
       "      <th>Functionality</th>\n",
       "      <th>Family</th>\n",
       "      <th>TempTime</th>\n",
       "      <th>Mutagen</th>\n",
       "      <th>Eggs</th>\n",
       "      <th>L</th>\n",
       "      <th>L_without_C</th>\n",
       "      <th>Eye</th>\n",
       "      <th>h_head</th>\n",
       "      <th>h_body</th>\n",
       "    </tr>\n",
       "  </thead>\n",
       "  <tbody>\n",
       "    <tr>\n",
       "      <th>0</th>\n",
       "      <td>2x1CC</td>\n",
       "      <td>21</td>\n",
       "      <td>normal</td>\n",
       "      <td>2x1</td>\n",
       "      <td>C</td>\n",
       "      <td>C</td>\n",
       "      <td>9</td>\n",
       "      <td>6.4</td>\n",
       "      <td>4.5</td>\n",
       "      <td>21</td>\n",
       "      <td>1.2</td>\n",
       "      <td>1.1</td>\n",
       "    </tr>\n",
       "    <tr>\n",
       "      <th>1</th>\n",
       "      <td>2x1CC</td>\n",
       "      <td>22</td>\n",
       "      <td>normal</td>\n",
       "      <td>2x1</td>\n",
       "      <td>C</td>\n",
       "      <td>C</td>\n",
       "      <td>9</td>\n",
       "      <td>6.8</td>\n",
       "      <td>5.0</td>\n",
       "      <td>22</td>\n",
       "      <td>1.2</td>\n",
       "      <td>1.1</td>\n",
       "    </tr>\n",
       "    <tr>\n",
       "      <th>2</th>\n",
       "      <td>2x1CC</td>\n",
       "      <td>23</td>\n",
       "      <td>normal</td>\n",
       "      <td>2x1</td>\n",
       "      <td>C</td>\n",
       "      <td>C</td>\n",
       "      <td>6</td>\n",
       "      <td>7.0</td>\n",
       "      <td>5.0</td>\n",
       "      <td>23</td>\n",
       "      <td>1.4</td>\n",
       "      <td>1.0</td>\n",
       "    </tr>\n",
       "    <tr>\n",
       "      <th>3</th>\n",
       "      <td>2x1CC</td>\n",
       "      <td>24</td>\n",
       "      <td>normal</td>\n",
       "      <td>2x1</td>\n",
       "      <td>C</td>\n",
       "      <td>C</td>\n",
       "      <td>10</td>\n",
       "      <td>7.0</td>\n",
       "      <td>5.1</td>\n",
       "      <td>24</td>\n",
       "      <td>1.2</td>\n",
       "      <td>1.1</td>\n",
       "    </tr>\n",
       "    <tr>\n",
       "      <th>4</th>\n",
       "      <td>2x1CC</td>\n",
       "      <td>25</td>\n",
       "      <td>normal</td>\n",
       "      <td>2x1</td>\n",
       "      <td>C</td>\n",
       "      <td>C</td>\n",
       "      <td>16</td>\n",
       "      <td>6.9</td>\n",
       "      <td>5.0</td>\n",
       "      <td>25</td>\n",
       "      <td>1.2</td>\n",
       "      <td>1.1</td>\n",
       "    </tr>\n",
       "    <tr>\n",
       "      <th>...</th>\n",
       "      <td>...</td>\n",
       "      <td>...</td>\n",
       "      <td>...</td>\n",
       "      <td>...</td>\n",
       "      <td>...</td>\n",
       "      <td>...</td>\n",
       "      <td>...</td>\n",
       "      <td>...</td>\n",
       "      <td>...</td>\n",
       "      <td>...</td>\n",
       "      <td>...</td>\n",
       "      <td>...</td>\n",
       "    </tr>\n",
       "    <tr>\n",
       "      <th>499</th>\n",
       "      <td>2x1C2</td>\n",
       "      <td>520</td>\n",
       "      <td>normal</td>\n",
       "      <td>2x1</td>\n",
       "      <td>C</td>\n",
       "      <td>2</td>\n",
       "      <td>0</td>\n",
       "      <td>3.6</td>\n",
       "      <td>3.0</td>\n",
       "      <td>520</td>\n",
       "      <td>0.4</td>\n",
       "      <td>0.9</td>\n",
       "    </tr>\n",
       "    <tr>\n",
       "      <th>500</th>\n",
       "      <td>2x1C2</td>\n",
       "      <td>521</td>\n",
       "      <td>normal</td>\n",
       "      <td>2x1</td>\n",
       "      <td>C</td>\n",
       "      <td>2</td>\n",
       "      <td>0</td>\n",
       "      <td>3.8</td>\n",
       "      <td>3.4</td>\n",
       "      <td>521</td>\n",
       "      <td>0.6</td>\n",
       "      <td>0.9</td>\n",
       "    </tr>\n",
       "    <tr>\n",
       "      <th>501</th>\n",
       "      <td>2x1C2</td>\n",
       "      <td>522</td>\n",
       "      <td>normal</td>\n",
       "      <td>2x1</td>\n",
       "      <td>C</td>\n",
       "      <td>2</td>\n",
       "      <td>0</td>\n",
       "      <td>3.2</td>\n",
       "      <td>2.6</td>\n",
       "      <td>522</td>\n",
       "      <td>0.5</td>\n",
       "      <td>0.9</td>\n",
       "    </tr>\n",
       "    <tr>\n",
       "      <th>502</th>\n",
       "      <td>2x1C2</td>\n",
       "      <td>523</td>\n",
       "      <td>normal</td>\n",
       "      <td>2x1</td>\n",
       "      <td>C</td>\n",
       "      <td>2</td>\n",
       "      <td>0</td>\n",
       "      <td>4.6</td>\n",
       "      <td>3.8</td>\n",
       "      <td>523</td>\n",
       "      <td>0.4</td>\n",
       "      <td>0.8</td>\n",
       "    </tr>\n",
       "    <tr>\n",
       "      <th>503</th>\n",
       "      <td>2x1C2</td>\n",
       "      <td>524</td>\n",
       "      <td>normal</td>\n",
       "      <td>2x1</td>\n",
       "      <td>C</td>\n",
       "      <td>2</td>\n",
       "      <td>0</td>\n",
       "      <td>4.4</td>\n",
       "      <td>3.3</td>\n",
       "      <td>524</td>\n",
       "      <td>0.8</td>\n",
       "      <td>1.1</td>\n",
       "    </tr>\n",
       "  </tbody>\n",
       "</table>\n",
       "<p>504 rows × 12 columns</p>\n",
       "</div>"
      ],
      "text/plain": [
       "      Carp    N Functionality Family TempTime Mutagen  Eggs    L  L_without_C  \\\n",
       "0    2x1CC   21        normal    2x1        C       C     9  6.4          4.5   \n",
       "1    2x1CC   22        normal    2x1        C       C     9  6.8          5.0   \n",
       "2    2x1CC   23        normal    2x1        C       C     6  7.0          5.0   \n",
       "3    2x1CC   24        normal    2x1        C       C    10  7.0          5.1   \n",
       "4    2x1CC   25        normal    2x1        C       C    16  6.9          5.0   \n",
       "..     ...  ...           ...    ...      ...     ...   ...  ...          ...   \n",
       "499  2x1C2  520        normal    2x1        C       2     0  3.6          3.0   \n",
       "500  2x1C2  521        normal    2x1        C       2     0  3.8          3.4   \n",
       "501  2x1C2  522        normal    2x1        C       2     0  3.2          2.6   \n",
       "502  2x1C2  523        normal    2x1        C       2     0  4.6          3.8   \n",
       "503  2x1C2  524        normal    2x1        C       2     0  4.4          3.3   \n",
       "\n",
       "     Eye  h_head  h_body  \n",
       "0     21     1.2     1.1  \n",
       "1     22     1.2     1.1  \n",
       "2     23     1.4     1.0  \n",
       "3     24     1.2     1.1  \n",
       "4     25     1.2     1.1  \n",
       "..   ...     ...     ...  \n",
       "499  520     0.4     0.9  \n",
       "500  521     0.6     0.9  \n",
       "501  522     0.5     0.9  \n",
       "502  523     0.4     0.8  \n",
       "503  524     0.8     1.1  \n",
       "\n",
       "[504 rows x 12 columns]"
      ]
     },
     "execution_count": 93,
     "metadata": {},
     "output_type": "execute_result"
    }
   ],
   "source": [
    "carp_test"
   ]
  },
  {
   "cell_type": "code",
   "execution_count": 94,
   "id": "1e32f93e",
   "metadata": {},
   "outputs": [
    {
     "name": "stdout",
     "output_type": "stream",
     "text": [
      "<class 'pandas.core.frame.DataFrame'>\n",
      "RangeIndex: 504 entries, 0 to 503\n",
      "Data columns (total 12 columns):\n",
      " #   Column         Non-Null Count  Dtype  \n",
      "---  ------         --------------  -----  \n",
      " 0   Carp           504 non-null    object \n",
      " 1   N              504 non-null    int64  \n",
      " 2   Functionality  504 non-null    object \n",
      " 3   Family         504 non-null    object \n",
      " 4   TempTime       504 non-null    object \n",
      " 5   Mutagen        504 non-null    object \n",
      " 6   Eggs           504 non-null    int64  \n",
      " 7   L              504 non-null    float64\n",
      " 8   L_without_C    504 non-null    float64\n",
      " 9   Eye            504 non-null    int64  \n",
      " 10  h_head         504 non-null    float64\n",
      " 11  h_body         504 non-null    float64\n",
      "dtypes: float64(4), int64(3), object(5)\n",
      "memory usage: 47.4+ KB\n"
     ]
    }
   ],
   "source": [
    "carp_test.info()"
   ]
  },
  {
   "cell_type": "code",
   "execution_count": 96,
   "id": "d42d1f6d",
   "metadata": {
    "scrolled": true
   },
   "outputs": [
    {
     "name": "stderr",
     "output_type": "stream",
     "text": [
      "/opt/homebrew/lib/python3.10/site-packages/seaborn/axisgrid.py:712: UserWarning: Using the boxplot function without specifying `order` is likely to produce an incorrect plot.\n",
      "  warnings.warn(warning)\n"
     ]
    },
    {
     "data": {
      "image/png": "[encoded data removed]",
      "text/plain": [
       "<Figure size 900x600 with 6 Axes>"
      ]
     },
     "metadata": {},
     "output_type": "display_data"
    }
   ],
   "source": [
    "g = sns.FacetGrid(carp_test, col=\"Mutagen\", row='Functionality')\n",
    "g.map(sns.boxplot, 'TempTime', 'Eggs');"
   ]
  },
  {
   "cell_type": "markdown",
   "id": "6608ef71",
   "metadata": {},
   "source": [
    "ON NEXT PLOT ONLY NORMAL (NOT UGLY) FISHES!!!!!!!!!!!!!!"
   ]
  },
  {
   "cell_type": "code",
   "execution_count": 104,
   "id": "b13a39ea",
   "metadata": {},
   "outputs": [
    {
     "data": {
      "image/png": "[encoded data removed]",
      "text/plain": [
       "<Figure size 900x300 with 3 Axes>"
      ]
     },
     "metadata": {},
     "output_type": "display_data"
    }
   ],
   "source": [
    "g = sns.FacetGrid(carp_test[carp_test['Functionality'] == 'normal'], col=\"Mutagen\")\n",
    "g.map(sns.barplot, 'TempTime', 'Eggs', order=['C', '38_30', '38_40', '38_50']);"
   ]
  },
  {
   "cell_type": "markdown",
   "id": "f7b784fe",
   "metadata": {},
   "source": [
    "выборки не одинаковые по размеру???? как их сравнивать??"
   ]
  },
  {
   "cell_type": "code",
   "execution_count": 107,
   "id": "57415372",
   "metadata": {},
   "outputs": [
    {
     "name": "stdout",
     "output_type": "stream",
     "text": [
      "arithmetic_mean: 5.158730158730159\n",
      "geometric_mean: 0.0\n"
     ]
    }
   ],
   "source": [
    "st_mean_a = carp_test.Eggs.mean()\n",
    "st_mean_g = st.gmean(carp_test.Eggs)\n",
    "print(f'arithmetic_mean: {st_mean_a}', f'geometric_mean: {st_mean_g}', sep='\\n')"
   ]
  },
  {
   "cell_type": "code",
   "execution_count": 108,
   "id": "17f67181",
   "metadata": {},
   "outputs": [
    {
     "data": {
      "text/html": [
       "<div>\n",
       "<style scoped>\n",
       "    .dataframe tbody tr th:only-of-type {\n",
       "        vertical-align: middle;\n",
       "    }\n",
       "\n",
       "    .dataframe tbody tr th {\n",
       "        vertical-align: top;\n",
       "    }\n",
       "\n",
       "    .dataframe thead th {\n",
       "        text-align: right;\n",
       "    }\n",
       "</style>\n",
       "<table border=\"1\" class=\"dataframe\">\n",
       "  <thead>\n",
       "    <tr style=\"text-align: right;\">\n",
       "      <th></th>\n",
       "      <th>sum_sq</th>\n",
       "      <th>df</th>\n",
       "      <th>F</th>\n",
       "      <th>PR(&gt;F)</th>\n",
       "    </tr>\n",
       "  </thead>\n",
       "  <tbody>\n",
       "    <tr>\n",
       "      <th>TempTime</th>\n",
       "      <td>2206.369599</td>\n",
       "      <td>3.0</td>\n",
       "      <td>54.211872</td>\n",
       "      <td>2.731076e-30</td>\n",
       "    </tr>\n",
       "    <tr>\n",
       "      <th>Mutagen</th>\n",
       "      <td>1814.807499</td>\n",
       "      <td>2.0</td>\n",
       "      <td>66.886422</td>\n",
       "      <td>2.017921e-26</td>\n",
       "    </tr>\n",
       "    <tr>\n",
       "      <th>TempTime:Mutagen</th>\n",
       "      <td>613.595323</td>\n",
       "      <td>6.0</td>\n",
       "      <td>7.538209</td>\n",
       "      <td>9.527496e-08</td>\n",
       "    </tr>\n",
       "    <tr>\n",
       "      <th>Residual</th>\n",
       "      <td>6674.637899</td>\n",
       "      <td>492.0</td>\n",
       "      <td>NaN</td>\n",
       "      <td>NaN</td>\n",
       "    </tr>\n",
       "  </tbody>\n",
       "</table>\n",
       "</div>"
      ],
      "text/plain": [
       "                       sum_sq     df          F        PR(>F)\n",
       "TempTime          2206.369599    3.0  54.211872  2.731076e-30\n",
       "Mutagen           1814.807499    2.0  66.886422  2.017921e-26\n",
       "TempTime:Mutagen   613.595323    6.0   7.538209  9.527496e-08\n",
       "Residual          6674.637899  492.0        NaN           NaN"
      ]
     },
     "execution_count": 108,
     "metadata": {},
     "output_type": "execute_result"
    }
   ],
   "source": [
    "# Performing n-way ANOVA\n",
    "model = ols('Eggs ~ TempTime + Mutagen + TempTime:Mutagen', data=carp_test).fit()\n",
    "sm.stats.anova_lm(model, typ=2)"
   ]
  },
  {
   "cell_type": "code",
   "execution_count": null,
   "id": "d03d6606",
   "metadata": {},
   "outputs": [],
   "source": []
  },
  {
   "cell_type": "markdown",
   "id": "3aed3305",
   "metadata": {},
   "source": [
    "# EXP 2022"
   ]
  },
  {
   "cell_type": "code",
   "execution_count": 34,
   "id": "f6dfe1cc",
   "metadata": {},
   "outputs": [],
   "source": [
    "sheet_id = '1aqHnDaiRXntyrbj6qaqzR-4XnLbvtKU84FB_JLu5x5A'\n",
    "sheet_name = 'EXP_2022'\n",
    "url = f'https://docs.google.com/spreadsheets/d/{sheet_id}/gviz/tq?tqx=out:csv&sheet={sheet_name}'\n",
    "exp2022 = pd.read_csv(url)"
   ]
  },
  {
   "cell_type": "code",
   "execution_count": 37,
   "id": "27556e39",
   "metadata": {},
   "outputs": [],
   "source": [
    "exp2022 = exp2022.rename(columns={'family': 'Family'})\n",
    "\n",
    "exp2022 = exp2022[(exp2022['enu'] == 0) | (exp2022['enu'] == 2)]\n",
    "exp2022 = exp2022[(exp2022['time'] == 0) | (exp2022['time'] == 40)]\n",
    "\n",
    "exp2022['HM'] = exp2022['time'].apply(lambda x: 'H-' if x == 0 else 'H+') + \\\n",
    "                        exp2022['enu'].apply(lambda x: 'M-' if x == 0 else 'M+') \n",
    "\n",
    "exp2022['swim_per_fert'] = exp2022['swim_per_fert'].str.replace(',', '.').map(float)"
   ]
  },
  {
   "cell_type": "code",
   "execution_count": 38,
   "id": "8f013f1a",
   "metadata": {
    "scrolled": true
   },
   "outputs": [
    {
     "data": {
      "text/html": [
       "<div>\n",
       "<style scoped>\n",
       "    .dataframe tbody tr th:only-of-type {\n",
       "        vertical-align: middle;\n",
       "    }\n",
       "\n",
       "    .dataframe tbody tr th {\n",
       "        vertical-align: top;\n",
       "    }\n",
       "\n",
       "    .dataframe thead th {\n",
       "        text-align: right;\n",
       "    }\n",
       "</style>\n",
       "<table border=\"1\" class=\"dataframe\">\n",
       "  <thead>\n",
       "    <tr style=\"text-align: right;\">\n",
       "      <th></th>\n",
       "      <th>petri</th>\n",
       "      <th>Family</th>\n",
       "      <th>mode</th>\n",
       "      <th>mode_scr</th>\n",
       "      <th>temperature</th>\n",
       "      <th>time</th>\n",
       "      <th>enu</th>\n",
       "      <th>dead</th>\n",
       "      <th>alive</th>\n",
       "      <th>total</th>\n",
       "      <th>...</th>\n",
       "      <th>hatched</th>\n",
       "      <th>hatched_per</th>\n",
       "      <th>swimming</th>\n",
       "      <th>freaks</th>\n",
       "      <th>swim_per</th>\n",
       "      <th>swim_per_fert</th>\n",
       "      <th>freaks_per</th>\n",
       "      <th>food</th>\n",
       "      <th>food_per</th>\n",
       "      <th>HM</th>\n",
       "    </tr>\n",
       "  </thead>\n",
       "  <tbody>\n",
       "    <tr>\n",
       "      <th>0</th>\n",
       "      <td>1</td>\n",
       "      <td>1x1</td>\n",
       "      <td>control</td>\n",
       "      <td>ctrl</td>\n",
       "      <td>0</td>\n",
       "      <td>0</td>\n",
       "      <td>0</td>\n",
       "      <td>9</td>\n",
       "      <td>45</td>\n",
       "      <td>54</td>\n",
       "      <td>...</td>\n",
       "      <td>26</td>\n",
       "      <td>57,78</td>\n",
       "      <td>23</td>\n",
       "      <td>3</td>\n",
       "      <td>88,46</td>\n",
       "      <td>51.11</td>\n",
       "      <td>11,54</td>\n",
       "      <td>NaN</td>\n",
       "      <td>NaN</td>\n",
       "      <td>H-M-</td>\n",
       "    </tr>\n",
       "    <tr>\n",
       "      <th>1</th>\n",
       "      <td>2</td>\n",
       "      <td>1x1</td>\n",
       "      <td>control</td>\n",
       "      <td>ctrl</td>\n",
       "      <td>0</td>\n",
       "      <td>0</td>\n",
       "      <td>0</td>\n",
       "      <td>4</td>\n",
       "      <td>20</td>\n",
       "      <td>24</td>\n",
       "      <td>...</td>\n",
       "      <td>9</td>\n",
       "      <td>45</td>\n",
       "      <td>5</td>\n",
       "      <td>4</td>\n",
       "      <td>55,56</td>\n",
       "      <td>25.00</td>\n",
       "      <td>44,44</td>\n",
       "      <td>NaN</td>\n",
       "      <td>NaN</td>\n",
       "      <td>H-M-</td>\n",
       "    </tr>\n",
       "    <tr>\n",
       "      <th>2</th>\n",
       "      <td>3</td>\n",
       "      <td>1x1</td>\n",
       "      <td>control</td>\n",
       "      <td>ctrl</td>\n",
       "      <td>0</td>\n",
       "      <td>0</td>\n",
       "      <td>0</td>\n",
       "      <td>4</td>\n",
       "      <td>40</td>\n",
       "      <td>44</td>\n",
       "      <td>...</td>\n",
       "      <td>11</td>\n",
       "      <td>27,5</td>\n",
       "      <td>10</td>\n",
       "      <td>0</td>\n",
       "      <td>100</td>\n",
       "      <td>25.00</td>\n",
       "      <td>0</td>\n",
       "      <td>NaN</td>\n",
       "      <td>NaN</td>\n",
       "      <td>H-M-</td>\n",
       "    </tr>\n",
       "    <tr>\n",
       "      <th>3</th>\n",
       "      <td>4</td>\n",
       "      <td>1x1</td>\n",
       "      <td>control</td>\n",
       "      <td>ctrl</td>\n",
       "      <td>0</td>\n",
       "      <td>0</td>\n",
       "      <td>0</td>\n",
       "      <td>2</td>\n",
       "      <td>20</td>\n",
       "      <td>22</td>\n",
       "      <td>...</td>\n",
       "      <td>9</td>\n",
       "      <td>45</td>\n",
       "      <td>8</td>\n",
       "      <td>1</td>\n",
       "      <td>88,89</td>\n",
       "      <td>40.00</td>\n",
       "      <td>11,11</td>\n",
       "      <td>NaN</td>\n",
       "      <td>NaN</td>\n",
       "      <td>H-M-</td>\n",
       "    </tr>\n",
       "    <tr>\n",
       "      <th>4</th>\n",
       "      <td>5</td>\n",
       "      <td>1x1</td>\n",
       "      <td>control</td>\n",
       "      <td>ctrl</td>\n",
       "      <td>0</td>\n",
       "      <td>0</td>\n",
       "      <td>0</td>\n",
       "      <td>5</td>\n",
       "      <td>21</td>\n",
       "      <td>26</td>\n",
       "      <td>...</td>\n",
       "      <td>12</td>\n",
       "      <td>57,14</td>\n",
       "      <td>11</td>\n",
       "      <td>1</td>\n",
       "      <td>91,67</td>\n",
       "      <td>52.38</td>\n",
       "      <td>8,33</td>\n",
       "      <td>NaN</td>\n",
       "      <td>NaN</td>\n",
       "      <td>H-M-</td>\n",
       "    </tr>\n",
       "    <tr>\n",
       "      <th>...</th>\n",
       "      <td>...</td>\n",
       "      <td>...</td>\n",
       "      <td>...</td>\n",
       "      <td>...</td>\n",
       "      <td>...</td>\n",
       "      <td>...</td>\n",
       "      <td>...</td>\n",
       "      <td>...</td>\n",
       "      <td>...</td>\n",
       "      <td>...</td>\n",
       "      <td>...</td>\n",
       "      <td>...</td>\n",
       "      <td>...</td>\n",
       "      <td>...</td>\n",
       "      <td>...</td>\n",
       "      <td>...</td>\n",
       "      <td>...</td>\n",
       "      <td>...</td>\n",
       "      <td>...</td>\n",
       "      <td>...</td>\n",
       "      <td>...</td>\n",
       "    </tr>\n",
       "    <tr>\n",
       "      <th>215</th>\n",
       "      <td>216</td>\n",
       "      <td>2x2</td>\n",
       "      <td>38_40_min_ENU_2</td>\n",
       "      <td>38_40_en2</td>\n",
       "      <td>38</td>\n",
       "      <td>40</td>\n",
       "      <td>2</td>\n",
       "      <td>37</td>\n",
       "      <td>23</td>\n",
       "      <td>60</td>\n",
       "      <td>...</td>\n",
       "      <td>0</td>\n",
       "      <td>0</td>\n",
       "      <td>0</td>\n",
       "      <td>0</td>\n",
       "      <td>0</td>\n",
       "      <td>0.00</td>\n",
       "      <td>0</td>\n",
       "      <td>NaN</td>\n",
       "      <td>NaN</td>\n",
       "      <td>H+M+</td>\n",
       "    </tr>\n",
       "    <tr>\n",
       "      <th>216</th>\n",
       "      <td>217</td>\n",
       "      <td>2x2</td>\n",
       "      <td>38_40_min_ENU_2</td>\n",
       "      <td>38_40_en2</td>\n",
       "      <td>38</td>\n",
       "      <td>40</td>\n",
       "      <td>2</td>\n",
       "      <td>20</td>\n",
       "      <td>54</td>\n",
       "      <td>74</td>\n",
       "      <td>...</td>\n",
       "      <td>1</td>\n",
       "      <td>1,85</td>\n",
       "      <td>0</td>\n",
       "      <td>0</td>\n",
       "      <td>0</td>\n",
       "      <td>0.00</td>\n",
       "      <td>0</td>\n",
       "      <td>NaN</td>\n",
       "      <td>NaN</td>\n",
       "      <td>H+M+</td>\n",
       "    </tr>\n",
       "    <tr>\n",
       "      <th>217</th>\n",
       "      <td>218</td>\n",
       "      <td>2x2</td>\n",
       "      <td>38_40_min_ENU_2</td>\n",
       "      <td>38_40_en2</td>\n",
       "      <td>38</td>\n",
       "      <td>40</td>\n",
       "      <td>2</td>\n",
       "      <td>17</td>\n",
       "      <td>29</td>\n",
       "      <td>46</td>\n",
       "      <td>...</td>\n",
       "      <td>0</td>\n",
       "      <td>0</td>\n",
       "      <td>0</td>\n",
       "      <td>0</td>\n",
       "      <td>0</td>\n",
       "      <td>0.00</td>\n",
       "      <td>0</td>\n",
       "      <td>NaN</td>\n",
       "      <td>NaN</td>\n",
       "      <td>H+M+</td>\n",
       "    </tr>\n",
       "    <tr>\n",
       "      <th>218</th>\n",
       "      <td>219</td>\n",
       "      <td>2x2</td>\n",
       "      <td>38_40_min_ENU_2</td>\n",
       "      <td>38_40_en2</td>\n",
       "      <td>38</td>\n",
       "      <td>40</td>\n",
       "      <td>2</td>\n",
       "      <td>22</td>\n",
       "      <td>21</td>\n",
       "      <td>43</td>\n",
       "      <td>...</td>\n",
       "      <td>0</td>\n",
       "      <td>0</td>\n",
       "      <td>0</td>\n",
       "      <td>0</td>\n",
       "      <td>0</td>\n",
       "      <td>0.00</td>\n",
       "      <td>0</td>\n",
       "      <td>NaN</td>\n",
       "      <td>NaN</td>\n",
       "      <td>H+M+</td>\n",
       "    </tr>\n",
       "    <tr>\n",
       "      <th>219</th>\n",
       "      <td>220</td>\n",
       "      <td>2x2</td>\n",
       "      <td>38_40_min_ENU_2</td>\n",
       "      <td>38_40_en2</td>\n",
       "      <td>38</td>\n",
       "      <td>40</td>\n",
       "      <td>2</td>\n",
       "      <td>22</td>\n",
       "      <td>31</td>\n",
       "      <td>53</td>\n",
       "      <td>...</td>\n",
       "      <td>0</td>\n",
       "      <td>0</td>\n",
       "      <td>0</td>\n",
       "      <td>0</td>\n",
       "      <td>0</td>\n",
       "      <td>0.00</td>\n",
       "      <td>0</td>\n",
       "      <td>NaN</td>\n",
       "      <td>NaN</td>\n",
       "      <td>H+M+</td>\n",
       "    </tr>\n",
       "  </tbody>\n",
       "</table>\n",
       "<p>80 rows × 21 columns</p>\n",
       "</div>"
      ],
      "text/plain": [
       "     petri Family             mode   mode_scr  temperature  time  enu  dead  \\\n",
       "0        1    1x1          control       ctrl            0     0    0     9   \n",
       "1        2    1x1          control       ctrl            0     0    0     4   \n",
       "2        3    1x1          control       ctrl            0     0    0     4   \n",
       "3        4    1x1          control       ctrl            0     0    0     2   \n",
       "4        5    1x1          control       ctrl            0     0    0     5   \n",
       "..     ...    ...              ...        ...          ...   ...  ...   ...   \n",
       "215    216    2x2  38_40_min_ENU_2  38_40_en2           38    40    2    37   \n",
       "216    217    2x2  38_40_min_ENU_2  38_40_en2           38    40    2    20   \n",
       "217    218    2x2  38_40_min_ENU_2  38_40_en2           38    40    2    17   \n",
       "218    219    2x2  38_40_min_ENU_2  38_40_en2           38    40    2    22   \n",
       "219    220    2x2  38_40_min_ENU_2  38_40_en2           38    40    2    22   \n",
       "\n",
       "     alive  total  ... hatched  hatched_per swimming  freaks  swim_per  \\\n",
       "0       45     54  ...      26        57,78       23       3     88,46   \n",
       "1       20     24  ...       9           45        5       4     55,56   \n",
       "2       40     44  ...      11         27,5       10       0       100   \n",
       "3       20     22  ...       9           45        8       1     88,89   \n",
       "4       21     26  ...      12        57,14       11       1     91,67   \n",
       "..     ...    ...  ...     ...          ...      ...     ...       ...   \n",
       "215     23     60  ...       0            0        0       0         0   \n",
       "216     54     74  ...       1         1,85        0       0         0   \n",
       "217     29     46  ...       0            0        0       0         0   \n",
       "218     21     43  ...       0            0        0       0         0   \n",
       "219     31     53  ...       0            0        0       0         0   \n",
       "\n",
       "    swim_per_fert  freaks_per food  food_per    HM  \n",
       "0           51.11       11,54  NaN       NaN  H-M-  \n",
       "1           25.00       44,44  NaN       NaN  H-M-  \n",
       "2           25.00           0  NaN       NaN  H-M-  \n",
       "3           40.00       11,11  NaN       NaN  H-M-  \n",
       "4           52.38        8,33  NaN       NaN  H-M-  \n",
       "..            ...         ...  ...       ...   ...  \n",
       "215          0.00           0  NaN       NaN  H+M+  \n",
       "216          0.00           0  NaN       NaN  H+M+  \n",
       "217          0.00           0  NaN       NaN  H+M+  \n",
       "218          0.00           0  NaN       NaN  H+M+  \n",
       "219          0.00           0  NaN       NaN  H+M+  \n",
       "\n",
       "[80 rows x 21 columns]"
      ]
     },
     "execution_count": 38,
     "metadata": {},
     "output_type": "execute_result"
    }
   ],
   "source": [
    "exp2022"
   ]
  },
  {
   "cell_type": "code",
   "execution_count": 39,
   "id": "1fc43eca",
   "metadata": {
    "scrolled": false
   },
   "outputs": [
    {
     "name": "stderr",
     "output_type": "stream",
     "text": [
      "/home/emulciber/.local/lib/python3.10/site-packages/seaborn/algorithms.py:98: RuntimeWarning: Mean of empty slice\n",
      "  boot_dist.append(f(*sample, **func_kwargs))\n",
      "/home/emulciber/.local/lib/python3.10/site-packages/seaborn/algorithms.py:98: RuntimeWarning: Mean of empty slice\n",
      "  boot_dist.append(f(*sample, **func_kwargs))\n",
      "/home/emulciber/.local/lib/python3.10/site-packages/seaborn/axisgrid.py:118: UserWarning: The figure layout has changed to tight\n",
      "  self._figure.tight_layout(*args, **kwargs)\n"
     ]
    },
    {
     "data": {
      "image/png": "[encoded data removed]",
      "text/plain": [
       "<Figure size 864x216 with 4 Axes>"
      ]
     },
     "metadata": {
      "needs_background": "light"
     },
     "output_type": "display_data"
    }
   ],
   "source": [
    "g = sns.FacetGrid(exp2022, col=\"Family\")\n",
    "g.map(sns.barplot, 'HM', 'swim_per_fert', order=['H-M-', 'H+M-', 'H-M+', 'H+M+'],  \n",
    "      palette={'H-M-': '#2976bb', 'H+M-': '#fdaa48', 'H-M+': '#50a747', 'H+M+': '#d3494e'})\n",
    "\n",
    "g.set_xlabels(\"\")\n",
    "g.set_ylabels(\"Swimming individuals, %\")\n",
    "\n",
    "ax1, ax2, ax3, ax4 = g.axes[0]\n",
    "\n",
    "ax1.set_title('1x1 family')\n",
    "ax2.set_title('1x2 family')\n",
    "ax3.set_title('2x1 family')\n",
    "ax4.set_title('2x2 family')\n",
    "\n",
    "ax1.axhline(exp_11, xmin=0.75, ls='--', color='orange')\n",
    "ax2.axhline(exp_12, xmin=0.75, ls='--', color='orange')\n",
    "ax3.axhline(exp_21, xmin=0.75, ls='--', color='orange')\n",
    "ax4.axhline(exp_22, xmin=0.75, ls='--', color='orange');\n",
    "plt.savefig('../figures/paper1/exp2022_hist.png')\n",
    "plt.savefig('../figures/paper1/exp2022_hist.pdf', format='pdf')"
   ]
  },
  {
   "cell_type": "markdown",
   "id": "97d6d7cb",
   "metadata": {},
   "source": [
    "#### on Hatching"
   ]
  },
  {
   "cell_type": "code",
   "execution_count": 28,
   "id": "cd36bfc6",
   "metadata": {},
   "outputs": [],
   "source": [
    "sheet_id = '1aqHnDaiRXntyrbj6qaqzR-4XnLbvtKU84FB_JLu5x5A'\n",
    "sheet_name = 'EXP_2022_relativeDecrease'\n",
    "url = f'https://docs.google.com/spreadsheets/d/{sheet_id}/gviz/tq?tqx=out:csv&sheet={sheet_name}'\n",
    "exp2022_rd = pd.read_csv(url)\n",
    "\n",
    "exp2022_rd['Time_ENU'] = exp2022_rd['Time'].map(str) + ' ' + exp2022_rd['ENU'].map(str)\n",
    "exp2022_rd = exp2022_rd[(exp2022_rd['Time_ENU'] == '40 0.0') | (exp2022_rd['Time_ENU'] == '40 2.0')]\n",
    "\n",
    "exp2022_rd['Hatching+'] = exp2022_rd['hH+'] / exp2022_rd['fH+'] * 100\n",
    "exp2022_rd['Hatching-'] = exp2022_rd['hH-'] / exp2022_rd['fH-'] * 100\n",
    "exp2022_rd['Mut'] = exp2022_rd['ENU'].apply(lambda x: 'M-' if x == 0.0 else 'M+')"
   ]
  },
  {
   "cell_type": "code",
   "execution_count": 25,
   "id": "5323fadf",
   "metadata": {},
   "outputs": [
    {
     "data": {
      "text/html": [
       "<div>\n",
       "<style scoped>\n",
       "    .dataframe tbody tr th:only-of-type {\n",
       "        vertical-align: middle;\n",
       "    }\n",
       "\n",
       "    .dataframe tbody tr th {\n",
       "        vertical-align: top;\n",
       "    }\n",
       "\n",
       "    .dataframe thead th {\n",
       "        text-align: right;\n",
       "    }\n",
       "</style>\n",
       "<table border=\"1\" class=\"dataframe\">\n",
       "  <thead>\n",
       "    <tr style=\"text-align: right;\">\n",
       "      <th></th>\n",
       "      <th>Family</th>\n",
       "      <th>ENU</th>\n",
       "      <th>Time</th>\n",
       "      <th>fH+</th>\n",
       "      <th>hH+</th>\n",
       "      <th>fH-</th>\n",
       "      <th>hH-</th>\n",
       "      <th>RelativeDecrease_inHatching</th>\n",
       "      <th>Time_ENU</th>\n",
       "      <th>Hatching+</th>\n",
       "      <th>Hatching-</th>\n",
       "      <th>Mut</th>\n",
       "    </tr>\n",
       "  </thead>\n",
       "  <tbody>\n",
       "    <tr>\n",
       "      <th>3</th>\n",
       "      <td>1x1</td>\n",
       "      <td>0.0</td>\n",
       "      <td>40</td>\n",
       "      <td>229</td>\n",
       "      <td>161</td>\n",
       "      <td>146</td>\n",
       "      <td>67</td>\n",
       "      <td>1.532</td>\n",
       "      <td>40 0.0</td>\n",
       "      <td>70.305677</td>\n",
       "      <td>45.890411</td>\n",
       "      <td>M-</td>\n",
       "    </tr>\n",
       "    <tr>\n",
       "      <th>5</th>\n",
       "      <td>1x1</td>\n",
       "      <td>2.0</td>\n",
       "      <td>40</td>\n",
       "      <td>147</td>\n",
       "      <td>11</td>\n",
       "      <td>176</td>\n",
       "      <td>38</td>\n",
       "      <td>0.347</td>\n",
       "      <td>40 2.0</td>\n",
       "      <td>7.482993</td>\n",
       "      <td>21.590909</td>\n",
       "      <td>M+</td>\n",
       "    </tr>\n",
       "    <tr>\n",
       "      <th>12</th>\n",
       "      <td>1x2</td>\n",
       "      <td>0.0</td>\n",
       "      <td>40</td>\n",
       "      <td>56</td>\n",
       "      <td>38</td>\n",
       "      <td>63</td>\n",
       "      <td>34</td>\n",
       "      <td>1.257</td>\n",
       "      <td>40 0.0</td>\n",
       "      <td>67.857143</td>\n",
       "      <td>53.968254</td>\n",
       "      <td>M-</td>\n",
       "    </tr>\n",
       "    <tr>\n",
       "      <th>14</th>\n",
       "      <td>1x2</td>\n",
       "      <td>2.0</td>\n",
       "      <td>40</td>\n",
       "      <td>157</td>\n",
       "      <td>2</td>\n",
       "      <td>158</td>\n",
       "      <td>85</td>\n",
       "      <td>0.024</td>\n",
       "      <td>40 2.0</td>\n",
       "      <td>1.273885</td>\n",
       "      <td>53.797468</td>\n",
       "      <td>M+</td>\n",
       "    </tr>\n",
       "    <tr>\n",
       "      <th>21</th>\n",
       "      <td>2x1</td>\n",
       "      <td>0.0</td>\n",
       "      <td>40</td>\n",
       "      <td>4</td>\n",
       "      <td>2</td>\n",
       "      <td>231</td>\n",
       "      <td>221</td>\n",
       "      <td>0.523</td>\n",
       "      <td>40 0.0</td>\n",
       "      <td>50.000000</td>\n",
       "      <td>95.670996</td>\n",
       "      <td>M-</td>\n",
       "    </tr>\n",
       "    <tr>\n",
       "      <th>23</th>\n",
       "      <td>2x1</td>\n",
       "      <td>2.0</td>\n",
       "      <td>40</td>\n",
       "      <td>99</td>\n",
       "      <td>0</td>\n",
       "      <td>127</td>\n",
       "      <td>47</td>\n",
       "      <td>0.000</td>\n",
       "      <td>40 2.0</td>\n",
       "      <td>0.000000</td>\n",
       "      <td>37.007874</td>\n",
       "      <td>M+</td>\n",
       "    </tr>\n",
       "    <tr>\n",
       "      <th>30</th>\n",
       "      <td>2x2</td>\n",
       "      <td>0.0</td>\n",
       "      <td>40</td>\n",
       "      <td>127</td>\n",
       "      <td>92</td>\n",
       "      <td>155</td>\n",
       "      <td>150</td>\n",
       "      <td>0.749</td>\n",
       "      <td>40 0.0</td>\n",
       "      <td>72.440945</td>\n",
       "      <td>96.774194</td>\n",
       "      <td>M-</td>\n",
       "    </tr>\n",
       "    <tr>\n",
       "      <th>32</th>\n",
       "      <td>2x2</td>\n",
       "      <td>2.0</td>\n",
       "      <td>40</td>\n",
       "      <td>158</td>\n",
       "      <td>1</td>\n",
       "      <td>151</td>\n",
       "      <td>107</td>\n",
       "      <td>0.009</td>\n",
       "      <td>40 2.0</td>\n",
       "      <td>0.632911</td>\n",
       "      <td>70.860927</td>\n",
       "      <td>M+</td>\n",
       "    </tr>\n",
       "  </tbody>\n",
       "</table>\n",
       "</div>"
      ],
      "text/plain": [
       "   Family  ENU  Time  fH+  hH+  fH-  hH-  RelativeDecrease_inHatching  \\\n",
       "3     1x1  0.0    40  229  161  146   67                        1.532   \n",
       "5     1x1  2.0    40  147   11  176   38                        0.347   \n",
       "12    1x2  0.0    40   56   38   63   34                        1.257   \n",
       "14    1x2  2.0    40  157    2  158   85                        0.024   \n",
       "21    2x1  0.0    40    4    2  231  221                        0.523   \n",
       "23    2x1  2.0    40   99    0  127   47                        0.000   \n",
       "30    2x2  0.0    40  127   92  155  150                        0.749   \n",
       "32    2x2  2.0    40  158    1  151  107                        0.009   \n",
       "\n",
       "   Time_ENU  Hatching+  Hatching- Mut  \n",
       "3    40 0.0  70.305677  45.890411  M-  \n",
       "5    40 2.0   7.482993  21.590909  M+  \n",
       "12   40 0.0  67.857143  53.968254  M-  \n",
       "14   40 2.0   1.273885  53.797468  M+  \n",
       "21   40 0.0  50.000000  95.670996  M-  \n",
       "23   40 2.0   0.000000  37.007874  M+  \n",
       "30   40 0.0  72.440945  96.774194  M-  \n",
       "32   40 2.0   0.632911  70.860927  M+  "
      ]
     },
     "execution_count": 25,
     "metadata": {},
     "output_type": "execute_result"
    }
   ],
   "source": [
    "exp2022_rd"
   ]
  },
  {
   "cell_type": "code",
   "execution_count": 26,
   "id": "7e0aa995",
   "metadata": {},
   "outputs": [],
   "source": [
    "exp2022_rd_melted = pd.melt(exp2022_rd, id_vars=['Family', 'Mut'], value_vars=['Hatching+', 'Hatching-'], \n",
    "                         var_name='Heat_shock', value_name='Hatching')\n",
    "exp2022_rd_melted['HM'] = 'H' + exp2022_rd_melted['Heat_shock'].apply(lambda x: x[-1:]) + exp2022_rd_melted['Mut']"
   ]
  },
  {
   "cell_type": "code",
   "execution_count": 27,
   "id": "4dfdc3fb",
   "metadata": {},
   "outputs": [
    {
     "data": {
      "text/html": [
       "<div>\n",
       "<style scoped>\n",
       "    .dataframe tbody tr th:only-of-type {\n",
       "        vertical-align: middle;\n",
       "    }\n",
       "\n",
       "    .dataframe tbody tr th {\n",
       "        vertical-align: top;\n",
       "    }\n",
       "\n",
       "    .dataframe thead th {\n",
       "        text-align: right;\n",
       "    }\n",
       "</style>\n",
       "<table border=\"1\" class=\"dataframe\">\n",
       "  <thead>\n",
       "    <tr style=\"text-align: right;\">\n",
       "      <th></th>\n",
       "      <th>Family</th>\n",
       "      <th>Mut</th>\n",
       "      <th>Heat_shock</th>\n",
       "      <th>Hatching</th>\n",
       "      <th>HM</th>\n",
       "    </tr>\n",
       "  </thead>\n",
       "  <tbody>\n",
       "    <tr>\n",
       "      <th>0</th>\n",
       "      <td>1x1</td>\n",
       "      <td>M-</td>\n",
       "      <td>Hatching+</td>\n",
       "      <td>70.305677</td>\n",
       "      <td>H+M-</td>\n",
       "    </tr>\n",
       "    <tr>\n",
       "      <th>1</th>\n",
       "      <td>1x1</td>\n",
       "      <td>M+</td>\n",
       "      <td>Hatching+</td>\n",
       "      <td>7.482993</td>\n",
       "      <td>H+M+</td>\n",
       "    </tr>\n",
       "    <tr>\n",
       "      <th>2</th>\n",
       "      <td>1x2</td>\n",
       "      <td>M-</td>\n",
       "      <td>Hatching+</td>\n",
       "      <td>67.857143</td>\n",
       "      <td>H+M-</td>\n",
       "    </tr>\n",
       "    <tr>\n",
       "      <th>3</th>\n",
       "      <td>1x2</td>\n",
       "      <td>M+</td>\n",
       "      <td>Hatching+</td>\n",
       "      <td>1.273885</td>\n",
       "      <td>H+M+</td>\n",
       "    </tr>\n",
       "    <tr>\n",
       "      <th>4</th>\n",
       "      <td>2x1</td>\n",
       "      <td>M-</td>\n",
       "      <td>Hatching+</td>\n",
       "      <td>50.000000</td>\n",
       "      <td>H+M-</td>\n",
       "    </tr>\n",
       "    <tr>\n",
       "      <th>5</th>\n",
       "      <td>2x1</td>\n",
       "      <td>M+</td>\n",
       "      <td>Hatching+</td>\n",
       "      <td>0.000000</td>\n",
       "      <td>H+M+</td>\n",
       "    </tr>\n",
       "    <tr>\n",
       "      <th>6</th>\n",
       "      <td>2x2</td>\n",
       "      <td>M-</td>\n",
       "      <td>Hatching+</td>\n",
       "      <td>72.440945</td>\n",
       "      <td>H+M-</td>\n",
       "    </tr>\n",
       "    <tr>\n",
       "      <th>7</th>\n",
       "      <td>2x2</td>\n",
       "      <td>M+</td>\n",
       "      <td>Hatching+</td>\n",
       "      <td>0.632911</td>\n",
       "      <td>H+M+</td>\n",
       "    </tr>\n",
       "    <tr>\n",
       "      <th>8</th>\n",
       "      <td>1x1</td>\n",
       "      <td>M-</td>\n",
       "      <td>Hatching-</td>\n",
       "      <td>45.890411</td>\n",
       "      <td>H-M-</td>\n",
       "    </tr>\n",
       "    <tr>\n",
       "      <th>9</th>\n",
       "      <td>1x1</td>\n",
       "      <td>M+</td>\n",
       "      <td>Hatching-</td>\n",
       "      <td>21.590909</td>\n",
       "      <td>H-M+</td>\n",
       "    </tr>\n",
       "    <tr>\n",
       "      <th>10</th>\n",
       "      <td>1x2</td>\n",
       "      <td>M-</td>\n",
       "      <td>Hatching-</td>\n",
       "      <td>53.968254</td>\n",
       "      <td>H-M-</td>\n",
       "    </tr>\n",
       "    <tr>\n",
       "      <th>11</th>\n",
       "      <td>1x2</td>\n",
       "      <td>M+</td>\n",
       "      <td>Hatching-</td>\n",
       "      <td>53.797468</td>\n",
       "      <td>H-M+</td>\n",
       "    </tr>\n",
       "    <tr>\n",
       "      <th>12</th>\n",
       "      <td>2x1</td>\n",
       "      <td>M-</td>\n",
       "      <td>Hatching-</td>\n",
       "      <td>95.670996</td>\n",
       "      <td>H-M-</td>\n",
       "    </tr>\n",
       "    <tr>\n",
       "      <th>13</th>\n",
       "      <td>2x1</td>\n",
       "      <td>M+</td>\n",
       "      <td>Hatching-</td>\n",
       "      <td>37.007874</td>\n",
       "      <td>H-M+</td>\n",
       "    </tr>\n",
       "    <tr>\n",
       "      <th>14</th>\n",
       "      <td>2x2</td>\n",
       "      <td>M-</td>\n",
       "      <td>Hatching-</td>\n",
       "      <td>96.774194</td>\n",
       "      <td>H-M-</td>\n",
       "    </tr>\n",
       "    <tr>\n",
       "      <th>15</th>\n",
       "      <td>2x2</td>\n",
       "      <td>M+</td>\n",
       "      <td>Hatching-</td>\n",
       "      <td>70.860927</td>\n",
       "      <td>H-M+</td>\n",
       "    </tr>\n",
       "  </tbody>\n",
       "</table>\n",
       "</div>"
      ],
      "text/plain": [
       "   Family Mut Heat_shock   Hatching    HM\n",
       "0     1x1  M-  Hatching+  70.305677  H+M-\n",
       "1     1x1  M+  Hatching+   7.482993  H+M+\n",
       "2     1x2  M-  Hatching+  67.857143  H+M-\n",
       "3     1x2  M+  Hatching+   1.273885  H+M+\n",
       "4     2x1  M-  Hatching+  50.000000  H+M-\n",
       "5     2x1  M+  Hatching+   0.000000  H+M+\n",
       "6     2x2  M-  Hatching+  72.440945  H+M-\n",
       "7     2x2  M+  Hatching+   0.632911  H+M+\n",
       "8     1x1  M-  Hatching-  45.890411  H-M-\n",
       "9     1x1  M+  Hatching-  21.590909  H-M+\n",
       "10    1x2  M-  Hatching-  53.968254  H-M-\n",
       "11    1x2  M+  Hatching-  53.797468  H-M+\n",
       "12    2x1  M-  Hatching-  95.670996  H-M-\n",
       "13    2x1  M+  Hatching-  37.007874  H-M+\n",
       "14    2x2  M-  Hatching-  96.774194  H-M-\n",
       "15    2x2  M+  Hatching-  70.860927  H-M+"
      ]
     },
     "execution_count": 27,
     "metadata": {},
     "output_type": "execute_result"
    }
   ],
   "source": [
    "exp2022_rd_melted"
   ]
  },
  {
   "cell_type": "code",
   "execution_count": 112,
   "id": "bd941b0c",
   "metadata": {
    "scrolled": true
   },
   "outputs": [
    {
     "data": {
      "image/png": "[encoded data removed]",
      "text/plain": [
       "<Figure size 1200x300 with 4 Axes>"
      ]
     },
     "metadata": {},
     "output_type": "display_data"
    }
   ],
   "source": [
    "g = sns.FacetGrid(exp2022_rd_melted, col=\"Family\")\n",
    "g.map(sns.barplot, 'HM', 'Hatching', order=['H-M-', 'H+M-', 'H-M+', 'H+M+'],  \n",
    "      palette={'H-M-': '#2976bb', 'H+M-': '#fdaa48', 'H-M+': '#50a747', 'H+M+': '#d3494e'})\n",
    "\n",
    "g.set_xlabels(\"\")\n",
    "g.set_ylabels(\"Hatching individuals, %\")\n",
    "\n",
    "ax1, ax2, ax3, ax4 = g.axes[0]\n",
    "\n",
    "ax1.set_title('1x1 family')\n",
    "ax2.set_title('1x2 family')\n",
    "ax3.set_title('2x1 family')\n",
    "ax4.set_title('2x2 family')\n",
    "\n",
    "ax1.axhline(exp_11, xmin=0.75, ls='--', color='orange')\n",
    "ax2.axhline(exp_12, xmin=0.75, ls='--', color='orange')\n",
    "ax3.axhline(exp_21, xmin=0.75, ls='--', color='orange')\n",
    "ax4.axhline(exp_22, xmin=0.75, ls='--', color='orange');"
   ]
  }
 ],
 "metadata": {
  "kernelspec": {
   "display_name": "Python 3 (ipykernel)",
   "language": "python",
   "name": "python3"
  },
  "language_info": {
   "codemirror_mode": {
    "name": "ipython",
    "version": 3
   },
   "file_extension": ".py",
   "mimetype": "text/x-python",
   "name": "python",
   "nbconvert_exporter": "python",
   "pygments_lexer": "ipython3",
   "version": "3.10.12"
  }
 },
 "nbformat": 4,
 "nbformat_minor": 5
}
