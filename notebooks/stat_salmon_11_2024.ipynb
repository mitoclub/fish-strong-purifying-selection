{
 "cells": [
  {
   "cell_type": "code",
   "execution_count": 2,
   "id": "8a73ea55",
   "metadata": {},
   "outputs": [],
   "source": [
    "import pandas as pd\n",
    "import seaborn as sns\n",
    "import matplotlib.pyplot as plt"
   ]
  },
  {
   "cell_type": "code",
   "execution_count": 3,
   "id": "5e55550d",
   "metadata": {},
   "outputs": [],
   "source": [
    "import statsmodels.api as sm\n",
    "from statsmodels.formula.api import ols\n",
    "import scipy.stats as st"
   ]
  },
  {
   "cell_type": "code",
   "execution_count": 4,
   "id": "006d2908",
   "metadata": {},
   "outputs": [],
   "source": [
    "sns.set_theme()"
   ]
  },
  {
   "cell_type": "markdown",
   "id": "932ec32c",
   "metadata": {},
   "source": [
    "# Experiment in Petri dishes"
   ]
  },
  {
   "cell_type": "code",
   "execution_count": 5,
   "id": "ba089b39",
   "metadata": {},
   "outputs": [],
   "source": [
    "sheet_id = '1aCfAOkr_9d6sLyf8hqB59XtaWXvl1tcmj3cAfE9zUdg'\n",
    "sheet_name = 'dish_data_for_stat'\n",
    "url = f'https://docs.google.com/spreadsheets/d/{sheet_id}/gviz/tq?tqx=out:csv&sheet={sheet_name}'\n",
    "dish = pd.read_csv(url)"
   ]
  },
  {
   "cell_type": "code",
   "execution_count": 3,
   "id": "71834f89",
   "metadata": {},
   "outputs": [
    {
     "data": {
      "text/html": [
       "<div>\n",
       "<style scoped>\n",
       "    .dataframe tbody tr th:only-of-type {\n",
       "        vertical-align: middle;\n",
       "    }\n",
       "\n",
       "    .dataframe tbody tr th {\n",
       "        vertical-align: top;\n",
       "    }\n",
       "\n",
       "    .dataframe thead th {\n",
       "        text-align: right;\n",
       "    }\n",
       "</style>\n",
       "<table border=\"1\" class=\"dataframe\">\n",
       "  <thead>\n",
       "    <tr style=\"text-align: right;\">\n",
       "      <th></th>\n",
       "      <th>group</th>\n",
       "      <th>temp</th>\n",
       "      <th>mutagen</th>\n",
       "      <th>repeat</th>\n",
       "      <th>alive</th>\n",
       "      <th>all</th>\n",
       "      <th>hatching_perc</th>\n",
       "      <th>nutrition</th>\n",
       "      <th>nutrition_perc</th>\n",
       "    </tr>\n",
       "  </thead>\n",
       "  <tbody>\n",
       "    <tr>\n",
       "      <th>0</th>\n",
       "      <td>25c</td>\n",
       "      <td>25</td>\n",
       "      <td>c</td>\n",
       "      <td>1</td>\n",
       "      <td>17</td>\n",
       "      <td>33</td>\n",
       "      <td>51,515152</td>\n",
       "      <td>15</td>\n",
       "      <td>45,454545</td>\n",
       "    </tr>\n",
       "    <tr>\n",
       "      <th>1</th>\n",
       "      <td>25c</td>\n",
       "      <td>25</td>\n",
       "      <td>c</td>\n",
       "      <td>2</td>\n",
       "      <td>17</td>\n",
       "      <td>34</td>\n",
       "      <td>50,000000</td>\n",
       "      <td>13</td>\n",
       "      <td>38,235294</td>\n",
       "    </tr>\n",
       "    <tr>\n",
       "      <th>2</th>\n",
       "      <td>25c</td>\n",
       "      <td>25</td>\n",
       "      <td>c</td>\n",
       "      <td>3</td>\n",
       "      <td>6</td>\n",
       "      <td>31</td>\n",
       "      <td>19,354839</td>\n",
       "      <td>4</td>\n",
       "      <td>12,903226</td>\n",
       "    </tr>\n",
       "    <tr>\n",
       "      <th>3</th>\n",
       "      <td>25c</td>\n",
       "      <td>25</td>\n",
       "      <td>c</td>\n",
       "      <td>4</td>\n",
       "      <td>15</td>\n",
       "      <td>29</td>\n",
       "      <td>51,724138</td>\n",
       "      <td>15</td>\n",
       "      <td>51,724138</td>\n",
       "    </tr>\n",
       "    <tr>\n",
       "      <th>4</th>\n",
       "      <td>26c</td>\n",
       "      <td>26</td>\n",
       "      <td>c</td>\n",
       "      <td>1</td>\n",
       "      <td>22</td>\n",
       "      <td>30</td>\n",
       "      <td>73,333333</td>\n",
       "      <td>20</td>\n",
       "      <td>66,666667</td>\n",
       "    </tr>\n",
       "    <tr>\n",
       "      <th>5</th>\n",
       "      <td>26c</td>\n",
       "      <td>26</td>\n",
       "      <td>c</td>\n",
       "      <td>2</td>\n",
       "      <td>2</td>\n",
       "      <td>30</td>\n",
       "      <td>6,666667</td>\n",
       "      <td>2</td>\n",
       "      <td>6,666667</td>\n",
       "    </tr>\n",
       "    <tr>\n",
       "      <th>6</th>\n",
       "      <td>26c</td>\n",
       "      <td>26</td>\n",
       "      <td>c</td>\n",
       "      <td>3</td>\n",
       "      <td>14</td>\n",
       "      <td>30</td>\n",
       "      <td>46,666667</td>\n",
       "      <td>13</td>\n",
       "      <td>43,333333</td>\n",
       "    </tr>\n",
       "    <tr>\n",
       "      <th>7</th>\n",
       "      <td>26c</td>\n",
       "      <td>26</td>\n",
       "      <td>c</td>\n",
       "      <td>4</td>\n",
       "      <td>20</td>\n",
       "      <td>29</td>\n",
       "      <td>68,965517</td>\n",
       "      <td>18</td>\n",
       "      <td>62,068966</td>\n",
       "    </tr>\n",
       "    <tr>\n",
       "      <th>8</th>\n",
       "      <td>25m</td>\n",
       "      <td>25</td>\n",
       "      <td>m</td>\n",
       "      <td>1</td>\n",
       "      <td>8</td>\n",
       "      <td>18</td>\n",
       "      <td>44,444444</td>\n",
       "      <td>2</td>\n",
       "      <td>11,111111</td>\n",
       "    </tr>\n",
       "    <tr>\n",
       "      <th>9</th>\n",
       "      <td>25m</td>\n",
       "      <td>25</td>\n",
       "      <td>m</td>\n",
       "      <td>2</td>\n",
       "      <td>7</td>\n",
       "      <td>17</td>\n",
       "      <td>41,176471</td>\n",
       "      <td>7</td>\n",
       "      <td>41,176471</td>\n",
       "    </tr>\n",
       "    <tr>\n",
       "      <th>10</th>\n",
       "      <td>25m</td>\n",
       "      <td>25</td>\n",
       "      <td>m</td>\n",
       "      <td>3</td>\n",
       "      <td>1</td>\n",
       "      <td>25</td>\n",
       "      <td>4,000000</td>\n",
       "      <td>0</td>\n",
       "      <td>0,000000</td>\n",
       "    </tr>\n",
       "    <tr>\n",
       "      <th>11</th>\n",
       "      <td>25m</td>\n",
       "      <td>25</td>\n",
       "      <td>m</td>\n",
       "      <td>4</td>\n",
       "      <td>15</td>\n",
       "      <td>27</td>\n",
       "      <td>55,555556</td>\n",
       "      <td>13</td>\n",
       "      <td>48,148148</td>\n",
       "    </tr>\n",
       "    <tr>\n",
       "      <th>12</th>\n",
       "      <td>26m</td>\n",
       "      <td>26</td>\n",
       "      <td>m</td>\n",
       "      <td>1</td>\n",
       "      <td>6</td>\n",
       "      <td>27</td>\n",
       "      <td>22,222222</td>\n",
       "      <td>6</td>\n",
       "      <td>22,222222</td>\n",
       "    </tr>\n",
       "    <tr>\n",
       "      <th>13</th>\n",
       "      <td>26m</td>\n",
       "      <td>26</td>\n",
       "      <td>m</td>\n",
       "      <td>2</td>\n",
       "      <td>11</td>\n",
       "      <td>24</td>\n",
       "      <td>45,833333</td>\n",
       "      <td>10</td>\n",
       "      <td>41,666667</td>\n",
       "    </tr>\n",
       "    <tr>\n",
       "      <th>14</th>\n",
       "      <td>26m</td>\n",
       "      <td>26</td>\n",
       "      <td>m</td>\n",
       "      <td>3</td>\n",
       "      <td>3</td>\n",
       "      <td>25</td>\n",
       "      <td>12,000000</td>\n",
       "      <td>3</td>\n",
       "      <td>12,000000</td>\n",
       "    </tr>\n",
       "    <tr>\n",
       "      <th>15</th>\n",
       "      <td>26m</td>\n",
       "      <td>26</td>\n",
       "      <td>m</td>\n",
       "      <td>4</td>\n",
       "      <td>9</td>\n",
       "      <td>25</td>\n",
       "      <td>36,000000</td>\n",
       "      <td>8</td>\n",
       "      <td>32,000000</td>\n",
       "    </tr>\n",
       "  </tbody>\n",
       "</table>\n",
       "</div>"
      ],
      "text/plain": [
       "   group  temp mutagen  repeat  alive  all hatching_perc  nutrition  \\\n",
       "0    25c    25       c       1     17   33     51,515152         15   \n",
       "1    25c    25       c       2     17   34     50,000000         13   \n",
       "2    25c    25       c       3      6   31     19,354839          4   \n",
       "3    25c    25       c       4     15   29     51,724138         15   \n",
       "4    26c    26       c       1     22   30     73,333333         20   \n",
       "5    26c    26       c       2      2   30      6,666667          2   \n",
       "6    26c    26       c       3     14   30     46,666667         13   \n",
       "7    26c    26       c       4     20   29     68,965517         18   \n",
       "8    25m    25       m       1      8   18     44,444444          2   \n",
       "9    25m    25       m       2      7   17     41,176471          7   \n",
       "10   25m    25       m       3      1   25      4,000000          0   \n",
       "11   25m    25       m       4     15   27     55,555556         13   \n",
       "12   26m    26       m       1      6   27     22,222222          6   \n",
       "13   26m    26       m       2     11   24     45,833333         10   \n",
       "14   26m    26       m       3      3   25     12,000000          3   \n",
       "15   26m    26       m       4      9   25     36,000000          8   \n",
       "\n",
       "   nutrition_perc  \n",
       "0       45,454545  \n",
       "1       38,235294  \n",
       "2       12,903226  \n",
       "3       51,724138  \n",
       "4       66,666667  \n",
       "5        6,666667  \n",
       "6       43,333333  \n",
       "7       62,068966  \n",
       "8       11,111111  \n",
       "9       41,176471  \n",
       "10       0,000000  \n",
       "11      48,148148  \n",
       "12      22,222222  \n",
       "13      41,666667  \n",
       "14      12,000000  \n",
       "15      32,000000  "
      ]
     },
     "execution_count": 3,
     "metadata": {},
     "output_type": "execute_result"
    }
   ],
   "source": [
    "dish"
   ]
  },
  {
   "cell_type": "code",
   "execution_count": 6,
   "id": "ac43c269",
   "metadata": {},
   "outputs": [],
   "source": [
    "dish['hatching_perc'] = dish['hatching_perc'].str.replace(',', '.').astype('float')\n",
    "dish['nutrition_perc'] = dish['nutrition_perc'].str.replace(',', '.').astype('float')"
   ]
  },
  {
   "cell_type": "code",
   "execution_count": 17,
   "id": "9c9e2864",
   "metadata": {},
   "outputs": [
    {
     "data": {
      "image/png": "[encoded data removed]",
      "text/plain": [
       "<Figure size 640x480 with 1 Axes>"
      ]
     },
     "metadata": {},
     "output_type": "display_data"
    }
   ],
   "source": [
    "sns.boxplot(dish, x='group', y='hatching_perc');"
   ]
  },
  {
   "cell_type": "code",
   "execution_count": 9,
   "id": "8ed49aad",
   "metadata": {},
   "outputs": [
    {
     "data": {
      "image/png": "[encoded data removed]",
      "text/plain": [
       "<Figure size 640x480 with 1 Axes>"
      ]
     },
     "metadata": {},
     "output_type": "display_data"
    }
   ],
   "source": [
    "sns.boxplot(dish, x='mutagen', y='hatching_perc');"
   ]
  },
  {
   "cell_type": "code",
   "execution_count": 8,
   "id": "bc90f78e",
   "metadata": {},
   "outputs": [
    {
     "data": {
      "image/png": "[encoded data removed]",
      "text/plain": [
       "<Figure size 640x480 with 1 Axes>"
      ]
     },
     "metadata": {},
     "output_type": "display_data"
    }
   ],
   "source": [
    "sns.boxplot(dish, x='mutagen', y='nutrition_perc');"
   ]
  },
  {
   "cell_type": "code",
   "execution_count": 23,
   "id": "e2a2cc9d",
   "metadata": {},
   "outputs": [
    {
     "data": {
      "text/html": [
       "<div>\n",
       "<style scoped>\n",
       "    .dataframe tbody tr th:only-of-type {\n",
       "        vertical-align: middle;\n",
       "    }\n",
       "\n",
       "    .dataframe tbody tr th {\n",
       "        vertical-align: top;\n",
       "    }\n",
       "\n",
       "    .dataframe thead th {\n",
       "        text-align: right;\n",
       "    }\n",
       "</style>\n",
       "<table border=\"1\" class=\"dataframe\">\n",
       "  <thead>\n",
       "    <tr style=\"text-align: right;\">\n",
       "      <th></th>\n",
       "      <th>sum_sq</th>\n",
       "      <th>df</th>\n",
       "      <th>F</th>\n",
       "      <th>PR(&gt;F)</th>\n",
       "    </tr>\n",
       "  </thead>\n",
       "  <tbody>\n",
       "    <tr>\n",
       "      <th>mutagen</th>\n",
       "      <td>715.486091</td>\n",
       "      <td>1.0</td>\n",
       "      <td>1.501977</td>\n",
       "      <td>0.243877</td>\n",
       "    </tr>\n",
       "    <tr>\n",
       "      <th>temp</th>\n",
       "      <td>2.312575</td>\n",
       "      <td>1.0</td>\n",
       "      <td>0.004855</td>\n",
       "      <td>0.945600</td>\n",
       "    </tr>\n",
       "    <tr>\n",
       "      <th>temp:mutagen</th>\n",
       "      <td>170.034891</td>\n",
       "      <td>1.0</td>\n",
       "      <td>0.356944</td>\n",
       "      <td>0.561313</td>\n",
       "    </tr>\n",
       "    <tr>\n",
       "      <th>Residual</th>\n",
       "      <td>5716.355295</td>\n",
       "      <td>12.0</td>\n",
       "      <td>NaN</td>\n",
       "      <td>NaN</td>\n",
       "    </tr>\n",
       "  </tbody>\n",
       "</table>\n",
       "</div>"
      ],
      "text/plain": [
       "                   sum_sq    df         F    PR(>F)\n",
       "mutagen        715.486091   1.0  1.501977  0.243877\n",
       "temp             2.312575   1.0  0.004855  0.945600\n",
       "temp:mutagen   170.034891   1.0  0.356944  0.561313\n",
       "Residual      5716.355295  12.0       NaN       NaN"
      ]
     },
     "execution_count": 23,
     "metadata": {},
     "output_type": "execute_result"
    }
   ],
   "source": [
    "model = ols('hatching_perc ~ temp + mutagen + temp:mutagen', data=dish).fit()\n",
    "sm.stats.anova_lm(model, typ=2)"
   ]
  },
  {
   "cell_type": "code",
   "execution_count": 28,
   "id": "fb382a65",
   "metadata": {},
   "outputs": [
    {
     "data": {
      "text/plain": [
       "MannwhitneyuResult(statistic=47.0, pvalue=0.13038073038073036)"
      ]
     },
     "execution_count": 28,
     "metadata": {},
     "output_type": "execute_result"
    }
   ],
   "source": [
    "st.mannwhitneyu(dish[dish['mutagen'] == 'c']['hatching_perc'], dish[dish['mutagen'] == 'm']['hatching_perc'])"
   ]
  },
  {
   "cell_type": "code",
   "execution_count": 18,
   "id": "4089fdf8",
   "metadata": {},
   "outputs": [
    {
     "data": {
      "image/png": "[encoded data removed]",
      "text/plain": [
       "<Figure size 640x480 with 1 Axes>"
      ]
     },
     "metadata": {},
     "output_type": "display_data"
    }
   ],
   "source": [
    "sns.boxplot(dish, x='group', y='nutrition_perc');"
   ]
  },
  {
   "cell_type": "code",
   "execution_count": 25,
   "id": "9904266c",
   "metadata": {},
   "outputs": [
    {
     "data": {
      "text/html": [
       "<div>\n",
       "<style scoped>\n",
       "    .dataframe tbody tr th:only-of-type {\n",
       "        vertical-align: middle;\n",
       "    }\n",
       "\n",
       "    .dataframe tbody tr th {\n",
       "        vertical-align: top;\n",
       "    }\n",
       "\n",
       "    .dataframe thead th {\n",
       "        text-align: right;\n",
       "    }\n",
       "</style>\n",
       "<table border=\"1\" class=\"dataframe\">\n",
       "  <thead>\n",
       "    <tr style=\"text-align: right;\">\n",
       "      <th></th>\n",
       "      <th>sum_sq</th>\n",
       "      <th>df</th>\n",
       "      <th>F</th>\n",
       "      <th>PR(&gt;F)</th>\n",
       "    </tr>\n",
       "  </thead>\n",
       "  <tbody>\n",
       "    <tr>\n",
       "      <th>mutagen</th>\n",
       "      <td>881.024344</td>\n",
       "      <td>1.0</td>\n",
       "      <td>2.030651</td>\n",
       "      <td>0.179641</td>\n",
       "    </tr>\n",
       "    <tr>\n",
       "      <th>temp</th>\n",
       "      <td>89.641078</td>\n",
       "      <td>1.0</td>\n",
       "      <td>0.206612</td>\n",
       "      <td>0.657549</td>\n",
       "    </tr>\n",
       "    <tr>\n",
       "      <th>temp:mutagen</th>\n",
       "      <td>32.962730</td>\n",
       "      <td>1.0</td>\n",
       "      <td>0.075975</td>\n",
       "      <td>0.787517</td>\n",
       "    </tr>\n",
       "    <tr>\n",
       "      <th>Residual</th>\n",
       "      <td>5206.355425</td>\n",
       "      <td>12.0</td>\n",
       "      <td>NaN</td>\n",
       "      <td>NaN</td>\n",
       "    </tr>\n",
       "  </tbody>\n",
       "</table>\n",
       "</div>"
      ],
      "text/plain": [
       "                   sum_sq    df         F    PR(>F)\n",
       "mutagen        881.024344   1.0  2.030651  0.179641\n",
       "temp            89.641078   1.0  0.206612  0.657549\n",
       "temp:mutagen    32.962730   1.0  0.075975  0.787517\n",
       "Residual      5206.355425  12.0       NaN       NaN"
      ]
     },
     "execution_count": 25,
     "metadata": {},
     "output_type": "execute_result"
    }
   ],
   "source": [
    "model = ols('nutrition_perc ~ temp + mutagen + temp:mutagen', data=dish).fit()\n",
    "sm.stats.anova_lm(model, typ=2)"
   ]
  },
  {
   "cell_type": "code",
   "execution_count": 29,
   "id": "5fb6e5f5",
   "metadata": {},
   "outputs": [
    {
     "data": {
      "text/plain": [
       "MannwhitneyuResult(statistic=47.0, pvalue=0.13038073038073036)"
      ]
     },
     "execution_count": 29,
     "metadata": {},
     "output_type": "execute_result"
    }
   ],
   "source": [
    "st.mannwhitneyu(dish[dish['mutagen'] == 'c']['nutrition_perc'], dish[dish['mutagen'] == 'm']['nutrition_perc'])"
   ]
  },
  {
   "cell_type": "markdown",
   "id": "44372415",
   "metadata": {},
   "source": [
    "# Experiment in Weiss"
   ]
  },
  {
   "cell_type": "code",
   "execution_count": 33,
   "id": "1ae2aba7",
   "metadata": {},
   "outputs": [],
   "source": [
    "sheet_id = '1aCfAOkr_9d6sLyf8hqB59XtaWXvl1tcmj3cAfE9zUdg'\n",
    "sheet_name = 'weiss_data_for_stat'\n",
    "url = f'https://docs.google.com/spreadsheets/d/{sheet_id}/gviz/tq?tqx=out:csv&sheet={sheet_name}'\n",
    "weiss = pd.read_csv(url)"
   ]
  },
  {
   "cell_type": "code",
   "execution_count": 34,
   "id": "e90552f9",
   "metadata": {},
   "outputs": [
    {
     "data": {
      "text/html": [
       "<div>\n",
       "<style scoped>\n",
       "    .dataframe tbody tr th:only-of-type {\n",
       "        vertical-align: middle;\n",
       "    }\n",
       "\n",
       "    .dataframe tbody tr th {\n",
       "        vertical-align: top;\n",
       "    }\n",
       "\n",
       "    .dataframe thead th {\n",
       "        text-align: right;\n",
       "    }\n",
       "</style>\n",
       "<table border=\"1\" class=\"dataframe\">\n",
       "  <thead>\n",
       "    <tr style=\"text-align: right;\">\n",
       "      <th></th>\n",
       "      <th>group</th>\n",
       "      <th>mutagen</th>\n",
       "      <th>all</th>\n",
       "      <th>alive_after_selection</th>\n",
       "      <th>alive_after_hatching</th>\n",
       "      <th>hatching_perc</th>\n",
       "      <th>nutrition_perc</th>\n",
       "    </tr>\n",
       "  </thead>\n",
       "  <tbody>\n",
       "    <tr>\n",
       "      <th>0</th>\n",
       "      <td>control</td>\n",
       "      <td>c</td>\n",
       "      <td>715</td>\n",
       "      <td>620</td>\n",
       "      <td>536</td>\n",
       "      <td>86,71328671</td>\n",
       "      <td>74,96503497</td>\n",
       "    </tr>\n",
       "    <tr>\n",
       "      <th>1</th>\n",
       "      <td>mutagen</td>\n",
       "      <td>m</td>\n",
       "      <td>621</td>\n",
       "      <td>564</td>\n",
       "      <td>312</td>\n",
       "      <td>90,82125604</td>\n",
       "      <td>50,24154589</td>\n",
       "    </tr>\n",
       "    <tr>\n",
       "      <th>2</th>\n",
       "      <td>control_after_shock</td>\n",
       "      <td>c</td>\n",
       "      <td>182</td>\n",
       "      <td>167</td>\n",
       "      <td>102</td>\n",
       "      <td>91,75824176</td>\n",
       "      <td>56,04395604</td>\n",
       "    </tr>\n",
       "    <tr>\n",
       "      <th>3</th>\n",
       "      <td>mutagen_after_shock</td>\n",
       "      <td>m</td>\n",
       "      <td>527</td>\n",
       "      <td>448</td>\n",
       "      <td>330</td>\n",
       "      <td>85,00948767</td>\n",
       "      <td>62,61859583</td>\n",
       "    </tr>\n",
       "  </tbody>\n",
       "</table>\n",
       "</div>"
      ],
      "text/plain": [
       "                 group mutagen  all  alive_after_selection  \\\n",
       "0              control       c  715                    620   \n",
       "1              mutagen       m  621                    564   \n",
       "2  control_after_shock       c  182                    167   \n",
       "3  mutagen_after_shock       m  527                    448   \n",
       "\n",
       "   alive_after_hatching hatching_perc nutrition_perc  \n",
       "0                   536   86,71328671    74,96503497  \n",
       "1                   312   90,82125604    50,24154589  \n",
       "2                   102   91,75824176    56,04395604  \n",
       "3                   330   85,00948767    62,61859583  "
      ]
     },
     "execution_count": 34,
     "metadata": {},
     "output_type": "execute_result"
    }
   ],
   "source": [
    "weiss"
   ]
  },
  {
   "cell_type": "code",
   "execution_count": 35,
   "id": "f2a06413",
   "metadata": {},
   "outputs": [],
   "source": [
    "weiss['hatching_perc'] = weiss['hatching_perc'].str.replace(',', '.').astype('float')\n",
    "weiss['nutrition_perc'] = weiss['nutrition_perc'].str.replace(',', '.').astype('float')"
   ]
  },
  {
   "cell_type": "code",
   "execution_count": 39,
   "id": "8cfddeb5",
   "metadata": {},
   "outputs": [
    {
     "data": {
      "image/png": "[encoded data removed]",
      "text/plain": [
       "<Figure size 640x480 with 1 Axes>"
      ]
     },
     "metadata": {},
     "output_type": "display_data"
    }
   ],
   "source": [
    "sns.barplot(weiss, x='group', y='hatching_perc');"
   ]
  },
  {
   "cell_type": "code",
   "execution_count": 41,
   "id": "3e57f55f",
   "metadata": {},
   "outputs": [
    {
     "data": {
      "image/png": "[encoded data removed]",
      "text/plain": [
       "<Figure size 640x480 with 1 Axes>"
      ]
     },
     "metadata": {},
     "output_type": "display_data"
    }
   ],
   "source": [
    "sns.barplot(weiss, x='group', y='nutrition_perc');"
   ]
  },
  {
   "cell_type": "code",
   "execution_count": null,
   "id": "fd4343d4",
   "metadata": {},
   "outputs": [],
   "source": []
  }
 ],
 "metadata": {
  "kernelspec": {
   "display_name": "Python 3 (ipykernel)",
   "language": "python",
   "name": "python3"
  },
  "language_info": {
   "codemirror_mode": {
    "name": "ipython",
    "version": 3
   },
   "file_extension": ".py",
   "mimetype": "text/x-python",
   "name": "python",
   "nbconvert_exporter": "python",
   "pygments_lexer": "ipython3",
   "version": "3.10.8"
  }
 },
 "nbformat": 4,
 "nbformat_minor": 5
}
