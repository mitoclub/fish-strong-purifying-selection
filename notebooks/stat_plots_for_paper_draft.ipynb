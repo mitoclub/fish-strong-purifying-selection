{
 "cells": [
  {
   "cell_type": "code",
   "execution_count": 1,
   "id": "8213144e",
   "metadata": {},
   "outputs": [],
   "source": [
    "import pandas as pd\n",
    "import matplotlib.pyplot as plt\n",
    "import seaborn as sns"
   ]
  },
  {
   "cell_type": "code",
   "execution_count": 61,
   "id": "9e14b78d",
   "metadata": {},
   "outputs": [],
   "source": [
    "sns.set(rc={'figure.figsize':(10,6)})"
   ]
  },
  {
   "cell_type": "code",
   "execution_count": 7,
   "id": "616d2657",
   "metadata": {},
   "outputs": [],
   "source": [
    "def find_outliers_IQR(df):\n",
    "    \n",
    "    q1=df.quantile(0.25)\n",
    "    q3=df.quantile(0.75)\n",
    "    IQR=q3-q1\n",
    "    outliers = df[((df<(q1-1.5*IQR)) | (df>(q3+1.5*IQR)))]\n",
    "    return outliers"
   ]
  },
  {
   "cell_type": "markdown",
   "id": "3efa2f1f",
   "metadata": {},
   "source": [
    "# EXP 5 main lab"
   ]
  },
  {
   "cell_type": "code",
   "execution_count": 42,
   "id": "c066385d",
   "metadata": {},
   "outputs": [],
   "source": [
    "sheet_id = '1aqHnDaiRXntyrbj6qaqzR-4XnLbvtKU84FB_JLu5x5A'\n",
    "sheet_name = 'EXP_5_main_lab'\n",
    "url = f'https://docs.google.com/spreadsheets/d/{sheet_id}/gviz/tq?tqx=out:csv&sheet={sheet_name}'\n",
    "exp5lab = pd.read_csv(url)"
   ]
  },
  {
   "cell_type": "code",
   "execution_count": 43,
   "id": "4f8a94ff",
   "metadata": {},
   "outputs": [
    {
     "data": {
      "text/html": [
       "<div>\n",
       "<style scoped>\n",
       "    .dataframe tbody tr th:only-of-type {\n",
       "        vertical-align: middle;\n",
       "    }\n",
       "\n",
       "    .dataframe tbody tr th {\n",
       "        vertical-align: top;\n",
       "    }\n",
       "\n",
       "    .dataframe thead th {\n",
       "        text-align: right;\n",
       "    }\n",
       "</style>\n",
       "<table border=\"1\" class=\"dataframe\">\n",
       "  <thead>\n",
       "    <tr style=\"text-align: right;\">\n",
       "      <th></th>\n",
       "      <th>№</th>\n",
       "      <th>CODE</th>\n",
       "      <th>CUP_NUMBER</th>\n",
       "      <th>FEMALE</th>\n",
       "      <th>MALE</th>\n",
       "      <th>MUT</th>\n",
       "      <th>TEMP</th>\n",
       "      <th>TIME</th>\n",
       "      <th>DEAD</th>\n",
       "      <th>FERT</th>\n",
       "      <th>...</th>\n",
       "      <th>FERT_PERC</th>\n",
       "      <th>SHOCK_DEAD</th>\n",
       "      <th>SHOCK_ALIVE</th>\n",
       "      <th>SHOCK_NAME</th>\n",
       "      <th>HATCHED_DEAD</th>\n",
       "      <th>HATCHED_ALIVE</th>\n",
       "      <th>HATCHED_NAME</th>\n",
       "      <th>SWIM</th>\n",
       "      <th>SWIM_NAME</th>\n",
       "      <th>SWIM_PERC</th>\n",
       "    </tr>\n",
       "  </thead>\n",
       "  <tbody>\n",
       "    <tr>\n",
       "      <th>0</th>\n",
       "      <td>1</td>\n",
       "      <td>11CC</td>\n",
       "      <td>1</td>\n",
       "      <td>1</td>\n",
       "      <td>1</td>\n",
       "      <td>C</td>\n",
       "      <td>C</td>\n",
       "      <td>NaN</td>\n",
       "      <td>5</td>\n",
       "      <td>37</td>\n",
       "      <td>...</td>\n",
       "      <td>88,0952381</td>\n",
       "      <td>0</td>\n",
       "      <td>37</td>\n",
       "      <td>Polina</td>\n",
       "      <td>0</td>\n",
       "      <td>37</td>\n",
       "      <td>Sasha</td>\n",
       "      <td>33</td>\n",
       "      <td>Vika</td>\n",
       "      <td>89,18918919</td>\n",
       "    </tr>\n",
       "    <tr>\n",
       "      <th>1</th>\n",
       "      <td>2</td>\n",
       "      <td>11CC</td>\n",
       "      <td>2</td>\n",
       "      <td>1</td>\n",
       "      <td>1</td>\n",
       "      <td>C</td>\n",
       "      <td>C</td>\n",
       "      <td>NaN</td>\n",
       "      <td>2</td>\n",
       "      <td>42</td>\n",
       "      <td>...</td>\n",
       "      <td>95,45454545</td>\n",
       "      <td>0</td>\n",
       "      <td>41</td>\n",
       "      <td>Polina</td>\n",
       "      <td>1</td>\n",
       "      <td>40</td>\n",
       "      <td>Sasha</td>\n",
       "      <td>33</td>\n",
       "      <td>Vika</td>\n",
       "      <td>78,57142857</td>\n",
       "    </tr>\n",
       "    <tr>\n",
       "      <th>2</th>\n",
       "      <td>3</td>\n",
       "      <td>11CC</td>\n",
       "      <td>3</td>\n",
       "      <td>1</td>\n",
       "      <td>1</td>\n",
       "      <td>C</td>\n",
       "      <td>C</td>\n",
       "      <td>NaN</td>\n",
       "      <td>5</td>\n",
       "      <td>33</td>\n",
       "      <td>...</td>\n",
       "      <td>86,84210526</td>\n",
       "      <td>0</td>\n",
       "      <td>31</td>\n",
       "      <td>Polina</td>\n",
       "      <td>2</td>\n",
       "      <td>29</td>\n",
       "      <td>Sasha</td>\n",
       "      <td>26</td>\n",
       "      <td>Vika</td>\n",
       "      <td>78,78787879</td>\n",
       "    </tr>\n",
       "    <tr>\n",
       "      <th>3</th>\n",
       "      <td>4</td>\n",
       "      <td>11CC</td>\n",
       "      <td>4</td>\n",
       "      <td>1</td>\n",
       "      <td>1</td>\n",
       "      <td>C</td>\n",
       "      <td>C</td>\n",
       "      <td>NaN</td>\n",
       "      <td>11</td>\n",
       "      <td>38</td>\n",
       "      <td>...</td>\n",
       "      <td>77,55102041</td>\n",
       "      <td>0</td>\n",
       "      <td>37</td>\n",
       "      <td>Polina</td>\n",
       "      <td>2</td>\n",
       "      <td>35</td>\n",
       "      <td>Sasha</td>\n",
       "      <td>32</td>\n",
       "      <td>Vika</td>\n",
       "      <td>84,21052632</td>\n",
       "    </tr>\n",
       "    <tr>\n",
       "      <th>4</th>\n",
       "      <td>5</td>\n",
       "      <td>12CC</td>\n",
       "      <td>1</td>\n",
       "      <td>1</td>\n",
       "      <td>2</td>\n",
       "      <td>C</td>\n",
       "      <td>C</td>\n",
       "      <td>NaN</td>\n",
       "      <td>4</td>\n",
       "      <td>58</td>\n",
       "      <td>...</td>\n",
       "      <td>93,5483871</td>\n",
       "      <td>0</td>\n",
       "      <td>59</td>\n",
       "      <td>Lera</td>\n",
       "      <td>10</td>\n",
       "      <td>49</td>\n",
       "      <td>Vika</td>\n",
       "      <td>45</td>\n",
       "      <td>Polina</td>\n",
       "      <td>77,5862069</td>\n",
       "    </tr>\n",
       "    <tr>\n",
       "      <th>...</th>\n",
       "      <td>...</td>\n",
       "      <td>...</td>\n",
       "      <td>...</td>\n",
       "      <td>...</td>\n",
       "      <td>...</td>\n",
       "      <td>...</td>\n",
       "      <td>...</td>\n",
       "      <td>...</td>\n",
       "      <td>...</td>\n",
       "      <td>...</td>\n",
       "      <td>...</td>\n",
       "      <td>...</td>\n",
       "      <td>...</td>\n",
       "      <td>...</td>\n",
       "      <td>...</td>\n",
       "      <td>...</td>\n",
       "      <td>...</td>\n",
       "      <td>...</td>\n",
       "      <td>...</td>\n",
       "      <td>...</td>\n",
       "      <td>...</td>\n",
       "    </tr>\n",
       "    <tr>\n",
       "      <th>59</th>\n",
       "      <td>60</td>\n",
       "      <td>21M38</td>\n",
       "      <td>4</td>\n",
       "      <td>2</td>\n",
       "      <td>1</td>\n",
       "      <td>M</td>\n",
       "      <td>38</td>\n",
       "      <td>40.0</td>\n",
       "      <td>3</td>\n",
       "      <td>54</td>\n",
       "      <td>...</td>\n",
       "      <td>94,73684211</td>\n",
       "      <td>0</td>\n",
       "      <td>53</td>\n",
       "      <td>Alya(d)+Lera(a)</td>\n",
       "      <td>3</td>\n",
       "      <td>50</td>\n",
       "      <td>Vika</td>\n",
       "      <td>33</td>\n",
       "      <td>Vika</td>\n",
       "      <td>61,11111111</td>\n",
       "    </tr>\n",
       "    <tr>\n",
       "      <th>60</th>\n",
       "      <td>61</td>\n",
       "      <td>22M38</td>\n",
       "      <td>1</td>\n",
       "      <td>2</td>\n",
       "      <td>2</td>\n",
       "      <td>M</td>\n",
       "      <td>38</td>\n",
       "      <td>40.0</td>\n",
       "      <td>2</td>\n",
       "      <td>40</td>\n",
       "      <td>...</td>\n",
       "      <td>95,23809524</td>\n",
       "      <td>0</td>\n",
       "      <td>40</td>\n",
       "      <td>Lera</td>\n",
       "      <td>4</td>\n",
       "      <td>36</td>\n",
       "      <td>Vika</td>\n",
       "      <td>34</td>\n",
       "      <td>Polina</td>\n",
       "      <td>85</td>\n",
       "    </tr>\n",
       "    <tr>\n",
       "      <th>61</th>\n",
       "      <td>62</td>\n",
       "      <td>22M38</td>\n",
       "      <td>2</td>\n",
       "      <td>2</td>\n",
       "      <td>2</td>\n",
       "      <td>M</td>\n",
       "      <td>38</td>\n",
       "      <td>40.0</td>\n",
       "      <td>2</td>\n",
       "      <td>43</td>\n",
       "      <td>...</td>\n",
       "      <td>95,55555556</td>\n",
       "      <td>1</td>\n",
       "      <td>40</td>\n",
       "      <td>Lera</td>\n",
       "      <td>4</td>\n",
       "      <td>36</td>\n",
       "      <td>Vika</td>\n",
       "      <td>35</td>\n",
       "      <td>Polina</td>\n",
       "      <td>81,39534884</td>\n",
       "    </tr>\n",
       "    <tr>\n",
       "      <th>62</th>\n",
       "      <td>63</td>\n",
       "      <td>22M38</td>\n",
       "      <td>3</td>\n",
       "      <td>2</td>\n",
       "      <td>2</td>\n",
       "      <td>M</td>\n",
       "      <td>38</td>\n",
       "      <td>40.0</td>\n",
       "      <td>0</td>\n",
       "      <td>58</td>\n",
       "      <td>...</td>\n",
       "      <td>100</td>\n",
       "      <td>0</td>\n",
       "      <td>55</td>\n",
       "      <td>Lera</td>\n",
       "      <td>1</td>\n",
       "      <td>54</td>\n",
       "      <td>Vika</td>\n",
       "      <td>50</td>\n",
       "      <td>Polina</td>\n",
       "      <td>86,20689655</td>\n",
       "    </tr>\n",
       "    <tr>\n",
       "      <th>63</th>\n",
       "      <td>64</td>\n",
       "      <td>22M38</td>\n",
       "      <td>4</td>\n",
       "      <td>2</td>\n",
       "      <td>2</td>\n",
       "      <td>M</td>\n",
       "      <td>38</td>\n",
       "      <td>40.0</td>\n",
       "      <td>3</td>\n",
       "      <td>50</td>\n",
       "      <td>...</td>\n",
       "      <td>94,33962264</td>\n",
       "      <td>2</td>\n",
       "      <td>48</td>\n",
       "      <td>Lera</td>\n",
       "      <td>1</td>\n",
       "      <td>47</td>\n",
       "      <td>Vika</td>\n",
       "      <td>42</td>\n",
       "      <td>Polina</td>\n",
       "      <td>84</td>\n",
       "    </tr>\n",
       "  </tbody>\n",
       "</table>\n",
       "<p>64 rows × 22 columns</p>\n",
       "</div>"
      ],
      "text/plain": [
       "     №   CODE  CUP_NUMBER  FEMALE  MALE MUT TEMP  TIME  DEAD  FERT  ...  \\\n",
       "0    1   11CC           1       1     1   C    C   NaN     5    37  ...   \n",
       "1    2   11CC           2       1     1   C    C   NaN     2    42  ...   \n",
       "2    3   11CC           3       1     1   C    C   NaN     5    33  ...   \n",
       "3    4   11CC           4       1     1   C    C   NaN    11    38  ...   \n",
       "4    5   12CC           1       1     2   C    C   NaN     4    58  ...   \n",
       "..  ..    ...         ...     ...   ...  ..  ...   ...   ...   ...  ...   \n",
       "59  60  21M38           4       2     1   M   38  40.0     3    54  ...   \n",
       "60  61  22M38           1       2     2   M   38  40.0     2    40  ...   \n",
       "61  62  22M38           2       2     2   M   38  40.0     2    43  ...   \n",
       "62  63  22M38           3       2     2   M   38  40.0     0    58  ...   \n",
       "63  64  22M38           4       2     2   M   38  40.0     3    50  ...   \n",
       "\n",
       "      FERT_PERC  SHOCK_DEAD SHOCK_ALIVE       SHOCK_NAME  HATCHED_DEAD  \\\n",
       "0    88,0952381           0          37           Polina             0   \n",
       "1   95,45454545           0          41           Polina             1   \n",
       "2   86,84210526           0          31           Polina             2   \n",
       "3   77,55102041           0          37           Polina             2   \n",
       "4    93,5483871           0          59             Lera            10   \n",
       "..          ...         ...         ...              ...           ...   \n",
       "59  94,73684211           0          53  Alya(d)+Lera(a)             3   \n",
       "60  95,23809524           0          40             Lera             4   \n",
       "61  95,55555556           1          40             Lera             4   \n",
       "62          100           0          55             Lera             1   \n",
       "63  94,33962264           2          48             Lera             1   \n",
       "\n",
       "   HATCHED_ALIVE  HATCHED_NAME  SWIM SWIM_NAME    SWIM_PERC  \n",
       "0             37         Sasha    33      Vika  89,18918919  \n",
       "1             40         Sasha    33      Vika  78,57142857  \n",
       "2             29         Sasha    26      Vika  78,78787879  \n",
       "3             35         Sasha    32      Vika  84,21052632  \n",
       "4             49          Vika    45    Polina   77,5862069  \n",
       "..           ...           ...   ...       ...          ...  \n",
       "59            50          Vika    33      Vika  61,11111111  \n",
       "60            36          Vika    34    Polina           85  \n",
       "61            36          Vika    35    Polina  81,39534884  \n",
       "62            54          Vika    50    Polina  86,20689655  \n",
       "63            47          Vika    42    Polina           84  \n",
       "\n",
       "[64 rows x 22 columns]"
      ]
     },
     "execution_count": 43,
     "metadata": {},
     "output_type": "execute_result"
    }
   ],
   "source": [
    "exp5lab"
   ]
  },
  {
   "cell_type": "code",
   "execution_count": 44,
   "id": "b7640485",
   "metadata": {},
   "outputs": [],
   "source": [
    "exp5lab.FEMALE = exp5lab.FEMALE.astype(str)\n",
    "exp5lab.MALE = exp5lab.MALE.astype(str)\n",
    "exp5lab.TEMP = exp5lab.TEMP.astype(str)\n",
    "\n",
    "exp5lab.FERT_PERC = exp5lab.FERT_PERC.str.replace(',', '.')\n",
    "exp5lab.FERT_PERC = pd.to_numeric(exp5lab.FERT_PERC)\n",
    "\n",
    "exp5lab.SWIM_PERC = exp5lab.SWIM_PERC.str.replace(',', '.')\n",
    "exp5lab.SWIM_PERC = pd.to_numeric(exp5lab.SWIM_PERC)"
   ]
  },
  {
   "cell_type": "code",
   "execution_count": 45,
   "id": "b09c64b2",
   "metadata": {},
   "outputs": [],
   "source": [
    "exp5lab['FAMILY'] = exp5lab.FEMALE + exp5lab.MALE\n",
    "exp5lab['CODE_COND'] = exp5lab.MUT + exp5lab.TEMP"
   ]
  },
  {
   "cell_type": "markdown",
   "id": "df49e5ff",
   "metadata": {},
   "source": [
    "### FIND OUTLIERS"
   ]
  },
  {
   "cell_type": "code",
   "execution_count": 49,
   "id": "e395d812",
   "metadata": {},
   "outputs": [
    {
     "data": {
      "text/plain": [
       "56    85\n",
       "Name: FERT, dtype: int64"
      ]
     },
     "execution_count": 49,
     "metadata": {},
     "output_type": "execute_result"
    }
   ],
   "source": [
    "find_outliers_IQR(exp5lab['FERT'])"
   ]
  },
  {
   "cell_type": "code",
   "execution_count": 52,
   "id": "7508ad01",
   "metadata": {},
   "outputs": [
    {
     "data": {
      "text/plain": [
       "3     77.551020\n",
       "41    76.923077\n",
       "Name: FERT_PERC, dtype: float64"
      ]
     },
     "execution_count": 52,
     "metadata": {},
     "output_type": "execute_result"
    }
   ],
   "source": [
    "find_outliers_IQR(exp5lab['FERT_PERC'])"
   ]
  },
  {
   "cell_type": "code",
   "execution_count": 8,
   "id": "011ed840",
   "metadata": {
    "scrolled": true
   },
   "outputs": [
    {
     "data": {
      "text/plain": [
       "56    71\n",
       "Name: HATCHED_ALIVE, dtype: int64"
      ]
     },
     "execution_count": 8,
     "metadata": {},
     "output_type": "execute_result"
    }
   ],
   "source": [
    "find_outliers_IQR(exp5lab['HATCHED_ALIVE'])"
   ]
  },
  {
   "cell_type": "code",
   "execution_count": 53,
   "id": "cba160ab",
   "metadata": {},
   "outputs": [
    {
     "data": {
      "text/plain": [
       "Series([], Name: SWIM, dtype: int64)"
      ]
     },
     "execution_count": 53,
     "metadata": {},
     "output_type": "execute_result"
    }
   ],
   "source": [
    "find_outliers_IQR(exp5lab['SWIM'])"
   ]
  },
  {
   "cell_type": "code",
   "execution_count": 54,
   "id": "1e00ed4f",
   "metadata": {},
   "outputs": [
    {
     "data": {
      "text/plain": [
       "Series([], Name: SWIM_PERC, dtype: float64)"
      ]
     },
     "execution_count": 54,
     "metadata": {},
     "output_type": "execute_result"
    }
   ],
   "source": [
    "find_outliers_IQR(exp5lab['SWIM_PERC'])"
   ]
  },
  {
   "cell_type": "code",
   "execution_count": 63,
   "id": "988d0fbb",
   "metadata": {},
   "outputs": [
    {
     "data": {
      "text/plain": [
       "<AxesSubplot: >"
      ]
     },
     "execution_count": 63,
     "metadata": {},
     "output_type": "execute_result"
    },
    {
     "data": {
      "image/png": "[encoded data removed]",
      "text/plain": [
       "<Figure size 1000x600 with 1 Axes>"
      ]
     },
     "metadata": {},
     "output_type": "display_data"
    }
   ],
   "source": [
    "sns.boxplot(exp5lab[['FERT', 'FERT_PERC', 'HATCHED_ALIVE', 'SWIM', 'SWIM_PERC']])"
   ]
  },
  {
   "cell_type": "markdown",
   "id": "a10c9cbd",
   "metadata": {},
   "source": [
    "### DRAW PLOT"
   ]
  },
  {
   "cell_type": "code",
   "execution_count": 47,
   "id": "8161bf66",
   "metadata": {},
   "outputs": [],
   "source": [
    "exp_11 = exp5lab[exp5lab['CODE'] == '11C38'].SWIM_PERC.mean() * exp5lab[exp5lab['CODE'] == '11MC'].SWIM_PERC.mean() / 100\n",
    "exp_12 = exp5lab[exp5lab['CODE'] == '12C38'].SWIM_PERC.mean() * exp5lab[exp5lab['CODE'] == '12MC'].SWIM_PERC.mean() / 100\n",
    "exp_21 = exp5lab[exp5lab['CODE'] == '21C38'].SWIM_PERC.mean() * exp5lab[exp5lab['CODE'] == '21MC'].SWIM_PERC.mean() / 100\n",
    "exp_22 = exp5lab[exp5lab['CODE'] == '22C38'].SWIM_PERC.mean() * exp5lab[exp5lab['CODE'] == '22MC'].SWIM_PERC.mean() / 100"
   ]
  },
  {
   "cell_type": "code",
   "execution_count": 67,
   "id": "3465bf09",
   "metadata": {
    "scrolled": true
   },
   "outputs": [
    {
     "data": {
      "image/png": "[encoded data removed]",
      "text/plain": [
       "<Figure size 1200x300 with 4 Axes>"
      ]
     },
     "metadata": {},
     "output_type": "display_data"
    }
   ],
   "source": [
    "g = sns.FacetGrid(exp5lab, col=\"FAMILY\")\n",
    "g.map(sns.barplot, 'CODE_COND', 'SWIM_PERC', order=['CC', 'C38', 'MC', 'M38'])\n",
    "\n",
    "ax1, ax2, ax3, ax4 = g.axes[0]\n",
    "ax1.axhline(exp_11, xmin=0.75, ls='--', color='orange')\n",
    "ax2.axhline(exp_12, xmin=0.75, ls='--', color='orange')\n",
    "ax3.axhline(exp_21, xmin=0.75, ls='--', color='orange')\n",
    "ax4.axhline(exp_22, xmin=0.75, ls='--', color='orange');"
   ]
  },
  {
   "cell_type": "markdown",
   "id": "f5fd595f",
   "metadata": {},
   "source": [
    "# EXP 5 main factory"
   ]
  },
  {
   "cell_type": "code",
   "execution_count": 92,
   "id": "b3cbd0f1",
   "metadata": {},
   "outputs": [],
   "source": [
    "sheet_id = '1aqHnDaiRXntyrbj6qaqzR-4XnLbvtKU84FB_JLu5x5A'\n",
    "sheet_name = 'EXP_5_main_factory'\n",
    "url = f'https://docs.google.com/spreadsheets/d/{sheet_id}/gviz/tq?tqx=out:csv&sheet={sheet_name}'\n",
    "exp5fac = pd.read_csv(url)"
   ]
  },
  {
   "cell_type": "code",
   "execution_count": 93,
   "id": "64d268f8",
   "metadata": {},
   "outputs": [
    {
     "data": {
      "text/html": [
       "<div>\n",
       "<style scoped>\n",
       "    .dataframe tbody tr th:only-of-type {\n",
       "        vertical-align: middle;\n",
       "    }\n",
       "\n",
       "    .dataframe tbody tr th {\n",
       "        vertical-align: top;\n",
       "    }\n",
       "\n",
       "    .dataframe thead th {\n",
       "        text-align: right;\n",
       "    }\n",
       "</style>\n",
       "<table border=\"1\" class=\"dataframe\">\n",
       "  <thead>\n",
       "    <tr style=\"text-align: right;\">\n",
       "      <th></th>\n",
       "      <th>№</th>\n",
       "      <th>CODE</th>\n",
       "      <th>FEMALE</th>\n",
       "      <th>MALE</th>\n",
       "      <th>MUT</th>\n",
       "      <th>TEMP</th>\n",
       "      <th>TIME</th>\n",
       "      <th>DEAD</th>\n",
       "      <th>FERT</th>\n",
       "      <th>FERT_NAME</th>\n",
       "      <th>TOTAL</th>\n",
       "      <th>TOTAL_SAMPLE</th>\n",
       "      <th>FERT.1</th>\n",
       "      <th>FERT_PERC</th>\n",
       "      <th>SWIM_PERC_FERT</th>\n",
       "      <th>SWIM_PERC_TOTAL</th>\n",
       "      <th>SWIM</th>\n",
       "      <th>SWIM_PERC_FERT_NORM</th>\n",
       "    </tr>\n",
       "  </thead>\n",
       "  <tbody>\n",
       "    <tr>\n",
       "      <th>0</th>\n",
       "      <td>1</td>\n",
       "      <td>11CC</td>\n",
       "      <td>1</td>\n",
       "      <td>1</td>\n",
       "      <td>C</td>\n",
       "      <td>C</td>\n",
       "      <td>NaN</td>\n",
       "      <td>38</td>\n",
       "      <td>239</td>\n",
       "      <td>Lera</td>\n",
       "      <td>49203</td>\n",
       "      <td>277</td>\n",
       "      <td>42453</td>\n",
       "      <td>86,28158845</td>\n",
       "      <td>2,827</td>\n",
       "      <td>2,439</td>\n",
       "      <td>1200</td>\n",
       "      <td>100</td>\n",
       "    </tr>\n",
       "    <tr>\n",
       "      <th>1</th>\n",
       "      <td>5</td>\n",
       "      <td>11MC</td>\n",
       "      <td>1</td>\n",
       "      <td>1</td>\n",
       "      <td>M</td>\n",
       "      <td>C</td>\n",
       "      <td>NaN</td>\n",
       "      <td>24</td>\n",
       "      <td>279</td>\n",
       "      <td>Lera</td>\n",
       "      <td>49203</td>\n",
       "      <td>303</td>\n",
       "      <td>45306</td>\n",
       "      <td>92,07920792</td>\n",
       "      <td>0,278</td>\n",
       "      <td>0,256</td>\n",
       "      <td>126</td>\n",
       "      <td>9,83888436</td>\n",
       "    </tr>\n",
       "    <tr>\n",
       "      <th>2</th>\n",
       "      <td>9</td>\n",
       "      <td>11C38</td>\n",
       "      <td>1</td>\n",
       "      <td>1</td>\n",
       "      <td>C</td>\n",
       "      <td>38</td>\n",
       "      <td>40.0</td>\n",
       "      <td>38</td>\n",
       "      <td>239</td>\n",
       "      <td>Lera</td>\n",
       "      <td>49203</td>\n",
       "      <td>277</td>\n",
       "      <td>42453</td>\n",
       "      <td>86,28158845</td>\n",
       "      <td>0,641</td>\n",
       "      <td>0,553</td>\n",
       "      <td>272</td>\n",
       "      <td>22,66666667</td>\n",
       "    </tr>\n",
       "    <tr>\n",
       "      <th>3</th>\n",
       "      <td>13</td>\n",
       "      <td>11M38</td>\n",
       "      <td>1</td>\n",
       "      <td>1</td>\n",
       "      <td>M</td>\n",
       "      <td>38</td>\n",
       "      <td>40.0</td>\n",
       "      <td>24</td>\n",
       "      <td>279</td>\n",
       "      <td>Lera</td>\n",
       "      <td>49203</td>\n",
       "      <td>303</td>\n",
       "      <td>45306</td>\n",
       "      <td>92,07920792</td>\n",
       "      <td>0,022</td>\n",
       "      <td>0,020</td>\n",
       "      <td>10</td>\n",
       "      <td>0,7808638381</td>\n",
       "    </tr>\n",
       "    <tr>\n",
       "      <th>4</th>\n",
       "      <td>3</td>\n",
       "      <td>21CC</td>\n",
       "      <td>2</td>\n",
       "      <td>1</td>\n",
       "      <td>C</td>\n",
       "      <td>C</td>\n",
       "      <td>NaN</td>\n",
       "      <td>21</td>\n",
       "      <td>275</td>\n",
       "      <td>Lera</td>\n",
       "      <td>66528</td>\n",
       "      <td>296</td>\n",
       "      <td>61808</td>\n",
       "      <td>92,90540541</td>\n",
       "      <td>3,721</td>\n",
       "      <td>3,457</td>\n",
       "      <td>2300</td>\n",
       "      <td>100</td>\n",
       "    </tr>\n",
       "    <tr>\n",
       "      <th>5</th>\n",
       "      <td>7</td>\n",
       "      <td>21MC</td>\n",
       "      <td>2</td>\n",
       "      <td>1</td>\n",
       "      <td>M</td>\n",
       "      <td>C</td>\n",
       "      <td>NaN</td>\n",
       "      <td>41</td>\n",
       "      <td>263</td>\n",
       "      <td>Lera</td>\n",
       "      <td>66528</td>\n",
       "      <td>304</td>\n",
       "      <td>57555</td>\n",
       "      <td>86,51315789</td>\n",
       "      <td>0,047</td>\n",
       "      <td>0,041</td>\n",
       "      <td>27</td>\n",
       "      <td>1,260650632</td>\n",
       "    </tr>\n",
       "    <tr>\n",
       "      <th>6</th>\n",
       "      <td>11</td>\n",
       "      <td>21C38</td>\n",
       "      <td>2</td>\n",
       "      <td>1</td>\n",
       "      <td>C</td>\n",
       "      <td>38</td>\n",
       "      <td>40.0</td>\n",
       "      <td>21</td>\n",
       "      <td>275</td>\n",
       "      <td>Lera</td>\n",
       "      <td>66528</td>\n",
       "      <td>296</td>\n",
       "      <td>61808</td>\n",
       "      <td>92,90540541</td>\n",
       "      <td>0,235</td>\n",
       "      <td>0,218</td>\n",
       "      <td>145</td>\n",
       "      <td>6,304347826</td>\n",
       "    </tr>\n",
       "    <tr>\n",
       "      <th>7</th>\n",
       "      <td>15</td>\n",
       "      <td>21M38</td>\n",
       "      <td>2</td>\n",
       "      <td>1</td>\n",
       "      <td>M</td>\n",
       "      <td>38</td>\n",
       "      <td>40.0</td>\n",
       "      <td>41</td>\n",
       "      <td>263</td>\n",
       "      <td>Lera</td>\n",
       "      <td>66528</td>\n",
       "      <td>304</td>\n",
       "      <td>57555</td>\n",
       "      <td>86,51315789</td>\n",
       "      <td>0,205</td>\n",
       "      <td>0,177</td>\n",
       "      <td>118</td>\n",
       "      <td>5,509510171</td>\n",
       "    </tr>\n",
       "    <tr>\n",
       "      <th>8</th>\n",
       "      <td>2</td>\n",
       "      <td>12CC</td>\n",
       "      <td>1</td>\n",
       "      <td>2</td>\n",
       "      <td>C</td>\n",
       "      <td>C</td>\n",
       "      <td>NaN</td>\n",
       "      <td>31</td>\n",
       "      <td>284</td>\n",
       "      <td>Lera</td>\n",
       "      <td>48510</td>\n",
       "      <td>315</td>\n",
       "      <td>43736</td>\n",
       "      <td>90,15873016</td>\n",
       "      <td>13,719</td>\n",
       "      <td>12,369</td>\n",
       "      <td>6000</td>\n",
       "      <td>100</td>\n",
       "    </tr>\n",
       "    <tr>\n",
       "      <th>9</th>\n",
       "      <td>6</td>\n",
       "      <td>12MC</td>\n",
       "      <td>1</td>\n",
       "      <td>2</td>\n",
       "      <td>M</td>\n",
       "      <td>C</td>\n",
       "      <td>NaN</td>\n",
       "      <td>144</td>\n",
       "      <td>189</td>\n",
       "      <td>Lera</td>\n",
       "      <td>49203</td>\n",
       "      <td>333</td>\n",
       "      <td>27926</td>\n",
       "      <td>56,75675676</td>\n",
       "      <td>0,039</td>\n",
       "      <td>0,022</td>\n",
       "      <td>11</td>\n",
       "      <td>0,2871252205</td>\n",
       "    </tr>\n",
       "    <tr>\n",
       "      <th>10</th>\n",
       "      <td>10</td>\n",
       "      <td>12C38</td>\n",
       "      <td>1</td>\n",
       "      <td>2</td>\n",
       "      <td>C</td>\n",
       "      <td>38</td>\n",
       "      <td>40.0</td>\n",
       "      <td>31</td>\n",
       "      <td>284</td>\n",
       "      <td>Lera</td>\n",
       "      <td>48510</td>\n",
       "      <td>315</td>\n",
       "      <td>43736</td>\n",
       "      <td>90,15873016</td>\n",
       "      <td>0,002</td>\n",
       "      <td>0,002</td>\n",
       "      <td>1</td>\n",
       "      <td>0,01666666667</td>\n",
       "    </tr>\n",
       "    <tr>\n",
       "      <th>11</th>\n",
       "      <td>14</td>\n",
       "      <td>12M38</td>\n",
       "      <td>1</td>\n",
       "      <td>2</td>\n",
       "      <td>M</td>\n",
       "      <td>38</td>\n",
       "      <td>40.0</td>\n",
       "      <td>144</td>\n",
       "      <td>189</td>\n",
       "      <td>Lera</td>\n",
       "      <td>49203</td>\n",
       "      <td>333</td>\n",
       "      <td>27926</td>\n",
       "      <td>56,75675676</td>\n",
       "      <td>0,039</td>\n",
       "      <td>0,022</td>\n",
       "      <td>11</td>\n",
       "      <td>0,2871252205</td>\n",
       "    </tr>\n",
       "    <tr>\n",
       "      <th>12</th>\n",
       "      <td>4</td>\n",
       "      <td>22CC</td>\n",
       "      <td>2</td>\n",
       "      <td>2</td>\n",
       "      <td>C</td>\n",
       "      <td>C</td>\n",
       "      <td>NaN</td>\n",
       "      <td>26</td>\n",
       "      <td>240</td>\n",
       "      <td>Lera</td>\n",
       "      <td>66528</td>\n",
       "      <td>266</td>\n",
       "      <td>60025</td>\n",
       "      <td>90,22556391</td>\n",
       "      <td>0,333</td>\n",
       "      <td>0,301</td>\n",
       "      <td>200</td>\n",
       "      <td>100</td>\n",
       "    </tr>\n",
       "    <tr>\n",
       "      <th>13</th>\n",
       "      <td>8</td>\n",
       "      <td>22MC</td>\n",
       "      <td>2</td>\n",
       "      <td>2</td>\n",
       "      <td>M</td>\n",
       "      <td>C</td>\n",
       "      <td>NaN</td>\n",
       "      <td>20</td>\n",
       "      <td>286</td>\n",
       "      <td>Lera</td>\n",
       "      <td>65835</td>\n",
       "      <td>306</td>\n",
       "      <td>61532</td>\n",
       "      <td>93,46405229</td>\n",
       "      <td>3,250</td>\n",
       "      <td>3,038</td>\n",
       "      <td>2000</td>\n",
       "      <td>975,5120226</td>\n",
       "    </tr>\n",
       "    <tr>\n",
       "      <th>14</th>\n",
       "      <td>12</td>\n",
       "      <td>22C38</td>\n",
       "      <td>2</td>\n",
       "      <td>2</td>\n",
       "      <td>C</td>\n",
       "      <td>38</td>\n",
       "      <td>40.0</td>\n",
       "      <td>26</td>\n",
       "      <td>240</td>\n",
       "      <td>Lera</td>\n",
       "      <td>66528</td>\n",
       "      <td>266</td>\n",
       "      <td>60025</td>\n",
       "      <td>90,22556391</td>\n",
       "      <td>0,068</td>\n",
       "      <td>0,062</td>\n",
       "      <td>41</td>\n",
       "      <td>20,5</td>\n",
       "    </tr>\n",
       "    <tr>\n",
       "      <th>15</th>\n",
       "      <td>16</td>\n",
       "      <td>22M38</td>\n",
       "      <td>2</td>\n",
       "      <td>2</td>\n",
       "      <td>M</td>\n",
       "      <td>38</td>\n",
       "      <td>40.0</td>\n",
       "      <td>20</td>\n",
       "      <td>286</td>\n",
       "      <td>Lera</td>\n",
       "      <td>65835</td>\n",
       "      <td>306</td>\n",
       "      <td>61532</td>\n",
       "      <td>93,46405229</td>\n",
       "      <td>0,007</td>\n",
       "      <td>0,006</td>\n",
       "      <td>4</td>\n",
       "      <td>1,951024045</td>\n",
       "    </tr>\n",
       "  </tbody>\n",
       "</table>\n",
       "</div>"
      ],
      "text/plain": [
       "     №   CODE  FEMALE  MALE MUT TEMP  TIME  DEAD  FERT FERT_NAME  TOTAL  \\\n",
       "0    1   11CC       1     1   C    C   NaN    38   239      Lera  49203   \n",
       "1    5   11MC       1     1   M    C   NaN    24   279      Lera  49203   \n",
       "2    9  11C38       1     1   C   38  40.0    38   239      Lera  49203   \n",
       "3   13  11M38       1     1   M   38  40.0    24   279      Lera  49203   \n",
       "4    3   21CC       2     1   C    C   NaN    21   275      Lera  66528   \n",
       "5    7   21MC       2     1   M    C   NaN    41   263      Lera  66528   \n",
       "6   11  21C38       2     1   C   38  40.0    21   275      Lera  66528   \n",
       "7   15  21M38       2     1   M   38  40.0    41   263      Lera  66528   \n",
       "8    2   12CC       1     2   C    C   NaN    31   284      Lera  48510   \n",
       "9    6   12MC       1     2   M    C   NaN   144   189      Lera  49203   \n",
       "10  10  12C38       1     2   C   38  40.0    31   284      Lera  48510   \n",
       "11  14  12M38       1     2   M   38  40.0   144   189      Lera  49203   \n",
       "12   4   22CC       2     2   C    C   NaN    26   240      Lera  66528   \n",
       "13   8   22MC       2     2   M    C   NaN    20   286      Lera  65835   \n",
       "14  12  22C38       2     2   C   38  40.0    26   240      Lera  66528   \n",
       "15  16  22M38       2     2   M   38  40.0    20   286      Lera  65835   \n",
       "\n",
       "    TOTAL_SAMPLE  FERT.1    FERT_PERC SWIM_PERC_FERT SWIM_PERC_TOTAL  SWIM  \\\n",
       "0            277   42453  86,28158845          2,827           2,439  1200   \n",
       "1            303   45306  92,07920792          0,278           0,256   126   \n",
       "2            277   42453  86,28158845          0,641           0,553   272   \n",
       "3            303   45306  92,07920792          0,022           0,020    10   \n",
       "4            296   61808  92,90540541          3,721           3,457  2300   \n",
       "5            304   57555  86,51315789          0,047           0,041    27   \n",
       "6            296   61808  92,90540541          0,235           0,218   145   \n",
       "7            304   57555  86,51315789          0,205           0,177   118   \n",
       "8            315   43736  90,15873016         13,719          12,369  6000   \n",
       "9            333   27926  56,75675676          0,039           0,022    11   \n",
       "10           315   43736  90,15873016          0,002           0,002     1   \n",
       "11           333   27926  56,75675676          0,039           0,022    11   \n",
       "12           266   60025  90,22556391          0,333           0,301   200   \n",
       "13           306   61532  93,46405229          3,250           3,038  2000   \n",
       "14           266   60025  90,22556391          0,068           0,062    41   \n",
       "15           306   61532  93,46405229          0,007           0,006     4   \n",
       "\n",
       "   SWIM_PERC_FERT_NORM  \n",
       "0                  100  \n",
       "1           9,83888436  \n",
       "2          22,66666667  \n",
       "3         0,7808638381  \n",
       "4                  100  \n",
       "5          1,260650632  \n",
       "6          6,304347826  \n",
       "7          5,509510171  \n",
       "8                  100  \n",
       "9         0,2871252205  \n",
       "10       0,01666666667  \n",
       "11        0,2871252205  \n",
       "12                 100  \n",
       "13         975,5120226  \n",
       "14                20,5  \n",
       "15         1,951024045  "
      ]
     },
     "execution_count": 93,
     "metadata": {},
     "output_type": "execute_result"
    }
   ],
   "source": [
    "exp5fac"
   ]
  },
  {
   "cell_type": "code",
   "execution_count": 94,
   "id": "ac034eef",
   "metadata": {},
   "outputs": [],
   "source": [
    "exp5fac.FEMALE = exp5fac.FEMALE.astype(str)\n",
    "exp5fac.MALE = exp5fac.MALE.astype(str)\n",
    "exp5fac.TEMP = exp5fac.TEMP.astype(str)\n",
    "\n",
    "exp5fac.FERT_PERC = exp5fac.FERT_PERC.str.replace(',', '.')\n",
    "exp5fac.FERT_PERC = pd.to_numeric(exp5fac.FERT_PERC)\n",
    "\n",
    "exp5fac.SWIM_PERC_FERT = exp5fac.SWIM_PERC_FERT.str.replace(',', '.')\n",
    "exp5fac.SWIM_PERC_FERT = pd.to_numeric(exp5fac.SWIM_PERC_FERT)\n",
    "\n",
    "exp5fac.SWIM_PERC_FERT_NORM = exp5fac.SWIM_PERC_FERT_NORM.str.replace(',', '.')\n",
    "exp5fac.SWIM_PERC_FERT_NORM = pd.to_numeric(exp5fac.SWIM_PERC_FERT_NORM)"
   ]
  },
  {
   "cell_type": "code",
   "execution_count": 95,
   "id": "498631ab",
   "metadata": {},
   "outputs": [],
   "source": [
    "exp5fac['FAMILY'] = exp5fac.FEMALE + exp5fac.MALE\n",
    "exp5fac['CODE_COND'] = exp5fac.MUT + exp5fac.TEMP"
   ]
  },
  {
   "cell_type": "markdown",
   "id": "ccce892f",
   "metadata": {},
   "source": [
    "### FIND OUTLIERS"
   ]
  },
  {
   "cell_type": "code",
   "execution_count": 134,
   "id": "b1291006",
   "metadata": {},
   "outputs": [
    {
     "data": {
      "text/plain": [
       "Series([], Name: FERT.1, dtype: int64)"
      ]
     },
     "execution_count": 134,
     "metadata": {},
     "output_type": "execute_result"
    }
   ],
   "source": [
    "find_outliers_IQR(exp5fac['FERT.1'])"
   ]
  },
  {
   "cell_type": "code",
   "execution_count": 132,
   "id": "81d28c50",
   "metadata": {},
   "outputs": [
    {
     "data": {
      "text/plain": [
       "9     56.756757\n",
       "11    56.756757\n",
       "Name: FERT_PERC, dtype: float64"
      ]
     },
     "execution_count": 132,
     "metadata": {},
     "output_type": "execute_result"
    }
   ],
   "source": [
    "find_outliers_IQR(exp5fac['FERT_PERC'])"
   ]
  },
  {
   "cell_type": "code",
   "execution_count": 135,
   "id": "5b39208c",
   "metadata": {},
   "outputs": [
    {
     "data": {
      "text/plain": [
       "4     2300\n",
       "8     6000\n",
       "13    2000\n",
       "Name: SWIM, dtype: int64"
      ]
     },
     "execution_count": 135,
     "metadata": {},
     "output_type": "execute_result"
    }
   ],
   "source": [
    "find_outliers_IQR(exp5fac['SWIM'])"
   ]
  },
  {
   "cell_type": "code",
   "execution_count": 137,
   "id": "095e6d4f",
   "metadata": {},
   "outputs": [
    {
     "data": {
      "text/plain": [
       "4      3.721\n",
       "8     13.719\n",
       "13     3.250\n",
       "Name: SWIM_PERC_FERT, dtype: float64"
      ]
     },
     "execution_count": 137,
     "metadata": {},
     "output_type": "execute_result"
    }
   ],
   "source": [
    "find_outliers_IQR(exp5fac['SWIM_PERC_FERT'])"
   ]
  },
  {
   "cell_type": "code",
   "execution_count": 138,
   "id": "ab6424e9",
   "metadata": {},
   "outputs": [
    {
     "data": {
      "text/plain": [
       "<AxesSubplot: >"
      ]
     },
     "execution_count": 138,
     "metadata": {},
     "output_type": "execute_result"
    },
    {
     "data": {
      "image/png": "[encoded data removed]",
      "text/plain": [
       "<Figure size 1000x600 with 1 Axes>"
      ]
     },
     "metadata": {},
     "output_type": "display_data"
    }
   ],
   "source": [
    "sns.boxplot(exp5fac[['FERT.1', 'FERT_PERC', 'SWIM', 'SWIM_PERC_FERT']])"
   ]
  },
  {
   "cell_type": "markdown",
   "id": "617c5330",
   "metadata": {},
   "source": [
    "### DRAW PLOT"
   ]
  },
  {
   "cell_type": "code",
   "execution_count": 96,
   "id": "71b89b54",
   "metadata": {},
   "outputs": [],
   "source": [
    "exp_11 = exp5fac[exp5fac['CODE'] == '11C38'].SWIM_PERC_FERT_NORM.mean() * exp5fac[exp5fac['CODE'] == '11MC'].SWIM_PERC_FERT_NORM.mean() / 100\n",
    "exp_21 = exp5fac[exp5fac['CODE'] == '21C38'].SWIM_PERC_FERT_NORM.mean() * exp5fac[exp5fac['CODE'] == '21MC'].SWIM_PERC_FERT_NORM.mean() / 100"
   ]
  },
  {
   "cell_type": "code",
   "execution_count": 97,
   "id": "8f362f2b",
   "metadata": {},
   "outputs": [
    {
     "data": {
      "text/plain": [
       "''"
      ]
     },
     "execution_count": 97,
     "metadata": {},
     "output_type": "execute_result"
    },
    {
     "data": {
      "image/png": "[encoded data removed]",
      "text/plain": [
       "<Figure size 600x300 with 2 Axes>"
      ]
     },
     "metadata": {},
     "output_type": "display_data"
    }
   ],
   "source": [
    "g = sns.FacetGrid(exp5fac[(exp5fac['FAMILY'] == '11') | (exp5fac['FAMILY'] == '21')], col=\"FAMILY\")\n",
    "g.map(sns.barplot, 'CODE_COND', 'SWIM_PERC_FERT_NORM', order=['CC', 'C38', 'MC', 'M38'])\n",
    "\n",
    "ax1, ax2 = g.axes[0]\n",
    "ax1.axhline(exp_11, xmin=0.75, ls='--', color='orange')\n",
    "ax2.axhline(exp_21, xmin=0.75, ls='--', color='orange')\n",
    ";"
   ]
  },
  {
   "cell_type": "code",
   "execution_count": 98,
   "id": "8316c6d1",
   "metadata": {},
   "outputs": [],
   "source": [
    "exp_11_common = exp5fac[exp5fac['CODE'] == '11C38'].SWIM_PERC_FERT.mean() * exp5fac[exp5fac['CODE'] == '11MC'].SWIM_PERC_FERT.mean() / 100\n",
    "exp_12_common = exp5fac[exp5fac['CODE'] == '12C38'].SWIM_PERC_FERT.mean() * exp5fac[exp5fac['CODE'] == '12MC'].SWIM_PERC_FERT.mean() / 100\n",
    "exp_21_common = exp5fac[exp5fac['CODE'] == '21C38'].SWIM_PERC_FERT.mean() * exp5fac[exp5fac['CODE'] == '21MC'].SWIM_PERC_FERT.mean() / 100\n",
    "exp_22_common = exp5fac[exp5fac['CODE'] == '22C38'].SWIM_PERC_FERT.mean() * exp5fac[exp5fac['CODE'] == '22MC'].SWIM_PERC_FERT.mean() / 100"
   ]
  },
  {
   "cell_type": "code",
   "execution_count": 101,
   "id": "028e06c8",
   "metadata": {},
   "outputs": [
    {
     "data": {
      "image/png": "[encoded data removed]",
      "text/plain": [
       "<Figure size 1200x300 with 4 Axes>"
      ]
     },
     "metadata": {},
     "output_type": "display_data"
    }
   ],
   "source": [
    "g = sns.FacetGrid(exp5fac, col=\"FAMILY\")\n",
    "g.map(sns.barplot, 'CODE_COND', 'SWIM_PERC_FERT', order=['CC', 'C38', 'MC', 'M38'])\n",
    "\n",
    "ax1, ax2, ax3, ax4 = g.axes[0]\n",
    "ax1.axhline(exp_11_common, xmin=0.75, ls='--', color='orange')\n",
    "ax2.axhline(exp_12_common, xmin=0.75, ls='--', color='orange')\n",
    "ax3.axhline(exp_21_common, xmin=0.75, ls='--', color='orange')\n",
    "ax4.axhline(exp_22_common, xmin=0.75, ls='--', color='orange');"
   ]
  },
  {
   "cell_type": "markdown",
   "id": "fff283d8",
   "metadata": {},
   "source": [
    "# EXP 8 main factory"
   ]
  },
  {
   "cell_type": "code",
   "execution_count": 122,
   "id": "2ac19c6c",
   "metadata": {},
   "outputs": [],
   "source": [
    "sheet_id = '1aqHnDaiRXntyrbj6qaqzR-4XnLbvtKU84FB_JLu5x5A'\n",
    "sheet_name = 'EXP_8_second_main_factory'\n",
    "url = f'https://docs.google.com/spreadsheets/d/{sheet_id}/gviz/tq?tqx=out:csv&sheet={sheet_name}'\n",
    "exp8fac = pd.read_csv(url)"
   ]
  },
  {
   "cell_type": "code",
   "execution_count": 123,
   "id": "3e1eda65",
   "metadata": {},
   "outputs": [],
   "source": [
    "exp8fac.TEMP = exp8fac.TEMP.astype(str)\n",
    "\n",
    "exp8fac.FERT_PERC = exp8fac.FERT_PERC.str.replace(',', '.')\n",
    "exp8fac.FERT_PERC = pd.to_numeric(exp8fac.FERT_PERC)\n",
    "\n",
    "exp8fac.SWIM_PERC_FERT = exp8fac.SWIM_PERC_FERT.str.replace(',', '.')\n",
    "exp8fac.SWIM_PERC_FERT = pd.to_numeric(exp8fac.SWIM_PERC_FERT)\n",
    "\n",
    "exp8fac.SWIM_PERC_FERT_NORM = exp8fac.SWIM_PERC_FERT_NORM.str.replace(',', '.')\n",
    "exp8fac.SWIM_PERC_FERT_NORM = pd.to_numeric(exp8fac.SWIM_PERC_FERT_NORM)"
   ]
  },
  {
   "cell_type": "code",
   "execution_count": 124,
   "id": "c9dfeff1",
   "metadata": {},
   "outputs": [],
   "source": [
    "exp8fac = exp8fac.iloc[9:13,]"
   ]
  },
  {
   "cell_type": "code",
   "execution_count": 125,
   "id": "ffc1c0c3",
   "metadata": {},
   "outputs": [
    {
     "data": {
      "text/html": [
       "<div>\n",
       "<style scoped>\n",
       "    .dataframe tbody tr th:only-of-type {\n",
       "        vertical-align: middle;\n",
       "    }\n",
       "\n",
       "    .dataframe tbody tr th {\n",
       "        vertical-align: top;\n",
       "    }\n",
       "\n",
       "    .dataframe thead th {\n",
       "        text-align: right;\n",
       "    }\n",
       "</style>\n",
       "<table border=\"1\" class=\"dataframe\">\n",
       "  <thead>\n",
       "    <tr style=\"text-align: right;\">\n",
       "      <th></th>\n",
       "      <th>№</th>\n",
       "      <th>CODE</th>\n",
       "      <th>MUT</th>\n",
       "      <th>TEMP</th>\n",
       "      <th>TIME</th>\n",
       "      <th>DEAD</th>\n",
       "      <th>FERT</th>\n",
       "      <th>FERT_NAME</th>\n",
       "      <th>TOTAL</th>\n",
       "      <th>TOTAL_SAMPLE</th>\n",
       "      <th>FERT.1</th>\n",
       "      <th>FERT_PERC</th>\n",
       "      <th>SWIM_PERC_FERT</th>\n",
       "      <th>SWIM_PERC_TOTAL</th>\n",
       "      <th>SWIM</th>\n",
       "      <th>SWIM_PERC_FERT_NORM</th>\n",
       "      <th>SWIM_PERC_TOTAL_NORM</th>\n",
       "    </tr>\n",
       "  </thead>\n",
       "  <tbody>\n",
       "    <tr>\n",
       "      <th>9</th>\n",
       "      <td>NaN</td>\n",
       "      <td>CC</td>\n",
       "      <td>C</td>\n",
       "      <td>nan</td>\n",
       "      <td>0</td>\n",
       "      <td>NaN</td>\n",
       "      <td>NaN</td>\n",
       "      <td>NaN</td>\n",
       "      <td>629244.0</td>\n",
       "      <td>NaN</td>\n",
       "      <td>274053.0</td>\n",
       "      <td>43.552805</td>\n",
       "      <td>43.787085</td>\n",
       "      <td>19,07050365</td>\n",
       "      <td>120000.0</td>\n",
       "      <td>100.000000</td>\n",
       "      <td>100</td>\n",
       "    </tr>\n",
       "    <tr>\n",
       "      <th>10</th>\n",
       "      <td>NaN</td>\n",
       "      <td>C38</td>\n",
       "      <td>C</td>\n",
       "      <td>38.0</td>\n",
       "      <td>40</td>\n",
       "      <td>NaN</td>\n",
       "      <td>NaN</td>\n",
       "      <td>NaN</td>\n",
       "      <td>629244.0</td>\n",
       "      <td>NaN</td>\n",
       "      <td>274053.0</td>\n",
       "      <td>43.552805</td>\n",
       "      <td>31.745636</td>\n",
       "      <td>13,82611515</td>\n",
       "      <td>87000.0</td>\n",
       "      <td>72.500000</td>\n",
       "      <td>72,5</td>\n",
       "    </tr>\n",
       "    <tr>\n",
       "      <th>11</th>\n",
       "      <td>NaN</td>\n",
       "      <td>MC</td>\n",
       "      <td>M</td>\n",
       "      <td>nan</td>\n",
       "      <td>0</td>\n",
       "      <td>NaN</td>\n",
       "      <td>NaN</td>\n",
       "      <td>NaN</td>\n",
       "      <td>629244.0</td>\n",
       "      <td>NaN</td>\n",
       "      <td>339140.0</td>\n",
       "      <td>53.896430</td>\n",
       "      <td>11.794537</td>\n",
       "      <td>6,356834551</td>\n",
       "      <td>40000.0</td>\n",
       "      <td>26.936110</td>\n",
       "      <td>33,33333333</td>\n",
       "    </tr>\n",
       "    <tr>\n",
       "      <th>12</th>\n",
       "      <td>NaN</td>\n",
       "      <td>M38</td>\n",
       "      <td>M</td>\n",
       "      <td>38.0</td>\n",
       "      <td>40</td>\n",
       "      <td>NaN</td>\n",
       "      <td>NaN</td>\n",
       "      <td>NaN</td>\n",
       "      <td>629244.0</td>\n",
       "      <td>NaN</td>\n",
       "      <td>339140.0</td>\n",
       "      <td>53.896430</td>\n",
       "      <td>2.358907</td>\n",
       "      <td>1,27136691</td>\n",
       "      <td>8000.0</td>\n",
       "      <td>5.387222</td>\n",
       "      <td>6,666666667</td>\n",
       "    </tr>\n",
       "  </tbody>\n",
       "</table>\n",
       "</div>"
      ],
      "text/plain": [
       "     № CODE MUT  TEMP  TIME  DEAD  FERT FERT_NAME     TOTAL  TOTAL_SAMPLE  \\\n",
       "9  NaN   CC   C   nan     0   NaN   NaN       NaN  629244.0           NaN   \n",
       "10 NaN  C38   C  38.0    40   NaN   NaN       NaN  629244.0           NaN   \n",
       "11 NaN   MC   M   nan     0   NaN   NaN       NaN  629244.0           NaN   \n",
       "12 NaN  M38   M  38.0    40   NaN   NaN       NaN  629244.0           NaN   \n",
       "\n",
       "      FERT.1  FERT_PERC  SWIM_PERC_FERT SWIM_PERC_TOTAL      SWIM  \\\n",
       "9   274053.0  43.552805       43.787085     19,07050365  120000.0   \n",
       "10  274053.0  43.552805       31.745636     13,82611515   87000.0   \n",
       "11  339140.0  53.896430       11.794537     6,356834551   40000.0   \n",
       "12  339140.0  53.896430        2.358907      1,27136691    8000.0   \n",
       "\n",
       "    SWIM_PERC_FERT_NORM SWIM_PERC_TOTAL_NORM  \n",
       "9            100.000000                  100  \n",
       "10            72.500000                 72,5  \n",
       "11            26.936110          33,33333333  \n",
       "12             5.387222          6,666666667  "
      ]
     },
     "execution_count": 125,
     "metadata": {},
     "output_type": "execute_result"
    }
   ],
   "source": [
    "exp8fac"
   ]
  },
  {
   "cell_type": "code",
   "execution_count": 126,
   "id": "4e7dbaff",
   "metadata": {},
   "outputs": [],
   "source": [
    "exp8fac['CODE_COND'] = exp8fac.CODE.str.replace('1', '').str.replace('2', '')"
   ]
  },
  {
   "cell_type": "markdown",
   "id": "317bd57e",
   "metadata": {},
   "source": [
    "### FIND OUTLIERS"
   ]
  },
  {
   "cell_type": "code",
   "execution_count": 139,
   "id": "d92dbdac",
   "metadata": {},
   "outputs": [
    {
     "data": {
      "text/plain": [
       "Series([], Name: FERT.1, dtype: float64)"
      ]
     },
     "execution_count": 139,
     "metadata": {},
     "output_type": "execute_result"
    }
   ],
   "source": [
    "find_outliers_IQR(exp8fac['FERT.1'])"
   ]
  },
  {
   "cell_type": "code",
   "execution_count": 140,
   "id": "f068b2da",
   "metadata": {},
   "outputs": [
    {
     "data": {
      "text/plain": [
       "Series([], Name: FERT_PERC, dtype: float64)"
      ]
     },
     "execution_count": 140,
     "metadata": {},
     "output_type": "execute_result"
    }
   ],
   "source": [
    "find_outliers_IQR(exp8fac['FERT_PERC'])"
   ]
  },
  {
   "cell_type": "code",
   "execution_count": 141,
   "id": "7225bc3d",
   "metadata": {},
   "outputs": [
    {
     "data": {
      "text/plain": [
       "Series([], Name: SWIM, dtype: float64)"
      ]
     },
     "execution_count": 141,
     "metadata": {},
     "output_type": "execute_result"
    }
   ],
   "source": [
    "find_outliers_IQR(exp8fac['SWIM'])"
   ]
  },
  {
   "cell_type": "code",
   "execution_count": 142,
   "id": "2ed27947",
   "metadata": {},
   "outputs": [
    {
     "data": {
      "text/plain": [
       "Series([], Name: SWIM_PERC_FERT, dtype: float64)"
      ]
     },
     "execution_count": 142,
     "metadata": {},
     "output_type": "execute_result"
    }
   ],
   "source": [
    "find_outliers_IQR(exp8fac['SWIM_PERC_FERT'])"
   ]
  },
  {
   "cell_type": "code",
   "execution_count": 143,
   "id": "aad1da5d",
   "metadata": {},
   "outputs": [
    {
     "data": {
      "text/plain": [
       "<AxesSubplot: >"
      ]
     },
     "execution_count": 143,
     "metadata": {},
     "output_type": "execute_result"
    },
    {
     "data": {
      "image/png": "[encoded data removed]",
      "text/plain": [
       "<Figure size 1000x600 with 1 Axes>"
      ]
     },
     "metadata": {},
     "output_type": "display_data"
    }
   ],
   "source": [
    "sns.boxplot(exp8fac[['FERT.1', 'FERT_PERC', 'SWIM', 'SWIM_PERC_FERT']])"
   ]
  },
  {
   "cell_type": "markdown",
   "id": "4d9b1acd",
   "metadata": {},
   "source": [
    "### DRAW PLOT"
   ]
  },
  {
   "cell_type": "code",
   "execution_count": 127,
   "id": "2ee9406a",
   "metadata": {},
   "outputs": [],
   "source": [
    "expected_8 = exp8fac[exp8fac['CODE_COND'] == 'C38'].SWIM_PERC_FERT_NORM.mean() * exp8fac[exp8fac['CODE_COND'] == 'MC'].SWIM_PERC_FERT_NORM.mean() / 100"
   ]
  },
  {
   "cell_type": "code",
   "execution_count": 130,
   "id": "38c38204",
   "metadata": {},
   "outputs": [
    {
     "data": {
      "text/plain": [
       "<matplotlib.lines.Line2D at 0x177ba1360>"
      ]
     },
     "execution_count": 130,
     "metadata": {},
     "output_type": "execute_result"
    },
    {
     "data": {
      "image/png": "[encoded data removed]",
      "text/plain": [
       "<Figure size 1000x600 with 1 Axes>"
      ]
     },
     "metadata": {},
     "output_type": "display_data"
    }
   ],
   "source": [
    "sns.barplot(exp8fac, x='CODE_COND', y='SWIM_PERC_FERT_NORM')\n",
    "plt.axhline(y=expected_8, xmin=0.75, color='orange', ls='--') "
   ]
  },
  {
   "cell_type": "code",
   "execution_count": null,
   "id": "aae7c73c",
   "metadata": {},
   "outputs": [],
   "source": []
  }
 ],
 "metadata": {
  "kernelspec": {
   "display_name": "Python 3 (ipykernel)",
   "language": "python",
   "name": "python3"
  },
  "language_info": {
   "codemirror_mode": {
    "name": "ipython",
    "version": 3
   },
   "file_extension": ".py",
   "mimetype": "text/x-python",
   "name": "python",
   "nbconvert_exporter": "python",
   "pygments_lexer": "ipython3",
   "version": "3.10.8"
  }
 },
 "nbformat": 4,
 "nbformat_minor": 5
}
